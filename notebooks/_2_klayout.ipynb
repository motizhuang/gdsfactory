{
 "cells": [
  {
   "cell_type": "markdown",
   "id": "0a9de7cf-8b74-464b-82cd-f90e1121c19c",
   "metadata": {},
   "source": [
    "# Klayout integration\n",
    "\n",
    "gdsfactory is a pure driven python flow where you define your components, circuits and masks in python or YAML code.\n",
    "\n",
    "For rapid iteration, gdsfactory comes with a Klayout macro `klive` that runs inside klayout, so that when you run `component.show()` in python, it displays your GDS in Klayout.\n",
    "\n",
    "![workflow](https://i.imgur.com/yquTcM7.png)\n"
   ]
  },
  {
   "cell_type": "markdown",
   "id": "02435998-fa3f-416e-9edf-f7eb8063b901",
   "metadata": {},
   "source": [
    "\n",
    "You have 2 ways to install the klayout gdsfactory plugin to be able to see live updates on your GDS files:\n",
    "\n",
    "- from the terminal by typing `gf tool install` after installing gdsfactory `pip install gdsfactory`\n",
    "- using klayout package manager (see image below), Tools --> Manage Packages\n",
    "\n",
    "![klayout package](https://i.imgur.com/AkfcCms.png)"
   ]
  },
  {
   "cell_type": "markdown",
   "id": "cddacdba-f117-4c28-9bf0-f661f46955f7",
   "metadata": {},
   "source": [
    "What does the klayout integration installs?\n",
    "\n",
    "- Klive: connects python to klayout, to show GDS files directly, when running `component.show()`\n",
    "- generic layermap: for the generic gdsfactory technology.\n",
    "- generic DRC: for generic gdsfactory technology\n"
   ]
  },
  {
   "cell_type": "markdown",
   "id": "1cc38bed-289c-4b96-871c-52e001da4840",
   "metadata": {},
   "source": [
    "## Klayout DRC\n",
    "\n",
    "You can write DRC rule decks from gdsfactory and customize the shortcut to run the DRC macro in Klayout."
   ]
  },
  {
   "cell_type": "code",
   "execution_count": 1,
   "id": "190a246a-6b4d-47f2-8b34-874e378793a0",
   "metadata": {
    "execution": {
     "iopub.execute_input": "2022-06-30T06:12:02.778641Z",
     "iopub.status.busy": "2022-06-30T06:12:02.777907Z",
     "iopub.status.idle": "2022-06-30T06:12:04.784351Z",
     "shell.execute_reply": "2022-06-30T06:12:04.783316Z"
    }
   },
   "outputs": [
    {
     "name": "stderr",
     "output_type": "stream",
     "text": [
      "2022-06-30 06:12:03.731 | INFO     | gdsfactory.config:<module>:52 - Load '/home/runner/work/gdsfactory/gdsfactory/gdsfactory' 5.12.4\n"
     ]
    }
   ],
   "source": [
    "import gdsfactory as gf\n",
    "from gdsfactory.geometry.write_drc import (\n",
    "    write_drc_deck_macro,\n",
    "    rule_enclosing,\n",
    "    rule_width,\n",
    "    rule_space,\n",
    "    rule_separation,\n",
    ")"
   ]
  },
  {
   "cell_type": "code",
   "execution_count": 2,
   "id": "7bb73ebc-008d-48fb-8c61-1ee88454f751",
   "metadata": {
    "execution": {
     "iopub.execute_input": "2022-06-30T06:12:04.789436Z",
     "iopub.status.busy": "2022-06-30T06:12:04.788786Z",
     "iopub.status.idle": "2022-06-30T06:12:04.795624Z",
     "shell.execute_reply": "2022-06-30T06:12:04.794791Z"
    }
   },
   "outputs": [
    {
     "name": "stdout",
     "output_type": "stream",
     "text": [
      "Help on function write_drc_deck_macro in module gdsfactory.geometry.write_drc:\n",
      "\n",
      "write_drc_deck_macro(name: str = 'generic', filepath: Union[str, pathlib.Path, NoneType] = None, shortcut: str = 'Ctrl+Shift+D', **kwargs) -> str\n",
      "    Write klayout DRC macro.\n",
      "    You can customize the shortcut to run the DRC macro from the Klayout GUI.\n",
      "    \n",
      "    Args:\n",
      "        name: drc rule deck name\n",
      "        filepath: Optional macro path (defaults to .klayout/drc/name.lydrc)\n",
      "        shortcut: to run macro from klayout GUI\n",
      "    \n",
      "    Keyword Args:\n",
      "        rules: list of rules\n",
      "        layer_map: layer definitions can be dict or dataclass\n",
      "    \n",
      "    Keyword Args:\n",
      "        rules: list of rules\n",
      "        layer_map: layer definitions can be dict or dataclass\n",
      "\n"
     ]
    }
   ],
   "source": [
    "help(write_drc_deck_macro)"
   ]
  },
  {
   "cell_type": "code",
   "execution_count": 3,
   "id": "6570324f-3a2f-4f83-a99b-dfc75fe77551",
   "metadata": {
    "execution": {
     "iopub.execute_input": "2022-06-30T06:12:04.799467Z",
     "iopub.status.busy": "2022-06-30T06:12:04.798963Z",
     "iopub.status.idle": "2022-06-30T06:12:04.806145Z",
     "shell.execute_reply": "2022-06-30T06:12:04.805274Z"
    }
   },
   "outputs": [
    {
     "name": "stderr",
     "output_type": "stream",
     "text": [
      "2022-06-30 06:12:04.802 | INFO     | gdsfactory.geometry.write_drc:write_drc_deck_macro:159 - Wrote DRC deck to '/home/runner/.klayout/drc/generic.lydrc' with shortcut 'Ctrl+Shift+D'\n"
     ]
    }
   ],
   "source": [
    "rules = [\n",
    "    rule_width(layer=\"WG\", value=0.2),\n",
    "    rule_space(layer=\"WG\", value=0.2),\n",
    "    rule_width(layer=\"M1\", value=1),\n",
    "    rule_width(layer=\"M2\", value=2),\n",
    "    rule_space(layer=\"M2\", value=2),\n",
    "    rule_separation(layer1=\"HEATER\", layer2=\"M1\", value=1.0),\n",
    "    rule_enclosing(layer1=\"M1\", layer2=\"VIAC\", value=0.2),\n",
    "]\n",
    "\n",
    "drc_rule_deck = write_drc_deck_macro(\n",
    "    rules=rules,\n",
    "    layer_map=gf.LAYER,\n",
    "    shortcut=\"Ctrl+Shift+D\",\n",
    ")"
   ]
  },
  {
   "cell_type": "markdown",
   "id": "b24a8f10",
   "metadata": {},
   "source": [
    "## Klayout connectivity checks\n",
    "\n",
    "Thanks to [SiEPIC-Tools](https://github.com/SiEPIC/SiEPIC-Tools) klayout macro gdsfactory supports component overlap and connectivity checks.\n",
    "\n",
    "This is enabled by default for any components that use the `strip` cross_section, thanks to having `add_pins=add_pins_siepic` and `add_bbox=add_bbox_siepic` by default.\n",
    "\n",
    "\n",
    "![Siepic](https://i.imgur.com/wHnWxMb.png)"
   ]
  },
  {
   "cell_type": "markdown",
   "id": "b0eca1df",
   "metadata": {},
   "source": []
  }
 ],
 "metadata": {
  "kernelspec": {
   "display_name": "Python 3 (ipykernel)",
   "language": "python",
   "name": "python3"
  },
  "language_info": {
   "codemirror_mode": {
    "name": "ipython",
    "version": 3
   },
   "file_extension": ".py",
   "mimetype": "text/x-python",
   "name": "python",
   "nbconvert_exporter": "python",
   "pygments_lexer": "ipython3",
   "version": "3.9.13"
  }
 },
 "nbformat": 4,
 "nbformat_minor": 5
}
