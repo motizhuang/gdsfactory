{
 "cells": [
  {
   "cell_type": "markdown",
   "id": "1fa09f47-ec17-4d2f-abf1-94400b45731a",
   "metadata": {},
   "source": [
    "# SAX circuit simulator\n",
    "\n",
    "[SAX](https://flaport.github.io/sax/) is a circuit solver written in JAX, writing your component models in SAX enables you not only to get the function values but the gradients, this is useful for circuit optimization.\n",
    "\n",
    "This tutorial has been adapted from SAX tutorial.\n",
    "\n",
    "Note that SAX does not work on Windows, so if you use windows you'll need to run from [WSL](https://docs.microsoft.com/en-us/windows/wsl/) or using docker.\n",
    "\n",
    "You can install sax with pip\n",
    "\n",
    "```\n",
    "! pip install sax\n",
    "```"
   ]
  },
  {
   "cell_type": "code",
   "execution_count": 1,
   "id": "0cbb9797-1aa0-4864-8fd4-bdf6b8718b0c",
   "metadata": {
    "execution": {
     "iopub.execute_input": "2022-06-30T06:15:07.561598Z",
     "iopub.status.busy": "2022-06-30T06:15:07.561315Z",
     "iopub.status.idle": "2022-06-30T06:15:10.119628Z",
     "shell.execute_reply": "2022-06-30T06:15:10.118944Z"
    }
   },
   "outputs": [
    {
     "name": "stderr",
     "output_type": "stream",
     "text": [
      "2022-06-30 06:15:08.394 | INFO     | gdsfactory.config:<module>:52 - Load '/home/runner/work/gdsfactory/gdsfactory/gdsfactory' 5.12.4\n"
     ]
    },
    {
     "name": "stderr",
     "output_type": "stream",
     "text": [
      "2022-06-30 06:15:10.114 | INFO     | gdsfactory.simulation.gmeep:<module>:28 - Meep '1.23.0' installed at ['/usr/share/miniconda/envs/anaconda-client-env/lib/python3.9/site-packages/meep']\n"
     ]
    },
    {
     "name": "stdout",
     "output_type": "stream",
     "text": [
      "Using MPI version 4.0, 1 processes\n"
     ]
    }
   ],
   "source": [
    "import gdsfactory as gf\n",
    "import gdsfactory.simulation.sax as gs\n",
    "import gdsfactory.simulation.modes as gm\n",
    "import matplotlib.pyplot as plt\n",
    "import sax"
   ]
  },
  {
   "cell_type": "markdown",
   "id": "acb023da-1990-4e35-b760-e837ca799d1c",
   "metadata": {},
   "source": [
    "## Scatter *dictionaries*\n",
    "\n",
    "The core datastructure for specifying scatter parameters in SAX is a dictionary... more specifically a dictionary which maps a port combination (2-tuple) to a scatter parameter (or an array of scatter parameters when considering multiple wavelengths for example). Such a specific dictionary mapping is called ann `SDict` in SAX (`SDict ≈ Dict[Tuple[str,str], float]`).\n",
    "\n",
    "Dictionaries are in fact much better suited for characterizing S-parameters than, say, (jax-)numpy arrays due to the inherent sparse nature of scatter parameters. Moreover, dictionaries allow for string indexing, which makes them much more pleasant to use in this context.\n",
    "\n",
    "```\n",
    "o2            o3\n",
    "   \\        /\n",
    "    ========\n",
    "   /        \\\n",
    "o1            o4\n",
    "```"
   ]
  },
  {
   "cell_type": "code",
   "execution_count": 2,
   "id": "2baac9ad-7e2d-4c8e-993c-528928c9f35a",
   "metadata": {
    "execution": {
     "iopub.execute_input": "2022-06-30T06:15:10.122953Z",
     "iopub.status.busy": "2022-06-30T06:15:10.122558Z",
     "iopub.status.idle": "2022-06-30T06:15:10.133024Z",
     "shell.execute_reply": "2022-06-30T06:15:10.132411Z"
    }
   },
   "outputs": [
    {
     "data": {
      "text/plain": [
       "{('o1', 'o4'): 0.7071067811865476,\n",
       " ('o4', 'o1'): 0.7071067811865476,\n",
       " ('o1', 'o3'): 0.7071067811865476j,\n",
       " ('o3', 'o1'): 0.7071067811865476j,\n",
       " ('o2', 'o4'): 0.7071067811865476j,\n",
       " ('o4', 'o2'): 0.7071067811865476j,\n",
       " ('o2', 'o3'): 0.7071067811865476,\n",
       " ('o3', 'o2'): 0.7071067811865476}"
      ]
     },
     "execution_count": 2,
     "metadata": {},
     "output_type": "execute_result"
    }
   ],
   "source": [
    "coupling = 0.5\n",
    "kappa = coupling**0.5\n",
    "tau = (1 - coupling) ** 0.5\n",
    "coupler_dict = {\n",
    "    (\"o1\", \"o4\"): tau,\n",
    "    (\"o4\", \"o1\"): tau,\n",
    "    (\"o1\", \"o3\"): 1j * kappa,\n",
    "    (\"o3\", \"o1\"): 1j * kappa,\n",
    "    (\"o2\", \"o4\"): 1j * kappa,\n",
    "    (\"o4\", \"o2\"): 1j * kappa,\n",
    "    (\"o2\", \"o3\"): tau,\n",
    "    (\"o3\", \"o2\"): tau,\n",
    "}\n",
    "coupler_dict"
   ]
  },
  {
   "cell_type": "markdown",
   "id": "fb6213ba-b169-4b16-8a9b-f38fb1bd918a",
   "metadata": {},
   "source": [
    " it can still be tedious to specify every port in the circuit manually. SAX therefore offers the `reciprocal` function, which auto-fills the reverse connection if the forward connection exist. For example:"
   ]
  },
  {
   "cell_type": "code",
   "execution_count": 3,
   "id": "f62d8110-7f6f-4b88-8167-ffbcdad36019",
   "metadata": {
    "execution": {
     "iopub.execute_input": "2022-06-30T06:15:10.136639Z",
     "iopub.status.busy": "2022-06-30T06:15:10.136430Z",
     "iopub.status.idle": "2022-06-30T06:15:10.141295Z",
     "shell.execute_reply": "2022-06-30T06:15:10.140683Z"
    }
   },
   "outputs": [
    {
     "data": {
      "text/plain": [
       "{('o1', 'o4'): 0.7071067811865476,\n",
       " ('o1', 'o3'): 0.7071067811865476j,\n",
       " ('o2', 'o4'): 0.7071067811865476j,\n",
       " ('o2', 'o3'): 0.7071067811865476,\n",
       " ('o4', 'o1'): 0.7071067811865476,\n",
       " ('o3', 'o1'): 0.7071067811865476j,\n",
       " ('o4', 'o2'): 0.7071067811865476j,\n",
       " ('o3', 'o2'): 0.7071067811865476}"
      ]
     },
     "execution_count": 3,
     "metadata": {},
     "output_type": "execute_result"
    }
   ],
   "source": [
    "coupler_dict = sax.reciprocal(\n",
    "    {\n",
    "        (\"o1\", \"o4\"): tau,\n",
    "        (\"o1\", \"o3\"): 1j * kappa,\n",
    "        (\"o2\", \"o4\"): 1j * kappa,\n",
    "        (\"o2\", \"o3\"): tau,\n",
    "    }\n",
    ")\n",
    "\n",
    "coupler_dict"
   ]
  },
  {
   "cell_type": "markdown",
   "id": "12f9ab3f-8645-4aee-80ac-c6946a9d657e",
   "metadata": {},
   "source": [
    "## Parametrized Models\n",
    "\n",
    "Constructing such an `SDict` is easy, however, usually we're more interested in having parametrized models for our components. To parametrize the coupler `SDict`, just wrap it in a function to obtain a SAX `Model`, which is a keyword-only function mapping to an `SDict`:"
   ]
  },
  {
   "cell_type": "code",
   "execution_count": 4,
   "id": "9aacbe90-b8d7-4cbd-bdad-309e7d34cffa",
   "metadata": {
    "execution": {
     "iopub.execute_input": "2022-06-30T06:15:10.144499Z",
     "iopub.status.busy": "2022-06-30T06:15:10.144290Z",
     "iopub.status.idle": "2022-06-30T06:15:10.149796Z",
     "shell.execute_reply": "2022-06-30T06:15:10.149186Z"
    }
   },
   "outputs": [
    {
     "data": {
      "text/plain": [
       "{('o1', 'o4'): 0.8366600265340756,\n",
       " ('o1', 'o3'): 0.5477225575051661j,\n",
       " ('o2', 'o4'): 0.5477225575051661j,\n",
       " ('o2', 'o3'): 0.8366600265340756,\n",
       " ('o4', 'o1'): 0.8366600265340756,\n",
       " ('o3', 'o1'): 0.5477225575051661j,\n",
       " ('o4', 'o2'): 0.5477225575051661j,\n",
       " ('o3', 'o2'): 0.8366600265340756}"
      ]
     },
     "execution_count": 4,
     "metadata": {},
     "output_type": "execute_result"
    }
   ],
   "source": [
    "def coupler(coupling=0.5) -> sax.SDict:\n",
    "    kappa = coupling**0.5\n",
    "    tau = (1 - coupling) ** 0.5\n",
    "    return sax.reciprocal(\n",
    "        {\n",
    "            (\"o1\", \"o4\"): tau,\n",
    "            (\"o1\", \"o3\"): 1j * kappa,\n",
    "            (\"o2\", \"o4\"): 1j * kappa,\n",
    "            (\"o2\", \"o3\"): tau,\n",
    "        }\n",
    "    )\n",
    "\n",
    "\n",
    "coupler(coupling=0.3)"
   ]
  },
  {
   "cell_type": "code",
   "execution_count": 5,
   "id": "cc3ccb8f-6154-4cd7-8ce0-9b1a5aa8f581",
   "metadata": {
    "execution": {
     "iopub.execute_input": "2022-06-30T06:15:10.152969Z",
     "iopub.status.busy": "2022-06-30T06:15:10.152762Z",
     "iopub.status.idle": "2022-06-30T06:15:10.157738Z",
     "shell.execute_reply": "2022-06-30T06:15:10.157212Z"
    }
   },
   "outputs": [],
   "source": [
    "def waveguide(wl=1.55, wl0=1.55, neff=2.34, ng=3.4, length=10.0, loss=0.0) -> sax.SDict:\n",
    "    dwl = wl - wl0\n",
    "    dneff_dwl = (ng - neff) / wl0\n",
    "    neff = neff - dwl * dneff_dwl\n",
    "    phase = 2 * jnp.pi * neff * length / wl\n",
    "    transmission = 10 ** (-loss * length / 20) * jnp.exp(1j * phase)\n",
    "    return sax.reciprocal(\n",
    "        {\n",
    "            (\"o1\", \"o2\"): transmission,\n",
    "        }\n",
    "    )"
   ]
  },
  {
   "cell_type": "markdown",
   "id": "7e9ca43d-8182-4443-be8d-8c7213a26ed7",
   "metadata": {},
   "source": [
    "## Component Models\n",
    "\n",
    "### Waveguide model\n",
    "\n",
    "You can create a dispersive waveguide model in SAX."
   ]
  },
  {
   "cell_type": "markdown",
   "id": "1432d022-d9da-4f5c-8089-0ace00c1461d",
   "metadata": {},
   "source": [
    "Lets compute the effective index `neff` and group index `ng` for a 1550nm 500nm straight waveguide"
   ]
  },
  {
   "cell_type": "code",
   "execution_count": 6,
   "id": "b9dd95bd-8942-480a-97e2-b481bf256499",
   "metadata": {
    "execution": {
     "iopub.execute_input": "2022-06-30T06:15:10.160922Z",
     "iopub.status.busy": "2022-06-30T06:15:10.160409Z",
     "iopub.status.idle": "2022-06-30T06:15:10.172336Z",
     "shell.execute_reply": "2022-06-30T06:15:10.171730Z"
    }
   },
   "outputs": [
    {
     "name": "stdout",
     "output_type": "stream",
     "text": [
      "2.358261301613378 4.276254924524516\n"
     ]
    }
   ],
   "source": [
    "m = gm.find_mode_dispersion(wavelength=1.55)\n",
    "print(m.neff, m.ng)"
   ]
  },
  {
   "cell_type": "code",
   "execution_count": 7,
   "id": "c2c01486-7d98-4240-9c82-ef6ae112bc34",
   "metadata": {
    "execution": {
     "iopub.execute_input": "2022-06-30T06:15:10.175009Z",
     "iopub.status.busy": "2022-06-30T06:15:10.174803Z",
     "iopub.status.idle": "2022-06-30T06:15:10.177903Z",
     "shell.execute_reply": "2022-06-30T06:15:10.177278Z"
    }
   },
   "outputs": [],
   "source": [
    "straight_sc = gf.partial(gs.models.straight, neff=m.neff, ng=m.ng)"
   ]
  },
  {
   "cell_type": "code",
   "execution_count": 8,
   "id": "b984b918-7b58-44b7-b8f1-32a19ad7f46a",
   "metadata": {
    "execution": {
     "iopub.execute_input": "2022-06-30T06:15:10.180517Z",
     "iopub.status.busy": "2022-06-30T06:15:10.180302Z",
     "iopub.status.idle": "2022-06-30T06:15:10.356414Z",
     "shell.execute_reply": "2022-06-30T06:15:10.355830Z"
    }
   },
   "outputs": [
    {
     "name": "stderr",
     "output_type": "stream",
     "text": [
      "WARNING:absl:No GPU/TPU found, falling back to CPU. (Set TF_CPP_MIN_LOG_LEVEL=0 and rerun for more info.)\n"
     ]
    },
    {
     "data": {
      "text/plain": [
       "(-1.0, 1.0)"
      ]
     },
     "execution_count": 8,
     "metadata": {},
     "output_type": "execute_result"
    },
    {
     "data": {
      "image/png": "[encoded data removed]",
      "text/plain": [
       "<Figure size 432x288 with 1 Axes>"
      ]
     },
     "metadata": {
      "needs_background": "light"
     },
     "output_type": "display_data"
    }
   ],
   "source": [
    "gs.plot_model(straight_sc)\n",
    "plt.ylim(-1, 1)"
   ]
  },
  {
   "cell_type": "code",
   "execution_count": 9,
   "id": "cd9cf620-92df-4e3a-a584-7417223a062c",
   "metadata": {
    "execution": {
     "iopub.execute_input": "2022-06-30T06:15:10.360206Z",
     "iopub.status.busy": "2022-06-30T06:15:10.359832Z",
     "iopub.status.idle": "2022-06-30T06:15:10.467129Z",
     "shell.execute_reply": "2022-06-30T06:15:10.466570Z"
    }
   },
   "outputs": [
    {
     "data": {
      "text/plain": [
       "<AxesSubplot:title={'center':'o1'}, xlabel='wavelength (nm)', ylabel='angle (rad)'>"
      ]
     },
     "execution_count": 9,
     "metadata": {},
     "output_type": "execute_result"
    },
    {
     "data": {
      "image/png": "[encoded data removed]",
      "text/plain": [
       "<Figure size 432x288 with 1 Axes>"
      ]
     },
     "metadata": {
      "needs_background": "light"
     },
     "output_type": "display_data"
    }
   ],
   "source": [
    "gs.plot_model(straight_sc, phase=True)"
   ]
  },
  {
   "cell_type": "markdown",
   "id": "4f665628-5cab-4e25-80a7-35642cbe92d5",
   "metadata": {},
   "source": [
    "### Coupler model"
   ]
  },
  {
   "cell_type": "code",
   "execution_count": 10,
   "id": "281b0de1-ceae-4e04-a004-4de0c94b3bdd",
   "metadata": {
    "execution": {
     "iopub.execute_input": "2022-06-30T06:15:10.471578Z",
     "iopub.status.busy": "2022-06-30T06:15:10.470524Z",
     "iopub.status.idle": "2022-06-30T06:15:10.513758Z",
     "shell.execute_reply": "2022-06-30T06:15:10.513050Z"
    }
   },
   "outputs": [],
   "source": [
    "gm.find_coupling_vs_gap?"
   ]
  },
  {
   "cell_type": "code",
   "execution_count": 11,
   "id": "fb877b9f-a86c-4aa9-973b-5ee361b6dbd5",
   "metadata": {
    "execution": {
     "iopub.execute_input": "2022-06-30T06:15:10.517373Z",
     "iopub.status.busy": "2022-06-30T06:15:10.517129Z",
     "iopub.status.idle": "2022-06-30T06:15:53.787762Z",
     "shell.execute_reply": "2022-06-30T06:15:53.787243Z"
    }
   },
   "outputs": [
    {
     "data": {
      "application/vnd.jupyter.widget-view+json": {
       "model_id": "a0b277f3635f4aa9af331b318dc9851a",
       "version_major": 2,
       "version_minor": 0
      },
      "text/plain": [
       "  0%|          | 0/12 [00:00<?, ?it/s]"
      ]
     },
     "metadata": {},
     "output_type": "display_data"
    },
    {
     "name": "stderr",
     "output_type": "stream",
     "text": [
      "/home/runner/work/gdsfactory/gdsfactory/gdsfactory/types.py:229: ComplexWarning: Casting complex values to real discards the imaginary part\n",
      "  return np.array(val, dtype=cls.inner_type)\n"
     ]
    },
    {
     "data": {
      "text/html": [
       "<div>\n",
       "<style scoped>\n",
       "    .dataframe tbody tr th:only-of-type {\n",
       "        vertical-align: middle;\n",
       "    }\n",
       "\n",
       "    .dataframe tbody tr th {\n",
       "        vertical-align: top;\n",
       "    }\n",
       "\n",
       "    .dataframe thead th {\n",
       "        text-align: right;\n",
       "    }\n",
       "</style>\n",
       "<table border=\"1\" class=\"dataframe\">\n",
       "  <thead>\n",
       "    <tr style=\"text-align: right;\">\n",
       "      <th></th>\n",
       "      <th>gap</th>\n",
       "      <th>ne</th>\n",
       "      <th>no</th>\n",
       "      <th>lc</th>\n",
       "      <th>dn</th>\n",
       "    </tr>\n",
       "  </thead>\n",
       "  <tbody>\n",
       "    <tr>\n",
       "      <th>0</th>\n",
       "      <td>0.200000</td>\n",
       "      <td>2.457895</td>\n",
       "      <td>2.437607</td>\n",
       "      <td>38.198501</td>\n",
       "      <td>0.020289</td>\n",
       "    </tr>\n",
       "    <tr>\n",
       "      <th>1</th>\n",
       "      <td>0.218182</td>\n",
       "      <td>2.459031</td>\n",
       "      <td>2.441121</td>\n",
       "      <td>43.271686</td>\n",
       "      <td>0.017910</td>\n",
       "    </tr>\n",
       "    <tr>\n",
       "      <th>2</th>\n",
       "      <td>0.236364</td>\n",
       "      <td>2.452194</td>\n",
       "      <td>2.437659</td>\n",
       "      <td>53.321719</td>\n",
       "      <td>0.014534</td>\n",
       "    </tr>\n",
       "    <tr>\n",
       "      <th>3</th>\n",
       "      <td>0.254545</td>\n",
       "      <td>2.451947</td>\n",
       "      <td>2.439549</td>\n",
       "      <td>62.508167</td>\n",
       "      <td>0.012398</td>\n",
       "    </tr>\n",
       "    <tr>\n",
       "      <th>4</th>\n",
       "      <td>0.272727</td>\n",
       "      <td>2.451248</td>\n",
       "      <td>2.441058</td>\n",
       "      <td>76.057917</td>\n",
       "      <td>0.010190</td>\n",
       "    </tr>\n",
       "    <tr>\n",
       "      <th>5</th>\n",
       "      <td>0.290909</td>\n",
       "      <td>2.451498</td>\n",
       "      <td>2.442325</td>\n",
       "      <td>84.491808</td>\n",
       "      <td>0.009172</td>\n",
       "    </tr>\n",
       "    <tr>\n",
       "      <th>6</th>\n",
       "      <td>0.309091</td>\n",
       "      <td>2.449446</td>\n",
       "      <td>2.441517</td>\n",
       "      <td>97.740241</td>\n",
       "      <td>0.007929</td>\n",
       "    </tr>\n",
       "    <tr>\n",
       "      <th>7</th>\n",
       "      <td>0.327273</td>\n",
       "      <td>2.447256</td>\n",
       "      <td>2.440698</td>\n",
       "      <td>118.174593</td>\n",
       "      <td>0.006558</td>\n",
       "    </tr>\n",
       "    <tr>\n",
       "      <th>8</th>\n",
       "      <td>0.345455</td>\n",
       "      <td>2.451724</td>\n",
       "      <td>2.446248</td>\n",
       "      <td>141.521577</td>\n",
       "      <td>0.005476</td>\n",
       "    </tr>\n",
       "    <tr>\n",
       "      <th>9</th>\n",
       "      <td>0.363636</td>\n",
       "      <td>2.451128</td>\n",
       "      <td>2.446210</td>\n",
       "      <td>157.605308</td>\n",
       "      <td>0.004917</td>\n",
       "    </tr>\n",
       "    <tr>\n",
       "      <th>10</th>\n",
       "      <td>0.381818</td>\n",
       "      <td>2.445593</td>\n",
       "      <td>2.441408</td>\n",
       "      <td>185.165069</td>\n",
       "      <td>0.004185</td>\n",
       "    </tr>\n",
       "    <tr>\n",
       "      <th>11</th>\n",
       "      <td>0.400000</td>\n",
       "      <td>2.445138</td>\n",
       "      <td>2.441678</td>\n",
       "      <td>224.030086</td>\n",
       "      <td>0.003459</td>\n",
       "    </tr>\n",
       "  </tbody>\n",
       "</table>\n",
       "</div>"
      ],
      "text/plain": [
       "         gap        ne        no          lc        dn\n",
       "0   0.200000  2.457895  2.437607   38.198501  0.020289\n",
       "1   0.218182  2.459031  2.441121   43.271686  0.017910\n",
       "2   0.236364  2.452194  2.437659   53.321719  0.014534\n",
       "3   0.254545  2.451947  2.439549   62.508167  0.012398\n",
       "4   0.272727  2.451248  2.441058   76.057917  0.010190\n",
       "5   0.290909  2.451498  2.442325   84.491808  0.009172\n",
       "6   0.309091  2.449446  2.441517   97.740241  0.007929\n",
       "7   0.327273  2.447256  2.440698  118.174593  0.006558\n",
       "8   0.345455  2.451724  2.446248  141.521577  0.005476\n",
       "9   0.363636  2.451128  2.446210  157.605308  0.004917\n",
       "10  0.381818  2.445593  2.441408  185.165069  0.004185\n",
       "11  0.400000  2.445138  2.441678  224.030086  0.003459"
      ]
     },
     "execution_count": 11,
     "metadata": {},
     "output_type": "execute_result"
    }
   ],
   "source": [
    "df = gm.find_coupling_vs_gap()\n",
    "df"
   ]
  },
  {
   "cell_type": "markdown",
   "id": "3cc34541-5f73-462f-a3e6-42b56d7f3b7b",
   "metadata": {},
   "source": [
    "For a 200nm gap the effective index difference `dn` is `0.02`, which means that there is 100% power coupling over 38.2um"
   ]
  },
  {
   "cell_type": "code",
   "execution_count": 12,
   "id": "6b041d26-1246-4c3d-80c9-60c5eb838e08",
   "metadata": {
    "execution": {
     "iopub.execute_input": "2022-06-30T06:15:53.793048Z",
     "iopub.status.busy": "2022-06-30T06:15:53.791572Z",
     "iopub.status.idle": "2022-06-30T06:15:54.014049Z",
     "shell.execute_reply": "2022-06-30T06:15:54.013139Z"
    }
   },
   "outputs": [
    {
     "data": {
      "text/plain": [
       "<AxesSubplot:title={'center':'o1'}, xlabel='wavelength (nm)', ylabel='|S (dB)|'>"
      ]
     },
     "execution_count": 12,
     "metadata": {},
     "output_type": "execute_result"
    },
    {
     "data": {
      "image/png": "[encoded data removed]",
      "text/plain": [
       "<Figure size 432x288 with 1 Axes>"
      ]
     },
     "metadata": {
      "needs_background": "light"
     },
     "output_type": "display_data"
    }
   ],
   "source": [
    "coupler_sc = gf.partial(gs.models.coupler, dn=0.02, length=0, coupling0=0)\n",
    "gs.plot_model(coupler_sc)"
   ]
  },
  {
   "cell_type": "markdown",
   "id": "054c1248-bd96-4192-892f-981b4c6f121d",
   "metadata": {},
   "source": [
    "If we ignore the coupling from the bend `coupling0 = 0` we know that for a 3dB coupling we need half of the `lc` length, which is the length needed to coupler `100%` of power."
   ]
  },
  {
   "cell_type": "code",
   "execution_count": 13,
   "id": "193184a3-ff6c-403c-b456-d43f45b1b1cd",
   "metadata": {
    "execution": {
     "iopub.execute_input": "2022-06-30T06:15:54.018344Z",
     "iopub.status.busy": "2022-06-30T06:15:54.017805Z",
     "iopub.status.idle": "2022-06-30T06:15:54.150500Z",
     "shell.execute_reply": "2022-06-30T06:15:54.149840Z"
    }
   },
   "outputs": [
    {
     "data": {
      "text/plain": [
       "<AxesSubplot:title={'center':'o1'}, xlabel='wavelength (nm)', ylabel='|S (dB)|'>"
      ]
     },
     "execution_count": 13,
     "metadata": {},
     "output_type": "execute_result"
    },
    {
     "data": {
      "image/png": "[encoded data removed]",
      "text/plain": [
       "<Figure size 432x288 with 1 Axes>"
      ]
     },
     "metadata": {
      "needs_background": "light"
     },
     "output_type": "display_data"
    }
   ],
   "source": [
    "coupler_sc = gf.partial(gs.models.coupler, dn=0.02, length=38.2 / 2, coupling0=0)\n",
    "gs.plot_model(coupler_sc)"
   ]
  },
  {
   "cell_type": "markdown",
   "id": "9e0c22d4-16f7-4150-bb27-da05a6b8a003",
   "metadata": {},
   "source": [
    "### FDTD Sparameters model\n",
    "\n",
    "You can also fit a model from Sparameter FDTD simulation data."
   ]
  },
  {
   "cell_type": "code",
   "execution_count": 14,
   "id": "fe47c03f-ee34-44d5-a5d7-1e2c9cb5cd4b",
   "metadata": {
    "execution": {
     "iopub.execute_input": "2022-06-30T06:15:54.154649Z",
     "iopub.status.busy": "2022-06-30T06:15:54.153971Z",
     "iopub.status.idle": "2022-06-30T06:15:54.314958Z",
     "shell.execute_reply": "2022-06-30T06:15:54.314309Z"
    }
   },
   "outputs": [
    {
     "data": {
      "text/plain": [
       "<AxesSubplot:title={'center':'o1'}, xlabel='wavelength (nm)', ylabel='|S (dB)|'>"
      ]
     },
     "execution_count": 14,
     "metadata": {},
     "output_type": "execute_result"
    },
    {
     "data": {
      "image/png": "[encoded data removed]",
      "text/plain": [
       "<Figure size 432x288 with 1 Axes>"
      ]
     },
     "metadata": {
      "needs_background": "light"
     },
     "output_type": "display_data"
    }
   ],
   "source": [
    "from gdsfactory.simulation.get_sparameters_path import get_sparameters_path_lumerical\n",
    "\n",
    "filepath = get_sparameters_path_lumerical(gf.c.mmi1x2)\n",
    "mmi1x2 = gf.partial(gs.read.sdict_from_csv, filepath=filepath)\n",
    "gs.plot_model(mmi1x2)"
   ]
  },
  {
   "cell_type": "markdown",
   "id": "9e30b544-85d7-4285-ac4e-d5c43140d139",
   "metadata": {},
   "source": [
    "## Circuit Models\n",
    "\n",
    "You can combine component models into a circuit using `sax.circuit`, which basically creates a new `Model` function:\n",
    "\n",
    "Lets define an [MZI interferometer](https://en.wikipedia.org/wiki/Mach%E2%80%93Zehnder_interferometer)\n",
    "\n",
    "- two couplers (rgt, lft) right and left\n",
    "- two waveguides (top, bot)\n",
    "\n",
    "```\n",
    "           _________\n",
    "          |  top    |\n",
    "          |         |\n",
    "    lft===|         |===rgt\n",
    "          |         |\n",
    "          |_________|\n",
    "             bot\n",
    "\n",
    "               o1    top   o2\n",
    "                 ----------\n",
    "o2            o3           o2            o3\n",
    "   \\        /                 \\        /\n",
    "    ========                   ========\n",
    "   /        \\                 /        \\\n",
    "o1     lft    04           o1    rgt     04\n",
    "                 ----------\n",
    "               o1   bot    o2\n",
    "```"
   ]
  },
  {
   "cell_type": "code",
   "execution_count": 15,
   "id": "1bd9e29e-2fed-4f56-b0c9-a9ef32069fd6",
   "metadata": {
    "execution": {
     "iopub.execute_input": "2022-06-30T06:15:54.318826Z",
     "iopub.status.busy": "2022-06-30T06:15:54.318484Z",
     "iopub.status.idle": "2022-06-30T06:15:54.337611Z",
     "shell.execute_reply": "2022-06-30T06:15:54.336843Z"
    }
   },
   "outputs": [],
   "source": [
    "waveguide = straight_sc\n",
    "coupler = coupler_sc\n",
    "\n",
    "mzi = sax.circuit(\n",
    "    instances={\n",
    "        \"lft\": coupler,\n",
    "        \"top\": waveguide,\n",
    "        \"bot\": waveguide,\n",
    "        \"rgt\": coupler,\n",
    "    },\n",
    "    connections={\n",
    "        \"lft,o4\": \"bot,o1\",\n",
    "        \"bot,o2\": \"rgt,o1\",\n",
    "        \"lft,o3\": \"top,o1\",\n",
    "        \"top,o2\": \"rgt,o2\",\n",
    "    },\n",
    "    ports={\n",
    "        \"o1\": \"lft,o1\",\n",
    "        \"o2\": \"lft,o2\",\n",
    "        \"o4\": \"rgt,o4\",\n",
    "        \"o3\": \"rgt,o3\",\n",
    "    },\n",
    ")"
   ]
  },
  {
   "cell_type": "markdown",
   "id": "fe8a8187-0388-4990-b00b-bdae4dbda0db",
   "metadata": {},
   "source": [
    "The `circuit` function just creates a similar function as we created for the waveguide and the coupler, but instead of taking parameters directly it takes parameter *dictionaries* for each of the instances in the circuit. The keys in these parameter dictionaries should correspond to the keyword arguments of each individual subcomponent.\n",
    "\n",
    "You can simulate the MZI"
   ]
  },
  {
   "cell_type": "code",
   "execution_count": 16,
   "id": "bf497c1a-9f19-459a-adf5-b468b37564c3",
   "metadata": {
    "execution": {
     "iopub.execute_input": "2022-06-30T06:15:54.341699Z",
     "iopub.status.busy": "2022-06-30T06:15:54.341182Z",
     "iopub.status.idle": "2022-06-30T06:15:57.086554Z",
     "shell.execute_reply": "2022-06-30T06:15:57.085876Z"
    }
   },
   "outputs": [
    {
     "data": {
      "text/plain": [
       "{('o1', 'o1'): DeviceArray(0.+0.j, dtype=complex64),\n",
       " ('o1', 'o2'): DeviceArray(0.+0.j, dtype=complex64),\n",
       " ('o2', 'o1'): DeviceArray(0.+0.j, dtype=complex64),\n",
       " ('o2', 'o2'): DeviceArray(0.+0.j, dtype=complex64),\n",
       " ('o4', 'o4'): DeviceArray(0.+0.j, dtype=complex64),\n",
       " ('o4', 'o3'): DeviceArray(0.+0.j, dtype=complex64),\n",
       " ('o4', 'o1'): DeviceArray(0.00491904+0.02174363j, dtype=complex64),\n",
       " ('o4', 'o2'): DeviceArray(0.97511-0.22059795j, dtype=complex64),\n",
       " ('o3', 'o4'): DeviceArray(0.+0.j, dtype=complex64),\n",
       " ('o3', 'o3'): DeviceArray(0.+0.j, dtype=complex64),\n",
       " ('o3', 'o1'): DeviceArray(0.97511-0.22059795j, dtype=complex64),\n",
       " ('o3', 'o2'): DeviceArray(0.00491904+0.02174363j, dtype=complex64),\n",
       " ('o1', 'o4'): DeviceArray(0.00491904+0.02174363j, dtype=complex64),\n",
       " ('o1', 'o3'): DeviceArray(0.97511-0.22059795j, dtype=complex64),\n",
       " ('o2', 'o4'): DeviceArray(0.97511-0.22059795j, dtype=complex64),\n",
       " ('o2', 'o3'): DeviceArray(0.00491904+0.02174363j, dtype=complex64)}"
      ]
     },
     "execution_count": 16,
     "metadata": {},
     "output_type": "execute_result"
    }
   ],
   "source": [
    "%time mzi()"
   ]
  },
  {
   "cell_type": "code",
   "execution_count": 17,
   "id": "d770b5f0-441b-4a5e-984f-46f4c1746163",
   "metadata": {
    "execution": {
     "iopub.execute_input": "2022-06-30T06:15:57.090578Z",
     "iopub.status.busy": "2022-06-30T06:15:57.090004Z",
     "iopub.status.idle": "2022-06-30T06:15:57.096554Z",
     "shell.execute_reply": "2022-06-30T06:15:57.095934Z"
    }
   },
   "outputs": [],
   "source": [
    "import jax\n",
    "import jax.example_libraries.optimizers as opt\n",
    "import jax.numpy as jnp\n",
    "import matplotlib.pyplot as plt  # plotting\n",
    "\n",
    "mzi2 = jax.jit(mzi)"
   ]
  },
  {
   "cell_type": "code",
   "execution_count": 18,
   "id": "9184478c-b5da-4a40-911f-efe75f8395a0",
   "metadata": {
    "execution": {
     "iopub.execute_input": "2022-06-30T06:15:57.100558Z",
     "iopub.status.busy": "2022-06-30T06:15:57.100114Z",
     "iopub.status.idle": "2022-06-30T06:16:00.831206Z",
     "shell.execute_reply": "2022-06-30T06:16:00.830465Z"
    }
   },
   "outputs": [
    {
     "data": {
      "text/plain": [
       "{('o1', 'o1'): DeviceArray(0.+0.j, dtype=complex64),\n",
       " ('o1', 'o2'): DeviceArray(0.+0.j, dtype=complex64),\n",
       " ('o1', 'o3'): DeviceArray(0.97511-0.22059795j, dtype=complex64),\n",
       " ('o1', 'o4'): DeviceArray(0.00491904+0.02174363j, dtype=complex64),\n",
       " ('o2', 'o1'): DeviceArray(0.+0.j, dtype=complex64),\n",
       " ('o2', 'o2'): DeviceArray(0.+0.j, dtype=complex64),\n",
       " ('o2', 'o3'): DeviceArray(0.00491904+0.02174363j, dtype=complex64),\n",
       " ('o2', 'o4'): DeviceArray(0.97511-0.22059795j, dtype=complex64),\n",
       " ('o3', 'o1'): DeviceArray(0.97511-0.22059795j, dtype=complex64),\n",
       " ('o3', 'o2'): DeviceArray(0.00491904+0.02174363j, dtype=complex64),\n",
       " ('o3', 'o3'): DeviceArray(0.+0.j, dtype=complex64),\n",
       " ('o3', 'o4'): DeviceArray(0.+0.j, dtype=complex64),\n",
       " ('o4', 'o1'): DeviceArray(0.00491904+0.02174363j, dtype=complex64),\n",
       " ('o4', 'o2'): DeviceArray(0.97511-0.22059795j, dtype=complex64),\n",
       " ('o4', 'o3'): DeviceArray(0.+0.j, dtype=complex64),\n",
       " ('o4', 'o4'): DeviceArray(0.+0.j, dtype=complex64)}"
      ]
     },
     "execution_count": 18,
     "metadata": {},
     "output_type": "execute_result"
    }
   ],
   "source": [
    "%time mzi2()"
   ]
  },
  {
   "cell_type": "code",
   "execution_count": 19,
   "id": "bd363622-a0e9-40cd-a94b-e01877e52e9c",
   "metadata": {
    "execution": {
     "iopub.execute_input": "2022-06-30T06:16:00.835328Z",
     "iopub.status.busy": "2022-06-30T06:16:00.834832Z",
     "iopub.status.idle": "2022-06-30T06:16:00.852762Z",
     "shell.execute_reply": "2022-06-30T06:16:00.851893Z"
    }
   },
   "outputs": [
    {
     "data": {
      "text/plain": [
       "{('o1', 'o1'): DeviceArray(0.+0.j, dtype=complex64),\n",
       " ('o1', 'o2'): DeviceArray(0.+0.j, dtype=complex64),\n",
       " ('o2', 'o1'): DeviceArray(0.+0.j, dtype=complex64),\n",
       " ('o2', 'o2'): DeviceArray(0.+0.j, dtype=complex64),\n",
       " ('o4', 'o4'): DeviceArray(0.+0.j, dtype=complex64),\n",
       " ('o4', 'o3'): DeviceArray(0.+0.j, dtype=complex64),\n",
       " ('o4', 'o1'): DeviceArray(-0.36328408+0.3874847j, dtype=complex64),\n",
       " ('o4', 'o2'): DeviceArray(0.6011225-0.597103j, dtype=complex64),\n",
       " ('o3', 'o4'): DeviceArray(0.+0.j, dtype=complex64),\n",
       " ('o3', 'o3'): DeviceArray(0.+0.j, dtype=complex64),\n",
       " ('o3', 'o1'): DeviceArray(0.6011225-0.597103j, dtype=complex64),\n",
       " ('o3', 'o2'): DeviceArray(0.38991326-0.36067626j, dtype=complex64),\n",
       " ('o1', 'o4'): DeviceArray(-0.36328408+0.3874847j, dtype=complex64),\n",
       " ('o1', 'o3'): DeviceArray(0.6011225-0.597103j, dtype=complex64),\n",
       " ('o2', 'o4'): DeviceArray(0.6011225-0.597103j, dtype=complex64),\n",
       " ('o2', 'o3'): DeviceArray(0.38991326-0.36067626j, dtype=complex64)}"
      ]
     },
     "execution_count": 19,
     "metadata": {},
     "output_type": "execute_result"
    }
   ],
   "source": [
    "mzi(top={\"length\": 25.0}, btm={\"length\": 15.0})"
   ]
  },
  {
   "cell_type": "code",
   "execution_count": 20,
   "id": "a87486a6-b353-4988-9d8e-81b68bb7834f",
   "metadata": {
    "execution": {
     "iopub.execute_input": "2022-06-30T06:16:00.857098Z",
     "iopub.status.busy": "2022-06-30T06:16:00.856581Z",
     "iopub.status.idle": "2022-06-30T06:16:04.000903Z",
     "shell.execute_reply": "2022-06-30T06:16:04.000199Z"
    }
   },
   "outputs": [],
   "source": [
    "wl = jnp.linspace(1.51, 1.59, 1000)\n",
    "%time S = mzi(wl=wl, top={\"length\": 25.0}, btm={\"length\": 15.0})"
   ]
  },
  {
   "cell_type": "code",
   "execution_count": 21,
   "id": "e0ffcad8-2d62-4484-98ef-8932ccf3a1bb",
   "metadata": {
    "execution": {
     "iopub.execute_input": "2022-06-30T06:16:04.005153Z",
     "iopub.status.busy": "2022-06-30T06:16:04.004663Z",
     "iopub.status.idle": "2022-06-30T06:16:04.603951Z",
     "shell.execute_reply": "2022-06-30T06:16:04.603299Z"
    }
   },
   "outputs": [
    {
     "data": {
      "image/png": "[encoded data removed]",
      "text/plain": [
       "<Figure size 432x288 with 1 Axes>"
      ]
     },
     "metadata": {
      "needs_background": "light"
     },
     "output_type": "display_data"
    }
   ],
   "source": [
    "plt.plot(wl * 1e3, abs(S[\"o1\", \"o3\"]) ** 2, label=\"o3\")\n",
    "plt.plot(wl * 1e3, abs(S[\"o1\", \"o4\"]) ** 2, label=\"o4\")\n",
    "plt.ylim(-0.05, 1.05)\n",
    "plt.xlabel(\"λ [nm]\")\n",
    "plt.ylabel(\"T\")\n",
    "plt.ylim(-0.05, 1.05)\n",
    "plt.legend()\n",
    "plt.show()"
   ]
  },
  {
   "cell_type": "markdown",
   "id": "ceffc432-a4b8-46f6-a21c-61cf788c21ec",
   "metadata": {},
   "source": [
    "## Optimization\n",
    "\n",
    "You can optimize an MZI to get T=0 at 1550nm.\n",
    "To do this, you need to define a loss function for the circuit at 1550nm.\n",
    "This function should take the parameters that you want to optimize as positional arguments:"
   ]
  },
  {
   "cell_type": "code",
   "execution_count": 22,
   "id": "faf315c7-096e-47f3-ba9c-24a8fe4e37a5",
   "metadata": {
    "execution": {
     "iopub.execute_input": "2022-06-30T06:16:04.608004Z",
     "iopub.status.busy": "2022-06-30T06:16:04.607493Z",
     "iopub.status.idle": "2022-06-30T06:16:04.612160Z",
     "shell.execute_reply": "2022-06-30T06:16:04.611501Z"
    }
   },
   "outputs": [],
   "source": [
    "@jax.jit\n",
    "def loss(delta_length):\n",
    "    S = mzi(wl=1.55, top={\"length\": 15.0 + delta_length}, btm={\"length\": 15.0})\n",
    "    return (abs(S[\"o1\", \"o4\"]) ** 2).mean()"
   ]
  },
  {
   "cell_type": "code",
   "execution_count": 23,
   "id": "081e9a8d-3c21-435b-a960-35018e7bc174",
   "metadata": {
    "execution": {
     "iopub.execute_input": "2022-06-30T06:16:04.615974Z",
     "iopub.status.busy": "2022-06-30T06:16:04.615499Z",
     "iopub.status.idle": "2022-06-30T06:16:08.103448Z",
     "shell.execute_reply": "2022-06-30T06:16:08.102758Z"
    }
   },
   "outputs": [
    {
     "data": {
      "text/plain": [
       "DeviceArray(0.28211972, dtype=float32)"
      ]
     },
     "execution_count": 23,
     "metadata": {},
     "output_type": "execute_result"
    }
   ],
   "source": [
    "%time loss(10.0)"
   ]
  },
  {
   "cell_type": "markdown",
   "id": "9250a346-3fc8-49aa-9bf8-9dd06ba2d69e",
   "metadata": {},
   "source": [
    "You can use this loss function to define a grad function which works on the parameters of the loss function:"
   ]
  },
  {
   "cell_type": "code",
   "execution_count": 24,
   "id": "681cbec3-d0cb-4002-b756-58562ae3362a",
   "metadata": {
    "execution": {
     "iopub.execute_input": "2022-06-30T06:16:08.108599Z",
     "iopub.status.busy": "2022-06-30T06:16:08.108075Z",
     "iopub.status.idle": "2022-06-30T06:16:08.112468Z",
     "shell.execute_reply": "2022-06-30T06:16:08.111742Z"
    }
   },
   "outputs": [],
   "source": [
    "grad = jax.jit(\n",
    "    jax.grad(\n",
    "        loss,\n",
    "        argnums=0,  # JAX gradient function for the first positional argument, jitted\n",
    "    )\n",
    ")"
   ]
  },
  {
   "cell_type": "markdown",
   "id": "4f2fc61b-b946-4ffd-893f-428ec9764b10",
   "metadata": {},
   "source": [
    "Next, you need to define a JAX optimizer, which on its own is nothing more than three more functions:\n",
    "\n",
    "1. an initialization function with which to initialize the optimizer state\n",
    "2. an update function which will update the optimizer state (and with it the model parameters).\n",
    "3. a function with the model parameters given the optimizer state."
   ]
  },
  {
   "cell_type": "code",
   "execution_count": 25,
   "id": "cfc972de-9f6d-45fd-9a31-30e98432e52a",
   "metadata": {
    "execution": {
     "iopub.execute_input": "2022-06-30T06:16:08.116922Z",
     "iopub.status.busy": "2022-06-30T06:16:08.116390Z",
     "iopub.status.idle": "2022-06-30T06:16:08.139651Z",
     "shell.execute_reply": "2022-06-30T06:16:08.138875Z"
    }
   },
   "outputs": [],
   "source": [
    "initial_delta_length = 10.0\n",
    "optim_init, optim_update, optim_params = opt.adam(step_size=0.1)\n",
    "optim_state = optim_init(initial_delta_length)"
   ]
  },
  {
   "cell_type": "code",
   "execution_count": 26,
   "id": "bbf6243e-25b6-43ae-abd0-9911846fd282",
   "metadata": {
    "execution": {
     "iopub.execute_input": "2022-06-30T06:16:08.143862Z",
     "iopub.status.busy": "2022-06-30T06:16:08.143320Z",
     "iopub.status.idle": "2022-06-30T06:16:08.147835Z",
     "shell.execute_reply": "2022-06-30T06:16:08.147065Z"
    }
   },
   "outputs": [],
   "source": [
    "def train_step(step, optim_state):\n",
    "    settings = optim_params(optim_state)\n",
    "    lossvalue = loss(settings)\n",
    "    gradvalue = grad(settings)\n",
    "    optim_state = optim_update(step, gradvalue, optim_state)\n",
    "    return lossvalue, optim_state"
   ]
  },
  {
   "cell_type": "code",
   "execution_count": 27,
   "id": "6427fb3e-defc-41ca-82cb-5692c6f504fc",
   "metadata": {
    "execution": {
     "iopub.execute_input": "2022-06-30T06:16:08.151831Z",
     "iopub.status.busy": "2022-06-30T06:16:08.151315Z",
     "iopub.status.idle": "2022-06-30T06:16:29.241263Z",
     "shell.execute_reply": "2022-06-30T06:16:29.240641Z"
    }
   },
   "outputs": [
    {
     "name": "stderr",
     "output_type": "stream",
     "text": [
      "\r",
      "  0%|          | 0/300 [00:00<?, ?it/s]"
     ]
    },
    {
     "name": "stderr",
     "output_type": "stream",
     "text": [
      "\r",
      "  0%|          | 0/300 [00:04<?, ?it/s, loss=0.282120]"
     ]
    },
    {
     "name": "stderr",
     "output_type": "stream",
     "text": [
      "\r",
      "  0%|          | 1/300 [00:04<23:28,  4.71s/it, loss=0.282120]"
     ]
    },
    {
     "name": "stderr",
     "output_type": "stream",
     "text": [
      "\r",
      "  0%|          | 1/300 [00:12<23:28,  4.71s/it, loss=0.007135]"
     ]
    },
    {
     "name": "stderr",
     "output_type": "stream",
     "text": [
      "\r",
      "  1%|          | 2/300 [00:12<33:44,  6.79s/it, loss=0.007135]"
     ]
    },
    {
     "name": "stderr",
     "output_type": "stream",
     "text": [
      "\r",
      "  1%|          | 2/300 [00:12<33:44,  6.79s/it, loss=0.085998]"
     ]
    },
    {
     "name": "stderr",
     "output_type": "stream",
     "text": [
      "\r",
      "  1%|          | 2/300 [00:13<33:44,  6.79s/it, loss=0.142725]"
     ]
    },
    {
     "name": "stderr",
     "output_type": "stream",
     "text": [
      "\r",
      "  1%|          | 2/300 [00:13<33:44,  6.79s/it, loss=0.085925]"
     ]
    },
    {
     "name": "stderr",
     "output_type": "stream",
     "text": [
      "\r",
      "  1%|          | 2/300 [00:13<33:44,  6.79s/it, loss=0.015395]"
     ]
    },
    {
     "name": "stderr",
     "output_type": "stream",
     "text": [
      "\r",
      "  2%|▏         | 6/300 [00:13<07:43,  1.58s/it, loss=0.015395]"
     ]
    },
    {
     "name": "stderr",
     "output_type": "stream",
     "text": [
      "\r",
      "  2%|▏         | 6/300 [00:13<07:43,  1.58s/it, loss=0.005160]"
     ]
    },
    {
     "name": "stderr",
     "output_type": "stream",
     "text": [
      "\r",
      "  2%|▏         | 6/300 [00:13<07:43,  1.58s/it, loss=0.044319]"
     ]
    },
    {
     "name": "stderr",
     "output_type": "stream",
     "text": [
      "\r",
      "  2%|▏         | 6/300 [00:13<07:43,  1.58s/it, loss=0.069606]"
     ]
    },
    {
     "name": "stderr",
     "output_type": "stream",
     "text": [
      "\r",
      "  2%|▏         | 6/300 [00:13<07:43,  1.58s/it, loss=0.055357]"
     ]
    },
    {
     "name": "stderr",
     "output_type": "stream",
     "text": [
      "\r",
      "  3%|▎         | 10/300 [00:13<03:41,  1.31it/s, loss=0.055357]"
     ]
    },
    {
     "name": "stderr",
     "output_type": "stream",
     "text": [
      "\r",
      "  3%|▎         | 10/300 [00:13<03:41,  1.31it/s, loss=0.021724]"
     ]
    },
    {
     "name": "stderr",
     "output_type": "stream",
     "text": [
      "\r",
      "  3%|▎         | 10/300 [00:13<03:41,  1.31it/s, loss=0.001193]"
     ]
    },
    {
     "name": "stderr",
     "output_type": "stream",
     "text": [
      "\r",
      "  3%|▎         | 10/300 [00:13<03:41,  1.31it/s, loss=0.008339]"
     ]
    },
    {
     "name": "stderr",
     "output_type": "stream",
     "text": [
      "\r",
      "  3%|▎         | 10/300 [00:13<03:41,  1.31it/s, loss=0.028227]"
     ]
    },
    {
     "name": "stderr",
     "output_type": "stream",
     "text": [
      "\r",
      "  5%|▍         | 14/300 [00:13<02:08,  2.23it/s, loss=0.028227]"
     ]
    },
    {
     "name": "stderr",
     "output_type": "stream",
     "text": [
      "\r",
      "  5%|▍         | 14/300 [00:13<02:08,  2.23it/s, loss=0.036945]"
     ]
    },
    {
     "name": "stderr",
     "output_type": "stream",
     "text": [
      "\r",
      "  5%|▍         | 14/300 [00:13<02:08,  2.23it/s, loss=0.027057]"
     ]
    },
    {
     "name": "stderr",
     "output_type": "stream",
     "text": [
      "\r",
      "  5%|▍         | 14/300 [00:13<02:08,  2.23it/s, loss=0.009623]"
     ]
    },
    {
     "name": "stderr",
     "output_type": "stream",
     "text": [
      "\r",
      "  5%|▍         | 14/300 [00:13<02:08,  2.23it/s, loss=0.000578]"
     ]
    },
    {
     "name": "stderr",
     "output_type": "stream",
     "text": [
      "\r",
      "  6%|▌         | 18/300 [00:13<01:21,  3.46it/s, loss=0.000578]"
     ]
    },
    {
     "name": "stderr",
     "output_type": "stream",
     "text": [
      "\r",
      "  6%|▌         | 18/300 [00:13<01:21,  3.46it/s, loss=0.005692]"
     ]
    },
    {
     "name": "stderr",
     "output_type": "stream",
     "text": [
      "\r",
      "  6%|▌         | 18/300 [00:13<01:21,  3.46it/s, loss=0.016339]"
     ]
    },
    {
     "name": "stderr",
     "output_type": "stream",
     "text": [
      "\r",
      "  6%|▌         | 18/300 [00:13<01:21,  3.46it/s, loss=0.020270]"
     ]
    },
    {
     "name": "stderr",
     "output_type": "stream",
     "text": [
      "\r",
      "  6%|▌         | 18/300 [00:13<01:21,  3.46it/s, loss=0.014085]"
     ]
    },
    {
     "name": "stderr",
     "output_type": "stream",
     "text": [
      "\r",
      "  7%|▋         | 22/300 [00:13<00:54,  5.08it/s, loss=0.014085]"
     ]
    },
    {
     "name": "stderr",
     "output_type": "stream",
     "text": [
      "\r",
      "  7%|▋         | 22/300 [00:13<00:54,  5.08it/s, loss=0.004531]"
     ]
    },
    {
     "name": "stderr",
     "output_type": "stream",
     "text": [
      "\r",
      "  7%|▋         | 22/300 [00:13<00:54,  5.08it/s, loss=0.000502]"
     ]
    },
    {
     "name": "stderr",
     "output_type": "stream",
     "text": [
      "\r",
      "  7%|▋         | 22/300 [00:13<00:54,  5.08it/s, loss=0.004272]"
     ]
    },
    {
     "name": "stderr",
     "output_type": "stream",
     "text": [
      "\r",
      "  7%|▋         | 22/300 [00:13<00:54,  5.08it/s, loss=0.010108]"
     ]
    },
    {
     "name": "stderr",
     "output_type": "stream",
     "text": [
      "\r",
      "  9%|▊         | 26/300 [00:13<00:38,  7.14it/s, loss=0.010108]"
     ]
    },
    {
     "name": "stderr",
     "output_type": "stream",
     "text": [
      "\r",
      "  9%|▊         | 26/300 [00:13<00:38,  7.14it/s, loss=0.011272]"
     ]
    },
    {
     "name": "stderr",
     "output_type": "stream",
     "text": [
      "\r",
      "  9%|▊         | 26/300 [00:13<00:38,  7.14it/s, loss=0.006885]"
     ]
    },
    {
     "name": "stderr",
     "output_type": "stream",
     "text": [
      "\r",
      "  9%|▊         | 26/300 [00:13<00:38,  7.14it/s, loss=0.001756]"
     ]
    },
    {
     "name": "stderr",
     "output_type": "stream",
     "text": [
      "\r",
      "  9%|▊         | 26/300 [00:13<00:38,  7.14it/s, loss=0.000731]"
     ]
    },
    {
     "name": "stderr",
     "output_type": "stream",
     "text": [
      "\r",
      " 10%|█         | 30/300 [00:13<00:27,  9.67it/s, loss=0.000731]"
     ]
    },
    {
     "name": "stderr",
     "output_type": "stream",
     "text": [
      "\r",
      " 10%|█         | 30/300 [00:13<00:27,  9.67it/s, loss=0.003753]"
     ]
    },
    {
     "name": "stderr",
     "output_type": "stream",
     "text": [
      "\r",
      " 10%|█         | 30/300 [00:13<00:27,  9.67it/s, loss=0.006608]"
     ]
    },
    {
     "name": "stderr",
     "output_type": "stream",
     "text": [
      "\r",
      " 10%|█         | 30/300 [00:13<00:27,  9.67it/s, loss=0.005998]"
     ]
    },
    {
     "name": "stderr",
     "output_type": "stream",
     "text": [
      "\r",
      " 10%|█         | 30/300 [00:13<00:27,  9.67it/s, loss=0.002832]"
     ]
    },
    {
     "name": "stderr",
     "output_type": "stream",
     "text": [
      "\r",
      " 11%|█▏        | 34/300 [00:13<00:21, 12.63it/s, loss=0.002832]"
     ]
    },
    {
     "name": "stderr",
     "output_type": "stream",
     "text": [
      "\r",
      " 11%|█▏        | 34/300 [00:13<00:21, 12.63it/s, loss=0.000599]"
     ]
    },
    {
     "name": "stderr",
     "output_type": "stream",
     "text": [
      "\r",
      " 11%|█▏        | 34/300 [00:13<00:21, 12.63it/s, loss=0.001270]"
     ]
    },
    {
     "name": "stderr",
     "output_type": "stream",
     "text": [
      "\r",
      " 11%|█▏        | 34/300 [00:13<00:21, 12.63it/s, loss=0.003376]"
     ]
    },
    {
     "name": "stderr",
     "output_type": "stream",
     "text": [
      "\r",
      " 11%|█▏        | 34/300 [00:13<00:21, 12.63it/s, loss=0.004137]"
     ]
    },
    {
     "name": "stderr",
     "output_type": "stream",
     "text": [
      "\r",
      " 13%|█▎        | 38/300 [00:13<00:16, 15.81it/s, loss=0.004137]"
     ]
    },
    {
     "name": "stderr",
     "output_type": "stream",
     "text": [
      "\r",
      " 13%|█▎        | 38/300 [00:13<00:16, 15.81it/s, loss=0.002736]"
     ]
    },
    {
     "name": "stderr",
     "output_type": "stream",
     "text": [
      "\r",
      " 13%|█▎        | 38/300 [00:13<00:16, 15.81it/s, loss=0.000911]"
     ]
    },
    {
     "name": "stderr",
     "output_type": "stream",
     "text": [
      "\r",
      " 13%|█▎        | 38/300 [00:14<00:16, 15.81it/s, loss=0.000614]"
     ]
    },
    {
     "name": "stderr",
     "output_type": "stream",
     "text": [
      "\r",
      " 13%|█▎        | 38/300 [00:14<00:16, 15.81it/s, loss=0.001765]"
     ]
    },
    {
     "name": "stderr",
     "output_type": "stream",
     "text": [
      "\r",
      " 14%|█▍        | 42/300 [00:14<00:13, 19.12it/s, loss=0.001765]"
     ]
    },
    {
     "name": "stderr",
     "output_type": "stream",
     "text": [
      "\r",
      " 14%|█▍        | 42/300 [00:14<00:13, 19.12it/s, loss=0.002649]"
     ]
    },
    {
     "name": "stderr",
     "output_type": "stream",
     "text": [
      "\r",
      " 14%|█▍        | 42/300 [00:14<00:13, 19.12it/s, loss=0.002154]"
     ]
    },
    {
     "name": "stderr",
     "output_type": "stream",
     "text": [
      "\r",
      " 14%|█▍        | 42/300 [00:14<00:13, 19.12it/s, loss=0.000973]"
     ]
    },
    {
     "name": "stderr",
     "output_type": "stream",
     "text": [
      "\r",
      " 14%|█▍        | 42/300 [00:14<00:13, 19.12it/s, loss=0.000505]"
     ]
    },
    {
     "name": "stderr",
     "output_type": "stream",
     "text": [
      "\r",
      " 15%|█▌        | 46/300 [00:14<00:11, 22.34it/s, loss=0.000505]"
     ]
    },
    {
     "name": "stderr",
     "output_type": "stream",
     "text": [
      "\r",
      " 15%|█▌        | 46/300 [00:14<00:11, 22.34it/s, loss=0.001082]"
     ]
    },
    {
     "name": "stderr",
     "output_type": "stream",
     "text": [
      "\r",
      " 15%|█▌        | 46/300 [00:14<00:11, 22.34it/s, loss=0.001740]"
     ]
    },
    {
     "name": "stderr",
     "output_type": "stream",
     "text": [
      "\r",
      " 15%|█▌        | 46/300 [00:14<00:11, 22.34it/s, loss=0.001581]"
     ]
    },
    {
     "name": "stderr",
     "output_type": "stream",
     "text": [
      "\r",
      " 15%|█▌        | 46/300 [00:14<00:11, 22.34it/s, loss=0.000864]"
     ]
    },
    {
     "name": "stderr",
     "output_type": "stream",
     "text": [
      "\r",
      " 17%|█▋        | 50/300 [00:14<00:09, 25.40it/s, loss=0.000864]"
     ]
    },
    {
     "name": "stderr",
     "output_type": "stream",
     "text": [
      "\r",
      " 17%|█▋        | 50/300 [00:14<00:09, 25.40it/s, loss=0.000497]"
     ]
    },
    {
     "name": "stderr",
     "output_type": "stream",
     "text": [
      "\r",
      " 17%|█▋        | 50/300 [00:14<00:09, 25.40it/s, loss=0.000812]"
     ]
    },
    {
     "name": "stderr",
     "output_type": "stream",
     "text": [
      "\r",
      " 17%|█▋        | 50/300 [00:14<00:09, 25.40it/s, loss=0.001236]"
     ]
    },
    {
     "name": "stderr",
     "output_type": "stream",
     "text": [
      "\r",
      " 17%|█▋        | 50/300 [00:14<00:09, 25.40it/s, loss=0.001162]"
     ]
    },
    {
     "name": "stderr",
     "output_type": "stream",
     "text": [
      "\r",
      " 18%|█▊        | 54/300 [00:14<00:08, 27.95it/s, loss=0.001162]"
     ]
    },
    {
     "name": "stderr",
     "output_type": "stream",
     "text": [
      "\r",
      " 18%|█▊        | 54/300 [00:14<00:08, 27.95it/s, loss=0.000720]"
     ]
    },
    {
     "name": "stderr",
     "output_type": "stream",
     "text": [
      "\r",
      " 18%|█▊        | 54/300 [00:14<00:08, 27.95it/s, loss=0.000497]"
     ]
    },
    {
     "name": "stderr",
     "output_type": "stream",
     "text": [
      "\r",
      " 18%|█▊        | 54/300 [00:14<00:08, 27.95it/s, loss=0.000702]"
     ]
    },
    {
     "name": "stderr",
     "output_type": "stream",
     "text": [
      "\r",
      " 18%|█▊        | 54/300 [00:14<00:08, 27.95it/s, loss=0.000956]"
     ]
    },
    {
     "name": "stderr",
     "output_type": "stream",
     "text": [
      "\r",
      " 19%|█▉        | 58/300 [00:14<00:08, 30.08it/s, loss=0.000956]"
     ]
    },
    {
     "name": "stderr",
     "output_type": "stream",
     "text": [
      "\r",
      " 19%|█▉        | 58/300 [00:14<00:08, 30.08it/s, loss=0.000883]"
     ]
    },
    {
     "name": "stderr",
     "output_type": "stream",
     "text": [
      "\r",
      " 19%|█▉        | 58/300 [00:14<00:08, 30.08it/s, loss=0.000605]"
     ]
    },
    {
     "name": "stderr",
     "output_type": "stream",
     "text": [
      "\r",
      " 19%|█▉        | 58/300 [00:14<00:08, 30.08it/s, loss=0.000501]"
     ]
    },
    {
     "name": "stderr",
     "output_type": "stream",
     "text": [
      "\r",
      " 19%|█▉        | 58/300 [00:14<00:08, 30.08it/s, loss=0.000655]"
     ]
    },
    {
     "name": "stderr",
     "output_type": "stream",
     "text": [
      "\r",
      " 21%|██        | 62/300 [00:14<00:07, 31.95it/s, loss=0.000655]"
     ]
    },
    {
     "name": "stderr",
     "output_type": "stream",
     "text": [
      "\r",
      " 21%|██        | 62/300 [00:14<00:07, 31.95it/s, loss=0.000789]"
     ]
    },
    {
     "name": "stderr",
     "output_type": "stream",
     "text": [
      "\r",
      " 21%|██        | 62/300 [00:14<00:07, 31.95it/s, loss=0.000703]"
     ]
    },
    {
     "name": "stderr",
     "output_type": "stream",
     "text": [
      "\r",
      " 21%|██        | 62/300 [00:14<00:07, 31.95it/s, loss=0.000534]"
     ]
    },
    {
     "name": "stderr",
     "output_type": "stream",
     "text": [
      "\r",
      " 21%|██        | 62/300 [00:14<00:07, 31.95it/s, loss=0.000512]"
     ]
    },
    {
     "name": "stderr",
     "output_type": "stream",
     "text": [
      "\r",
      " 22%|██▏       | 66/300 [00:14<00:07, 33.24it/s, loss=0.000512]"
     ]
    },
    {
     "name": "stderr",
     "output_type": "stream",
     "text": [
      "\r",
      " 22%|██▏       | 66/300 [00:14<00:07, 33.24it/s, loss=0.000626]"
     ]
    },
    {
     "name": "stderr",
     "output_type": "stream",
     "text": [
      "\r",
      " 22%|██▏       | 66/300 [00:14<00:07, 33.24it/s, loss=0.000677]"
     ]
    },
    {
     "name": "stderr",
     "output_type": "stream",
     "text": [
      "\r",
      " 22%|██▏       | 66/300 [00:14<00:07, 33.24it/s, loss=0.000591]"
     ]
    },
    {
     "name": "stderr",
     "output_type": "stream",
     "text": [
      "\r",
      " 22%|██▏       | 66/300 [00:14<00:07, 33.24it/s, loss=0.000502]"
     ]
    },
    {
     "name": "stderr",
     "output_type": "stream",
     "text": [
      "\r",
      " 23%|██▎       | 70/300 [00:14<00:06, 34.38it/s, loss=0.000502]"
     ]
    },
    {
     "name": "stderr",
     "output_type": "stream",
     "text": [
      "\r",
      " 23%|██▎       | 70/300 [00:14<00:06, 34.38it/s, loss=0.000527]"
     ]
    },
    {
     "name": "stderr",
     "output_type": "stream",
     "text": [
      "\r",
      " 23%|██▎       | 70/300 [00:14<00:06, 34.38it/s, loss=0.000599]"
     ]
    },
    {
     "name": "stderr",
     "output_type": "stream",
     "text": [
      "\r",
      " 23%|██▎       | 70/300 [00:14<00:06, 34.38it/s, loss=0.000597]"
     ]
    },
    {
     "name": "stderr",
     "output_type": "stream",
     "text": [
      "\r",
      " 23%|██▎       | 70/300 [00:14<00:06, 34.38it/s, loss=0.000528]"
     ]
    },
    {
     "name": "stderr",
     "output_type": "stream",
     "text": [
      "\r",
      " 25%|██▍       | 74/300 [00:14<00:06, 35.17it/s, loss=0.000528]"
     ]
    },
    {
     "name": "stderr",
     "output_type": "stream",
     "text": [
      "\r",
      " 25%|██▍       | 74/300 [00:14<00:06, 35.17it/s, loss=0.000498]"
     ]
    },
    {
     "name": "stderr",
     "output_type": "stream",
     "text": [
      "\r",
      " 25%|██▍       | 74/300 [00:14<00:06, 35.17it/s, loss=0.000537]"
     ]
    },
    {
     "name": "stderr",
     "output_type": "stream",
     "text": [
      "\r",
      " 25%|██▍       | 74/300 [00:14<00:06, 35.17it/s, loss=0.000568]"
     ]
    },
    {
     "name": "stderr",
     "output_type": "stream",
     "text": [
      "\r",
      " 25%|██▍       | 74/300 [00:15<00:06, 35.17it/s, loss=0.000541]"
     ]
    },
    {
     "name": "stderr",
     "output_type": "stream",
     "text": [
      "\r",
      " 26%|██▌       | 78/300 [00:15<00:06, 35.70it/s, loss=0.000541]"
     ]
    },
    {
     "name": "stderr",
     "output_type": "stream",
     "text": [
      "\r",
      " 26%|██▌       | 78/300 [00:15<00:06, 35.70it/s, loss=0.000501]"
     ]
    },
    {
     "name": "stderr",
     "output_type": "stream",
     "text": [
      "\r",
      " 26%|██▌       | 78/300 [00:15<00:06, 35.70it/s, loss=0.000506]"
     ]
    },
    {
     "name": "stderr",
     "output_type": "stream",
     "text": [
      "\r",
      " 26%|██▌       | 78/300 [00:15<00:06, 35.70it/s, loss=0.000536]"
     ]
    },
    {
     "name": "stderr",
     "output_type": "stream",
     "text": [
      "\r",
      " 26%|██▌       | 78/300 [00:15<00:06, 35.70it/s, loss=0.000537]"
     ]
    },
    {
     "name": "stderr",
     "output_type": "stream",
     "text": [
      "\r",
      " 27%|██▋       | 82/300 [00:15<00:06, 36.12it/s, loss=0.000537]"
     ]
    },
    {
     "name": "stderr",
     "output_type": "stream",
     "text": [
      "\r",
      " 27%|██▋       | 82/300 [00:15<00:06, 36.12it/s, loss=0.000509]"
     ]
    },
    {
     "name": "stderr",
     "output_type": "stream",
     "text": [
      "\r",
      " 27%|██▋       | 82/300 [00:15<00:06, 36.12it/s, loss=0.000497]"
     ]
    },
    {
     "name": "stderr",
     "output_type": "stream",
     "text": [
      "\r",
      " 27%|██▋       | 82/300 [00:15<00:06, 36.12it/s, loss=0.000514]"
     ]
    },
    {
     "name": "stderr",
     "output_type": "stream",
     "text": [
      "\r",
      " 27%|██▋       | 82/300 [00:15<00:06, 36.12it/s, loss=0.000526]"
     ]
    },
    {
     "name": "stderr",
     "output_type": "stream",
     "text": [
      "\r",
      " 29%|██▊       | 86/300 [00:15<00:05, 36.44it/s, loss=0.000526]"
     ]
    },
    {
     "name": "stderr",
     "output_type": "stream",
     "text": [
      "\r",
      " 29%|██▊       | 86/300 [00:15<00:05, 36.44it/s, loss=0.000513]"
     ]
    },
    {
     "name": "stderr",
     "output_type": "stream",
     "text": [
      "\r",
      " 29%|██▊       | 86/300 [00:15<00:05, 36.44it/s, loss=0.000498]"
     ]
    },
    {
     "name": "stderr",
     "output_type": "stream",
     "text": [
      "\r",
      " 29%|██▊       | 86/300 [00:15<00:05, 36.44it/s, loss=0.000503]"
     ]
    },
    {
     "name": "stderr",
     "output_type": "stream",
     "text": [
      "\r",
      " 29%|██▊       | 86/300 [00:15<00:05, 36.44it/s, loss=0.000515]"
     ]
    },
    {
     "name": "stderr",
     "output_type": "stream",
     "text": [
      "\r",
      " 30%|███       | 90/300 [00:15<00:05, 36.52it/s, loss=0.000515]"
     ]
    },
    {
     "name": "stderr",
     "output_type": "stream",
     "text": [
      "\r",
      " 30%|███       | 90/300 [00:15<00:05, 36.52it/s, loss=0.000511]"
     ]
    },
    {
     "name": "stderr",
     "output_type": "stream",
     "text": [
      "\r",
      " 30%|███       | 90/300 [00:15<00:05, 36.52it/s, loss=0.000499]"
     ]
    },
    {
     "name": "stderr",
     "output_type": "stream",
     "text": [
      "\r",
      " 30%|███       | 90/300 [00:15<00:05, 36.52it/s, loss=0.000498]"
     ]
    },
    {
     "name": "stderr",
     "output_type": "stream",
     "text": [
      "\r",
      " 30%|███       | 90/300 [00:15<00:05, 36.52it/s, loss=0.000507]"
     ]
    },
    {
     "name": "stderr",
     "output_type": "stream",
     "text": [
      "\r",
      " 31%|███▏      | 94/300 [00:15<00:05, 36.55it/s, loss=0.000507]"
     ]
    },
    {
     "name": "stderr",
     "output_type": "stream",
     "text": [
      "\r",
      " 31%|███▏      | 94/300 [00:15<00:05, 36.55it/s, loss=0.000508]"
     ]
    },
    {
     "name": "stderr",
     "output_type": "stream",
     "text": [
      "\r",
      " 31%|███▏      | 94/300 [00:15<00:05, 36.55it/s, loss=0.000500]"
     ]
    },
    {
     "name": "stderr",
     "output_type": "stream",
     "text": [
      "\r",
      " 31%|███▏      | 94/300 [00:15<00:05, 36.55it/s, loss=0.000497]"
     ]
    },
    {
     "name": "stderr",
     "output_type": "stream",
     "text": [
      "\r",
      " 31%|███▏      | 94/300 [00:15<00:05, 36.55it/s, loss=0.000502]"
     ]
    },
    {
     "name": "stderr",
     "output_type": "stream",
     "text": [
      "\r",
      " 33%|███▎      | 98/300 [00:15<00:05, 36.69it/s, loss=0.000502]"
     ]
    },
    {
     "name": "stderr",
     "output_type": "stream",
     "text": [
      "\r",
      " 33%|███▎      | 98/300 [00:15<00:05, 36.69it/s, loss=0.000505]"
     ]
    },
    {
     "name": "stderr",
     "output_type": "stream",
     "text": [
      "\r",
      " 33%|███▎      | 98/300 [00:15<00:05, 36.69it/s, loss=0.000500]"
     ]
    },
    {
     "name": "stderr",
     "output_type": "stream",
     "text": [
      "\r",
      " 33%|███▎      | 98/300 [00:15<00:05, 36.69it/s, loss=0.000497]"
     ]
    },
    {
     "name": "stderr",
     "output_type": "stream",
     "text": [
      "\r",
      " 33%|███▎      | 98/300 [00:15<00:05, 36.69it/s, loss=0.000499]"
     ]
    },
    {
     "name": "stderr",
     "output_type": "stream",
     "text": [
      "\r",
      " 34%|███▍      | 102/300 [00:15<00:05, 36.77it/s, loss=0.000499]"
     ]
    },
    {
     "name": "stderr",
     "output_type": "stream",
     "text": [
      "\r",
      " 34%|███▍      | 102/300 [00:15<00:05, 36.77it/s, loss=0.000502]"
     ]
    },
    {
     "name": "stderr",
     "output_type": "stream",
     "text": [
      "\r",
      " 34%|███▍      | 102/300 [00:15<00:05, 36.77it/s, loss=0.000500]"
     ]
    },
    {
     "name": "stderr",
     "output_type": "stream",
     "text": [
      "\r",
      " 34%|███▍      | 102/300 [00:15<00:05, 36.77it/s, loss=0.000497]"
     ]
    },
    {
     "name": "stderr",
     "output_type": "stream",
     "text": [
      "\r",
      " 34%|███▍      | 102/300 [00:15<00:05, 36.77it/s, loss=0.000498]"
     ]
    },
    {
     "name": "stderr",
     "output_type": "stream",
     "text": [
      "\r",
      " 35%|███▌      | 106/300 [00:15<00:05, 36.87it/s, loss=0.000498]"
     ]
    },
    {
     "name": "stderr",
     "output_type": "stream",
     "text": [
      "\r",
      " 35%|███▌      | 106/300 [00:15<00:05, 36.87it/s, loss=0.000500]"
     ]
    },
    {
     "name": "stderr",
     "output_type": "stream",
     "text": [
      "\r",
      " 35%|███▌      | 106/300 [00:15<00:05, 36.87it/s, loss=0.000499]"
     ]
    },
    {
     "name": "stderr",
     "output_type": "stream",
     "text": [
      "\r",
      " 35%|███▌      | 106/300 [00:15<00:05, 36.87it/s, loss=0.000497]"
     ]
    },
    {
     "name": "stderr",
     "output_type": "stream",
     "text": [
      "\r",
      " 35%|███▌      | 106/300 [00:15<00:05, 36.87it/s, loss=0.000498]"
     ]
    },
    {
     "name": "stderr",
     "output_type": "stream",
     "text": [
      "\r",
      " 37%|███▋      | 110/300 [00:15<00:05, 36.68it/s, loss=0.000498]"
     ]
    },
    {
     "name": "stderr",
     "output_type": "stream",
     "text": [
      "\r",
      " 37%|███▋      | 110/300 [00:15<00:05, 36.68it/s, loss=0.000499]"
     ]
    },
    {
     "name": "stderr",
     "output_type": "stream",
     "text": [
      "\r",
      " 37%|███▋      | 110/300 [00:15<00:05, 36.68it/s, loss=0.000499]"
     ]
    },
    {
     "name": "stderr",
     "output_type": "stream",
     "text": [
      "\r",
      " 37%|███▋      | 110/300 [00:15<00:05, 36.68it/s, loss=0.000497]"
     ]
    },
    {
     "name": "stderr",
     "output_type": "stream",
     "text": [
      "\r",
      " 37%|███▋      | 110/300 [00:15<00:05, 36.68it/s, loss=0.000497]"
     ]
    },
    {
     "name": "stderr",
     "output_type": "stream",
     "text": [
      "\r",
      " 38%|███▊      | 114/300 [00:15<00:05, 36.94it/s, loss=0.000497]"
     ]
    },
    {
     "name": "stderr",
     "output_type": "stream",
     "text": [
      "\r",
      " 38%|███▊      | 114/300 [00:16<00:05, 36.94it/s, loss=0.000498]"
     ]
    },
    {
     "name": "stderr",
     "output_type": "stream",
     "text": [
      "\r",
      " 38%|███▊      | 114/300 [00:16<00:05, 36.94it/s, loss=0.000498]"
     ]
    },
    {
     "name": "stderr",
     "output_type": "stream",
     "text": [
      "\r",
      " 38%|███▊      | 114/300 [00:16<00:05, 36.94it/s, loss=0.000497]"
     ]
    },
    {
     "name": "stderr",
     "output_type": "stream",
     "text": [
      "\r",
      " 38%|███▊      | 114/300 [00:16<00:05, 36.94it/s, loss=0.000497]"
     ]
    },
    {
     "name": "stderr",
     "output_type": "stream",
     "text": [
      "\r",
      " 39%|███▉      | 118/300 [00:16<00:04, 37.10it/s, loss=0.000497]"
     ]
    },
    {
     "name": "stderr",
     "output_type": "stream",
     "text": [
      "\r",
      " 39%|███▉      | 118/300 [00:16<00:04, 37.10it/s, loss=0.000498]"
     ]
    },
    {
     "name": "stderr",
     "output_type": "stream",
     "text": [
      "\r",
      " 39%|███▉      | 118/300 [00:16<00:04, 37.10it/s, loss=0.000498]"
     ]
    },
    {
     "name": "stderr",
     "output_type": "stream",
     "text": [
      "\r",
      " 39%|███▉      | 118/300 [00:16<00:04, 37.10it/s, loss=0.000497]"
     ]
    },
    {
     "name": "stderr",
     "output_type": "stream",
     "text": [
      "\r",
      " 39%|███▉      | 118/300 [00:16<00:04, 37.10it/s, loss=0.000497]"
     ]
    },
    {
     "name": "stderr",
     "output_type": "stream",
     "text": [
      "\r",
      " 41%|████      | 122/300 [00:16<00:04, 36.98it/s, loss=0.000497]"
     ]
    },
    {
     "name": "stderr",
     "output_type": "stream",
     "text": [
      "\r",
      " 41%|████      | 122/300 [00:16<00:04, 36.98it/s, loss=0.000498]"
     ]
    },
    {
     "name": "stderr",
     "output_type": "stream",
     "text": [
      "\r",
      " 41%|████      | 122/300 [00:16<00:04, 36.98it/s, loss=0.000497]"
     ]
    },
    {
     "name": "stderr",
     "output_type": "stream",
     "text": [
      "\r",
      " 41%|████      | 122/300 [00:16<00:04, 36.98it/s, loss=0.000497]"
     ]
    },
    {
     "name": "stderr",
     "output_type": "stream",
     "text": [
      "\r",
      " 41%|████      | 122/300 [00:16<00:04, 36.98it/s, loss=0.000497]"
     ]
    },
    {
     "name": "stderr",
     "output_type": "stream",
     "text": [
      "\r",
      " 42%|████▏     | 126/300 [00:16<00:04, 36.82it/s, loss=0.000497]"
     ]
    },
    {
     "name": "stderr",
     "output_type": "stream",
     "text": [
      "\r",
      " 42%|████▏     | 126/300 [00:16<00:04, 36.82it/s, loss=0.000497]"
     ]
    },
    {
     "name": "stderr",
     "output_type": "stream",
     "text": [
      "\r",
      " 42%|████▏     | 126/300 [00:16<00:04, 36.82it/s, loss=0.000497]"
     ]
    },
    {
     "name": "stderr",
     "output_type": "stream",
     "text": [
      "\r",
      " 42%|████▏     | 126/300 [00:16<00:04, 36.82it/s, loss=0.000497]"
     ]
    },
    {
     "name": "stderr",
     "output_type": "stream",
     "text": [
      "\r",
      " 42%|████▏     | 126/300 [00:16<00:04, 36.82it/s, loss=0.000497]"
     ]
    },
    {
     "name": "stderr",
     "output_type": "stream",
     "text": [
      "\r",
      " 43%|████▎     | 130/300 [00:16<00:04, 37.05it/s, loss=0.000497]"
     ]
    },
    {
     "name": "stderr",
     "output_type": "stream",
     "text": [
      "\r",
      " 43%|████▎     | 130/300 [00:16<00:04, 37.05it/s, loss=0.000497]"
     ]
    },
    {
     "name": "stderr",
     "output_type": "stream",
     "text": [
      "\r",
      " 43%|████▎     | 130/300 [00:16<00:04, 37.05it/s, loss=0.000497]"
     ]
    },
    {
     "name": "stderr",
     "output_type": "stream",
     "text": [
      "\r",
      " 43%|████▎     | 130/300 [00:16<00:04, 37.05it/s, loss=0.000497]"
     ]
    },
    {
     "name": "stderr",
     "output_type": "stream",
     "text": [
      "\r",
      " 43%|████▎     | 130/300 [00:16<00:04, 37.05it/s, loss=0.000497]"
     ]
    },
    {
     "name": "stderr",
     "output_type": "stream",
     "text": [
      "\r",
      " 45%|████▍     | 134/300 [00:16<00:04, 36.80it/s, loss=0.000497]"
     ]
    },
    {
     "name": "stderr",
     "output_type": "stream",
     "text": [
      "\r",
      " 45%|████▍     | 134/300 [00:16<00:04, 36.80it/s, loss=0.000497]"
     ]
    },
    {
     "name": "stderr",
     "output_type": "stream",
     "text": [
      "\r",
      " 45%|████▍     | 134/300 [00:16<00:04, 36.80it/s, loss=0.000497]"
     ]
    },
    {
     "name": "stderr",
     "output_type": "stream",
     "text": [
      "\r",
      " 45%|████▍     | 134/300 [00:16<00:04, 36.80it/s, loss=0.000497]"
     ]
    },
    {
     "name": "stderr",
     "output_type": "stream",
     "text": [
      "\r",
      " 45%|████▍     | 134/300 [00:16<00:04, 36.80it/s, loss=0.000497]"
     ]
    },
    {
     "name": "stderr",
     "output_type": "stream",
     "text": [
      "\r",
      " 46%|████▌     | 138/300 [00:16<00:04, 36.74it/s, loss=0.000497]"
     ]
    },
    {
     "name": "stderr",
     "output_type": "stream",
     "text": [
      "\r",
      " 46%|████▌     | 138/300 [00:16<00:04, 36.74it/s, loss=0.000497]"
     ]
    },
    {
     "name": "stderr",
     "output_type": "stream",
     "text": [
      "\r",
      " 46%|████▌     | 138/300 [00:16<00:04, 36.74it/s, loss=0.000497]"
     ]
    },
    {
     "name": "stderr",
     "output_type": "stream",
     "text": [
      "\r",
      " 46%|████▌     | 138/300 [00:16<00:04, 36.74it/s, loss=0.000497]"
     ]
    },
    {
     "name": "stderr",
     "output_type": "stream",
     "text": [
      "\r",
      " 46%|████▌     | 138/300 [00:16<00:04, 36.74it/s, loss=0.000497]"
     ]
    },
    {
     "name": "stderr",
     "output_type": "stream",
     "text": [
      "\r",
      " 47%|████▋     | 142/300 [00:16<00:04, 36.67it/s, loss=0.000497]"
     ]
    },
    {
     "name": "stderr",
     "output_type": "stream",
     "text": [
      "\r",
      " 47%|████▋     | 142/300 [00:16<00:04, 36.67it/s, loss=0.000497]"
     ]
    },
    {
     "name": "stderr",
     "output_type": "stream",
     "text": [
      "\r",
      " 47%|████▋     | 142/300 [00:16<00:04, 36.67it/s, loss=0.000497]"
     ]
    },
    {
     "name": "stderr",
     "output_type": "stream",
     "text": [
      "\r",
      " 47%|████▋     | 142/300 [00:16<00:04, 36.67it/s, loss=0.000497]"
     ]
    },
    {
     "name": "stderr",
     "output_type": "stream",
     "text": [
      "\r",
      " 47%|████▋     | 142/300 [00:16<00:04, 36.67it/s, loss=0.000497]"
     ]
    },
    {
     "name": "stderr",
     "output_type": "stream",
     "text": [
      "\r",
      " 49%|████▊     | 146/300 [00:16<00:04, 36.79it/s, loss=0.000497]"
     ]
    },
    {
     "name": "stderr",
     "output_type": "stream",
     "text": [
      "\r",
      " 49%|████▊     | 146/300 [00:16<00:04, 36.79it/s, loss=0.000497]"
     ]
    },
    {
     "name": "stderr",
     "output_type": "stream",
     "text": [
      "\r",
      " 49%|████▊     | 146/300 [00:16<00:04, 36.79it/s, loss=0.000497]"
     ]
    },
    {
     "name": "stderr",
     "output_type": "stream",
     "text": [
      "\r",
      " 49%|████▊     | 146/300 [00:16<00:04, 36.79it/s, loss=0.000497]"
     ]
    },
    {
     "name": "stderr",
     "output_type": "stream",
     "text": [
      "\r",
      " 49%|████▊     | 146/300 [00:16<00:04, 36.79it/s, loss=0.000497]"
     ]
    },
    {
     "name": "stderr",
     "output_type": "stream",
     "text": [
      "\r",
      " 50%|█████     | 150/300 [00:16<00:04, 36.80it/s, loss=0.000497]"
     ]
    },
    {
     "name": "stderr",
     "output_type": "stream",
     "text": [
      "\r",
      " 50%|█████     | 150/300 [00:16<00:04, 36.80it/s, loss=0.000497]"
     ]
    },
    {
     "name": "stderr",
     "output_type": "stream",
     "text": [
      "\r",
      " 50%|█████     | 150/300 [00:17<00:04, 36.80it/s, loss=0.000497]"
     ]
    },
    {
     "name": "stderr",
     "output_type": "stream",
     "text": [
      "\r",
      " 50%|█████     | 150/300 [00:17<00:04, 36.80it/s, loss=0.000497]"
     ]
    },
    {
     "name": "stderr",
     "output_type": "stream",
     "text": [
      "\r",
      " 50%|█████     | 150/300 [00:17<00:04, 36.80it/s, loss=0.000497]"
     ]
    },
    {
     "name": "stderr",
     "output_type": "stream",
     "text": [
      "\r",
      " 51%|█████▏    | 154/300 [00:17<00:03, 36.91it/s, loss=0.000497]"
     ]
    },
    {
     "name": "stderr",
     "output_type": "stream",
     "text": [
      "\r",
      " 51%|█████▏    | 154/300 [00:17<00:03, 36.91it/s, loss=0.000497]"
     ]
    },
    {
     "name": "stderr",
     "output_type": "stream",
     "text": [
      "\r",
      " 51%|█████▏    | 154/300 [00:17<00:03, 36.91it/s, loss=0.000497]"
     ]
    },
    {
     "name": "stderr",
     "output_type": "stream",
     "text": [
      "\r",
      " 51%|█████▏    | 154/300 [00:17<00:03, 36.91it/s, loss=0.000497]"
     ]
    },
    {
     "name": "stderr",
     "output_type": "stream",
     "text": [
      "\r",
      " 51%|█████▏    | 154/300 [00:17<00:03, 36.91it/s, loss=0.000497]"
     ]
    },
    {
     "name": "stderr",
     "output_type": "stream",
     "text": [
      "\r",
      " 53%|█████▎    | 158/300 [00:17<00:03, 36.11it/s, loss=0.000497]"
     ]
    },
    {
     "name": "stderr",
     "output_type": "stream",
     "text": [
      "\r",
      " 53%|█████▎    | 158/300 [00:17<00:03, 36.11it/s, loss=0.000497]"
     ]
    },
    {
     "name": "stderr",
     "output_type": "stream",
     "text": [
      "\r",
      " 53%|█████▎    | 158/300 [00:17<00:03, 36.11it/s, loss=0.000497]"
     ]
    },
    {
     "name": "stderr",
     "output_type": "stream",
     "text": [
      "\r",
      " 53%|█████▎    | 158/300 [00:17<00:03, 36.11it/s, loss=0.000497]"
     ]
    },
    {
     "name": "stderr",
     "output_type": "stream",
     "text": [
      "\r",
      " 53%|█████▎    | 158/300 [00:17<00:03, 36.11it/s, loss=0.000497]"
     ]
    },
    {
     "name": "stderr",
     "output_type": "stream",
     "text": [
      "\r",
      " 54%|█████▍    | 162/300 [00:17<00:03, 36.32it/s, loss=0.000497]"
     ]
    },
    {
     "name": "stderr",
     "output_type": "stream",
     "text": [
      "\r",
      " 54%|█████▍    | 162/300 [00:17<00:03, 36.32it/s, loss=0.000497]"
     ]
    },
    {
     "name": "stderr",
     "output_type": "stream",
     "text": [
      "\r",
      " 54%|█████▍    | 162/300 [00:17<00:03, 36.32it/s, loss=0.000497]"
     ]
    },
    {
     "name": "stderr",
     "output_type": "stream",
     "text": [
      "\r",
      " 54%|█████▍    | 162/300 [00:17<00:03, 36.32it/s, loss=0.000497]"
     ]
    },
    {
     "name": "stderr",
     "output_type": "stream",
     "text": [
      "\r",
      " 54%|█████▍    | 162/300 [00:17<00:03, 36.32it/s, loss=0.000497]"
     ]
    },
    {
     "name": "stderr",
     "output_type": "stream",
     "text": [
      "\r",
      " 55%|█████▌    | 166/300 [00:17<00:03, 36.91it/s, loss=0.000497]"
     ]
    },
    {
     "name": "stderr",
     "output_type": "stream",
     "text": [
      "\r",
      " 55%|█████▌    | 166/300 [00:17<00:03, 36.91it/s, loss=0.000497]"
     ]
    },
    {
     "name": "stderr",
     "output_type": "stream",
     "text": [
      "\r",
      " 55%|█████▌    | 166/300 [00:17<00:03, 36.91it/s, loss=0.000497]"
     ]
    },
    {
     "name": "stderr",
     "output_type": "stream",
     "text": [
      "\r",
      " 55%|█████▌    | 166/300 [00:17<00:03, 36.91it/s, loss=0.000497]"
     ]
    },
    {
     "name": "stderr",
     "output_type": "stream",
     "text": [
      "\r",
      " 55%|█████▌    | 166/300 [00:17<00:03, 36.91it/s, loss=0.000497]"
     ]
    },
    {
     "name": "stderr",
     "output_type": "stream",
     "text": [
      "\r",
      " 57%|█████▋    | 170/300 [00:17<00:03, 37.06it/s, loss=0.000497]"
     ]
    },
    {
     "name": "stderr",
     "output_type": "stream",
     "text": [
      "\r",
      " 57%|█████▋    | 170/300 [00:17<00:03, 37.06it/s, loss=0.000497]"
     ]
    },
    {
     "name": "stderr",
     "output_type": "stream",
     "text": [
      "\r",
      " 57%|█████▋    | 170/300 [00:17<00:03, 37.06it/s, loss=0.000497]"
     ]
    },
    {
     "name": "stderr",
     "output_type": "stream",
     "text": [
      "\r",
      " 57%|█████▋    | 170/300 [00:17<00:03, 37.06it/s, loss=0.000497]"
     ]
    },
    {
     "name": "stderr",
     "output_type": "stream",
     "text": [
      "\r",
      " 57%|█████▋    | 170/300 [00:17<00:03, 37.06it/s, loss=0.000497]"
     ]
    },
    {
     "name": "stderr",
     "output_type": "stream",
     "text": [
      "\r",
      " 58%|█████▊    | 174/300 [00:17<00:03, 36.89it/s, loss=0.000497]"
     ]
    },
    {
     "name": "stderr",
     "output_type": "stream",
     "text": [
      "\r",
      " 58%|█████▊    | 174/300 [00:17<00:03, 36.89it/s, loss=0.000497]"
     ]
    },
    {
     "name": "stderr",
     "output_type": "stream",
     "text": [
      "\r",
      " 58%|█████▊    | 174/300 [00:17<00:03, 36.89it/s, loss=0.000497]"
     ]
    },
    {
     "name": "stderr",
     "output_type": "stream",
     "text": [
      "\r",
      " 58%|█████▊    | 174/300 [00:17<00:03, 36.89it/s, loss=0.000497]"
     ]
    },
    {
     "name": "stderr",
     "output_type": "stream",
     "text": [
      "\r",
      " 58%|█████▊    | 174/300 [00:17<00:03, 36.89it/s, loss=0.000497]"
     ]
    },
    {
     "name": "stderr",
     "output_type": "stream",
     "text": [
      "\r",
      " 59%|█████▉    | 178/300 [00:17<00:03, 37.02it/s, loss=0.000497]"
     ]
    },
    {
     "name": "stderr",
     "output_type": "stream",
     "text": [
      "\r",
      " 59%|█████▉    | 178/300 [00:17<00:03, 37.02it/s, loss=0.000497]"
     ]
    },
    {
     "name": "stderr",
     "output_type": "stream",
     "text": [
      "\r",
      " 59%|█████▉    | 178/300 [00:17<00:03, 37.02it/s, loss=0.000497]"
     ]
    },
    {
     "name": "stderr",
     "output_type": "stream",
     "text": [
      "\r",
      " 59%|█████▉    | 178/300 [00:17<00:03, 37.02it/s, loss=0.000497]"
     ]
    },
    {
     "name": "stderr",
     "output_type": "stream",
     "text": [
      "\r",
      " 59%|█████▉    | 178/300 [00:17<00:03, 37.02it/s, loss=0.000497]"
     ]
    },
    {
     "name": "stderr",
     "output_type": "stream",
     "text": [
      "\r",
      " 61%|██████    | 182/300 [00:17<00:03, 36.93it/s, loss=0.000497]"
     ]
    },
    {
     "name": "stderr",
     "output_type": "stream",
     "text": [
      "\r",
      " 61%|██████    | 182/300 [00:17<00:03, 36.93it/s, loss=0.000497]"
     ]
    },
    {
     "name": "stderr",
     "output_type": "stream",
     "text": [
      "\r",
      " 61%|██████    | 182/300 [00:17<00:03, 36.93it/s, loss=0.000497]"
     ]
    },
    {
     "name": "stderr",
     "output_type": "stream",
     "text": [
      "\r",
      " 61%|██████    | 182/300 [00:17<00:03, 36.93it/s, loss=0.000497]"
     ]
    },
    {
     "name": "stderr",
     "output_type": "stream",
     "text": [
      "\r",
      " 61%|██████    | 182/300 [00:17<00:03, 36.93it/s, loss=0.000497]"
     ]
    },
    {
     "name": "stderr",
     "output_type": "stream",
     "text": [
      "\r",
      " 62%|██████▏   | 186/300 [00:17<00:03, 37.21it/s, loss=0.000497]"
     ]
    },
    {
     "name": "stderr",
     "output_type": "stream",
     "text": [
      "\r",
      " 62%|██████▏   | 186/300 [00:17<00:03, 37.21it/s, loss=0.000497]"
     ]
    },
    {
     "name": "stderr",
     "output_type": "stream",
     "text": [
      "\r",
      " 62%|██████▏   | 186/300 [00:17<00:03, 37.21it/s, loss=0.000497]"
     ]
    },
    {
     "name": "stderr",
     "output_type": "stream",
     "text": [
      "\r",
      " 62%|██████▏   | 186/300 [00:18<00:03, 37.21it/s, loss=0.000497]"
     ]
    },
    {
     "name": "stderr",
     "output_type": "stream",
     "text": [
      "\r",
      " 62%|██████▏   | 186/300 [00:18<00:03, 37.21it/s, loss=0.000497]"
     ]
    },
    {
     "name": "stderr",
     "output_type": "stream",
     "text": [
      "\r",
      " 63%|██████▎   | 190/300 [00:18<00:02, 37.37it/s, loss=0.000497]"
     ]
    },
    {
     "name": "stderr",
     "output_type": "stream",
     "text": [
      "\r",
      " 63%|██████▎   | 190/300 [00:18<00:02, 37.37it/s, loss=0.000497]"
     ]
    },
    {
     "name": "stderr",
     "output_type": "stream",
     "text": [
      "\r",
      " 63%|██████▎   | 190/300 [00:18<00:02, 37.37it/s, loss=0.000497]"
     ]
    },
    {
     "name": "stderr",
     "output_type": "stream",
     "text": [
      "\r",
      " 63%|██████▎   | 190/300 [00:18<00:02, 37.37it/s, loss=0.000497]"
     ]
    },
    {
     "name": "stderr",
     "output_type": "stream",
     "text": [
      "\r",
      " 63%|██████▎   | 190/300 [00:18<00:02, 37.37it/s, loss=0.000497]"
     ]
    },
    {
     "name": "stderr",
     "output_type": "stream",
     "text": [
      "\r",
      " 65%|██████▍   | 194/300 [00:18<00:02, 37.37it/s, loss=0.000497]"
     ]
    },
    {
     "name": "stderr",
     "output_type": "stream",
     "text": [
      "\r",
      " 65%|██████▍   | 194/300 [00:18<00:02, 37.37it/s, loss=0.000497]"
     ]
    },
    {
     "name": "stderr",
     "output_type": "stream",
     "text": [
      "\r",
      " 65%|██████▍   | 194/300 [00:18<00:02, 37.37it/s, loss=0.000497]"
     ]
    },
    {
     "name": "stderr",
     "output_type": "stream",
     "text": [
      "\r",
      " 65%|██████▍   | 194/300 [00:18<00:02, 37.37it/s, loss=0.000497]"
     ]
    },
    {
     "name": "stderr",
     "output_type": "stream",
     "text": [
      "\r",
      " 65%|██████▍   | 194/300 [00:18<00:02, 37.37it/s, loss=0.000497]"
     ]
    },
    {
     "name": "stderr",
     "output_type": "stream",
     "text": [
      "\r",
      " 66%|██████▌   | 198/300 [00:18<00:02, 37.44it/s, loss=0.000497]"
     ]
    },
    {
     "name": "stderr",
     "output_type": "stream",
     "text": [
      "\r",
      " 66%|██████▌   | 198/300 [00:18<00:02, 37.44it/s, loss=0.000497]"
     ]
    },
    {
     "name": "stderr",
     "output_type": "stream",
     "text": [
      "\r",
      " 66%|██████▌   | 198/300 [00:18<00:02, 37.44it/s, loss=0.000497]"
     ]
    },
    {
     "name": "stderr",
     "output_type": "stream",
     "text": [
      "\r",
      " 66%|██████▌   | 198/300 [00:18<00:02, 37.44it/s, loss=0.000497]"
     ]
    },
    {
     "name": "stderr",
     "output_type": "stream",
     "text": [
      "\r",
      " 66%|██████▌   | 198/300 [00:18<00:02, 37.44it/s, loss=0.000497]"
     ]
    },
    {
     "name": "stderr",
     "output_type": "stream",
     "text": [
      "\r",
      " 67%|██████▋   | 202/300 [00:18<00:02, 37.27it/s, loss=0.000497]"
     ]
    },
    {
     "name": "stderr",
     "output_type": "stream",
     "text": [
      "\r",
      " 67%|██████▋   | 202/300 [00:18<00:02, 37.27it/s, loss=0.000497]"
     ]
    },
    {
     "name": "stderr",
     "output_type": "stream",
     "text": [
      "\r",
      " 67%|██████▋   | 202/300 [00:18<00:02, 37.27it/s, loss=0.000497]"
     ]
    },
    {
     "name": "stderr",
     "output_type": "stream",
     "text": [
      "\r",
      " 67%|██████▋   | 202/300 [00:18<00:02, 37.27it/s, loss=0.000497]"
     ]
    },
    {
     "name": "stderr",
     "output_type": "stream",
     "text": [
      "\r",
      " 67%|██████▋   | 202/300 [00:18<00:02, 37.27it/s, loss=0.000497]"
     ]
    },
    {
     "name": "stderr",
     "output_type": "stream",
     "text": [
      "\r",
      " 69%|██████▊   | 206/300 [00:18<00:02, 37.13it/s, loss=0.000497]"
     ]
    },
    {
     "name": "stderr",
     "output_type": "stream",
     "text": [
      "\r",
      " 69%|██████▊   | 206/300 [00:18<00:02, 37.13it/s, loss=0.000497]"
     ]
    },
    {
     "name": "stderr",
     "output_type": "stream",
     "text": [
      "\r",
      " 69%|██████▊   | 206/300 [00:18<00:02, 37.13it/s, loss=0.000497]"
     ]
    },
    {
     "name": "stderr",
     "output_type": "stream",
     "text": [
      "\r",
      " 69%|██████▊   | 206/300 [00:18<00:02, 37.13it/s, loss=0.000497]"
     ]
    },
    {
     "name": "stderr",
     "output_type": "stream",
     "text": [
      "\r",
      " 69%|██████▊   | 206/300 [00:18<00:02, 37.13it/s, loss=0.000497]"
     ]
    },
    {
     "name": "stderr",
     "output_type": "stream",
     "text": [
      "\r",
      " 70%|███████   | 210/300 [00:18<00:02, 37.12it/s, loss=0.000497]"
     ]
    },
    {
     "name": "stderr",
     "output_type": "stream",
     "text": [
      "\r",
      " 70%|███████   | 210/300 [00:18<00:02, 37.12it/s, loss=0.000497]"
     ]
    },
    {
     "name": "stderr",
     "output_type": "stream",
     "text": [
      "\r",
      " 70%|███████   | 210/300 [00:18<00:02, 37.12it/s, loss=0.000497]"
     ]
    },
    {
     "name": "stderr",
     "output_type": "stream",
     "text": [
      "\r",
      " 70%|███████   | 210/300 [00:18<00:02, 37.12it/s, loss=0.000497]"
     ]
    },
    {
     "name": "stderr",
     "output_type": "stream",
     "text": [
      "\r",
      " 70%|███████   | 210/300 [00:18<00:02, 37.12it/s, loss=0.000497]"
     ]
    },
    {
     "name": "stderr",
     "output_type": "stream",
     "text": [
      "\r",
      " 71%|███████▏  | 214/300 [00:18<00:02, 36.90it/s, loss=0.000497]"
     ]
    },
    {
     "name": "stderr",
     "output_type": "stream",
     "text": [
      "\r",
      " 71%|███████▏  | 214/300 [00:18<00:02, 36.90it/s, loss=0.000497]"
     ]
    },
    {
     "name": "stderr",
     "output_type": "stream",
     "text": [
      "\r",
      " 71%|███████▏  | 214/300 [00:18<00:02, 36.90it/s, loss=0.000497]"
     ]
    },
    {
     "name": "stderr",
     "output_type": "stream",
     "text": [
      "\r",
      " 71%|███████▏  | 214/300 [00:18<00:02, 36.90it/s, loss=0.000497]"
     ]
    },
    {
     "name": "stderr",
     "output_type": "stream",
     "text": [
      "\r",
      " 71%|███████▏  | 214/300 [00:18<00:02, 36.90it/s, loss=0.000497]"
     ]
    },
    {
     "name": "stderr",
     "output_type": "stream",
     "text": [
      "\r",
      " 73%|███████▎  | 218/300 [00:18<00:02, 36.93it/s, loss=0.000497]"
     ]
    },
    {
     "name": "stderr",
     "output_type": "stream",
     "text": [
      "\r",
      " 73%|███████▎  | 218/300 [00:18<00:02, 36.93it/s, loss=0.000497]"
     ]
    },
    {
     "name": "stderr",
     "output_type": "stream",
     "text": [
      "\r",
      " 73%|███████▎  | 218/300 [00:18<00:02, 36.93it/s, loss=0.000497]"
     ]
    },
    {
     "name": "stderr",
     "output_type": "stream",
     "text": [
      "\r",
      " 73%|███████▎  | 218/300 [00:18<00:02, 36.93it/s, loss=0.000497]"
     ]
    },
    {
     "name": "stderr",
     "output_type": "stream",
     "text": [
      "\r",
      " 73%|███████▎  | 218/300 [00:18<00:02, 36.93it/s, loss=0.000497]"
     ]
    },
    {
     "name": "stderr",
     "output_type": "stream",
     "text": [
      "\r",
      " 74%|███████▍  | 222/300 [00:18<00:02, 36.70it/s, loss=0.000497]"
     ]
    },
    {
     "name": "stderr",
     "output_type": "stream",
     "text": [
      "\r",
      " 74%|███████▍  | 222/300 [00:18<00:02, 36.70it/s, loss=0.000497]"
     ]
    },
    {
     "name": "stderr",
     "output_type": "stream",
     "text": [
      "\r",
      " 74%|███████▍  | 222/300 [00:18<00:02, 36.70it/s, loss=0.000497]"
     ]
    },
    {
     "name": "stderr",
     "output_type": "stream",
     "text": [
      "\r",
      " 74%|███████▍  | 222/300 [00:18<00:02, 36.70it/s, loss=0.000497]"
     ]
    },
    {
     "name": "stderr",
     "output_type": "stream",
     "text": [
      "\r",
      " 74%|███████▍  | 222/300 [00:19<00:02, 36.70it/s, loss=0.000497]"
     ]
    },
    {
     "name": "stderr",
     "output_type": "stream",
     "text": [
      "\r",
      " 75%|███████▌  | 226/300 [00:19<00:02, 36.55it/s, loss=0.000497]"
     ]
    },
    {
     "name": "stderr",
     "output_type": "stream",
     "text": [
      "\r",
      " 75%|███████▌  | 226/300 [00:19<00:02, 36.55it/s, loss=0.000497]"
     ]
    },
    {
     "name": "stderr",
     "output_type": "stream",
     "text": [
      "\r",
      " 75%|███████▌  | 226/300 [00:19<00:02, 36.55it/s, loss=0.000497]"
     ]
    },
    {
     "name": "stderr",
     "output_type": "stream",
     "text": [
      "\r",
      " 75%|███████▌  | 226/300 [00:19<00:02, 36.55it/s, loss=0.000497]"
     ]
    },
    {
     "name": "stderr",
     "output_type": "stream",
     "text": [
      "\r",
      " 75%|███████▌  | 226/300 [00:19<00:02, 36.55it/s, loss=0.000497]"
     ]
    },
    {
     "name": "stderr",
     "output_type": "stream",
     "text": [
      "\r",
      " 77%|███████▋  | 230/300 [00:19<00:01, 36.50it/s, loss=0.000497]"
     ]
    },
    {
     "name": "stderr",
     "output_type": "stream",
     "text": [
      "\r",
      " 77%|███████▋  | 230/300 [00:19<00:01, 36.50it/s, loss=0.000497]"
     ]
    },
    {
     "name": "stderr",
     "output_type": "stream",
     "text": [
      "\r",
      " 77%|███████▋  | 230/300 [00:19<00:01, 36.50it/s, loss=0.000497]"
     ]
    },
    {
     "name": "stderr",
     "output_type": "stream",
     "text": [
      "\r",
      " 77%|███████▋  | 230/300 [00:19<00:01, 36.50it/s, loss=0.000497]"
     ]
    },
    {
     "name": "stderr",
     "output_type": "stream",
     "text": [
      "\r",
      " 77%|███████▋  | 230/300 [00:19<00:01, 36.50it/s, loss=0.000497]"
     ]
    },
    {
     "name": "stderr",
     "output_type": "stream",
     "text": [
      "\r",
      " 78%|███████▊  | 234/300 [00:19<00:01, 36.41it/s, loss=0.000497]"
     ]
    },
    {
     "name": "stderr",
     "output_type": "stream",
     "text": [
      "\r",
      " 78%|███████▊  | 234/300 [00:19<00:01, 36.41it/s, loss=0.000497]"
     ]
    },
    {
     "name": "stderr",
     "output_type": "stream",
     "text": [
      "\r",
      " 78%|███████▊  | 234/300 [00:19<00:01, 36.41it/s, loss=0.000497]"
     ]
    },
    {
     "name": "stderr",
     "output_type": "stream",
     "text": [
      "\r",
      " 78%|███████▊  | 234/300 [00:19<00:01, 36.41it/s, loss=0.000497]"
     ]
    },
    {
     "name": "stderr",
     "output_type": "stream",
     "text": [
      "\r",
      " 78%|███████▊  | 234/300 [00:19<00:01, 36.41it/s, loss=0.000497]"
     ]
    },
    {
     "name": "stderr",
     "output_type": "stream",
     "text": [
      "\r",
      " 79%|███████▉  | 238/300 [00:19<00:01, 36.18it/s, loss=0.000497]"
     ]
    },
    {
     "name": "stderr",
     "output_type": "stream",
     "text": [
      "\r",
      " 79%|███████▉  | 238/300 [00:19<00:01, 36.18it/s, loss=0.000497]"
     ]
    },
    {
     "name": "stderr",
     "output_type": "stream",
     "text": [
      "\r",
      " 79%|███████▉  | 238/300 [00:19<00:01, 36.18it/s, loss=0.000497]"
     ]
    },
    {
     "name": "stderr",
     "output_type": "stream",
     "text": [
      "\r",
      " 79%|███████▉  | 238/300 [00:19<00:01, 36.18it/s, loss=0.000497]"
     ]
    },
    {
     "name": "stderr",
     "output_type": "stream",
     "text": [
      "\r",
      " 79%|███████▉  | 238/300 [00:19<00:01, 36.18it/s, loss=0.000497]"
     ]
    },
    {
     "name": "stderr",
     "output_type": "stream",
     "text": [
      "\r",
      " 81%|████████  | 242/300 [00:19<00:01, 36.20it/s, loss=0.000497]"
     ]
    },
    {
     "name": "stderr",
     "output_type": "stream",
     "text": [
      "\r",
      " 81%|████████  | 242/300 [00:19<00:01, 36.20it/s, loss=0.000497]"
     ]
    },
    {
     "name": "stderr",
     "output_type": "stream",
     "text": [
      "\r",
      " 81%|████████  | 242/300 [00:19<00:01, 36.20it/s, loss=0.000497]"
     ]
    },
    {
     "name": "stderr",
     "output_type": "stream",
     "text": [
      "\r",
      " 81%|████████  | 242/300 [00:19<00:01, 36.20it/s, loss=0.000497]"
     ]
    },
    {
     "name": "stderr",
     "output_type": "stream",
     "text": [
      "\r",
      " 81%|████████  | 242/300 [00:19<00:01, 36.20it/s, loss=0.000497]"
     ]
    },
    {
     "name": "stderr",
     "output_type": "stream",
     "text": [
      "\r",
      " 82%|████████▏ | 246/300 [00:19<00:01, 36.16it/s, loss=0.000497]"
     ]
    },
    {
     "name": "stderr",
     "output_type": "stream",
     "text": [
      "\r",
      " 82%|████████▏ | 246/300 [00:19<00:01, 36.16it/s, loss=0.000497]"
     ]
    },
    {
     "name": "stderr",
     "output_type": "stream",
     "text": [
      "\r",
      " 82%|████████▏ | 246/300 [00:19<00:01, 36.16it/s, loss=0.000497]"
     ]
    },
    {
     "name": "stderr",
     "output_type": "stream",
     "text": [
      "\r",
      " 82%|████████▏ | 246/300 [00:19<00:01, 36.16it/s, loss=0.000497]"
     ]
    },
    {
     "name": "stderr",
     "output_type": "stream",
     "text": [
      "\r",
      " 82%|████████▏ | 246/300 [00:19<00:01, 36.16it/s, loss=0.000497]"
     ]
    },
    {
     "name": "stderr",
     "output_type": "stream",
     "text": [
      "\r",
      " 83%|████████▎ | 250/300 [00:19<00:01, 35.92it/s, loss=0.000497]"
     ]
    },
    {
     "name": "stderr",
     "output_type": "stream",
     "text": [
      "\r",
      " 83%|████████▎ | 250/300 [00:19<00:01, 35.92it/s, loss=0.000497]"
     ]
    },
    {
     "name": "stderr",
     "output_type": "stream",
     "text": [
      "\r",
      " 83%|████████▎ | 250/300 [00:19<00:01, 35.92it/s, loss=0.000497]"
     ]
    },
    {
     "name": "stderr",
     "output_type": "stream",
     "text": [
      "\r",
      " 83%|████████▎ | 250/300 [00:19<00:01, 35.92it/s, loss=0.000497]"
     ]
    },
    {
     "name": "stderr",
     "output_type": "stream",
     "text": [
      "\r",
      " 83%|████████▎ | 250/300 [00:19<00:01, 35.92it/s, loss=0.000497]"
     ]
    },
    {
     "name": "stderr",
     "output_type": "stream",
     "text": [
      "\r",
      " 85%|████████▍ | 254/300 [00:19<00:01, 36.06it/s, loss=0.000497]"
     ]
    },
    {
     "name": "stderr",
     "output_type": "stream",
     "text": [
      "\r",
      " 85%|████████▍ | 254/300 [00:19<00:01, 36.06it/s, loss=0.000497]"
     ]
    },
    {
     "name": "stderr",
     "output_type": "stream",
     "text": [
      "\r",
      " 85%|████████▍ | 254/300 [00:19<00:01, 36.06it/s, loss=0.000497]"
     ]
    },
    {
     "name": "stderr",
     "output_type": "stream",
     "text": [
      "\r",
      " 85%|████████▍ | 254/300 [00:19<00:01, 36.06it/s, loss=0.000497]"
     ]
    },
    {
     "name": "stderr",
     "output_type": "stream",
     "text": [
      "\r",
      " 85%|████████▍ | 254/300 [00:19<00:01, 36.06it/s, loss=0.000497]"
     ]
    },
    {
     "name": "stderr",
     "output_type": "stream",
     "text": [
      "\r",
      " 86%|████████▌ | 258/300 [00:19<00:01, 35.93it/s, loss=0.000497]"
     ]
    },
    {
     "name": "stderr",
     "output_type": "stream",
     "text": [
      "\r",
      " 86%|████████▌ | 258/300 [00:19<00:01, 35.93it/s, loss=0.000497]"
     ]
    },
    {
     "name": "stderr",
     "output_type": "stream",
     "text": [
      "\r",
      " 86%|████████▌ | 258/300 [00:19<00:01, 35.93it/s, loss=0.000497]"
     ]
    },
    {
     "name": "stderr",
     "output_type": "stream",
     "text": [
      "\r",
      " 86%|████████▌ | 258/300 [00:19<00:01, 35.93it/s, loss=0.000497]"
     ]
    },
    {
     "name": "stderr",
     "output_type": "stream",
     "text": [
      "\r",
      " 86%|████████▌ | 258/300 [00:20<00:01, 35.93it/s, loss=0.000497]"
     ]
    },
    {
     "name": "stderr",
     "output_type": "stream",
     "text": [
      "\r",
      " 87%|████████▋ | 262/300 [00:20<00:01, 35.90it/s, loss=0.000497]"
     ]
    },
    {
     "name": "stderr",
     "output_type": "stream",
     "text": [
      "\r",
      " 87%|████████▋ | 262/300 [00:20<00:01, 35.90it/s, loss=0.000497]"
     ]
    },
    {
     "name": "stderr",
     "output_type": "stream",
     "text": [
      "\r",
      " 87%|████████▋ | 262/300 [00:20<00:01, 35.90it/s, loss=0.000497]"
     ]
    },
    {
     "name": "stderr",
     "output_type": "stream",
     "text": [
      "\r",
      " 87%|████████▋ | 262/300 [00:20<00:01, 35.90it/s, loss=0.000497]"
     ]
    },
    {
     "name": "stderr",
     "output_type": "stream",
     "text": [
      "\r",
      " 87%|████████▋ | 262/300 [00:20<00:01, 35.90it/s, loss=0.000497]"
     ]
    },
    {
     "name": "stderr",
     "output_type": "stream",
     "text": [
      "\r",
      " 89%|████████▊ | 266/300 [00:20<00:00, 36.06it/s, loss=0.000497]"
     ]
    },
    {
     "name": "stderr",
     "output_type": "stream",
     "text": [
      "\r",
      " 89%|████████▊ | 266/300 [00:20<00:00, 36.06it/s, loss=0.000497]"
     ]
    },
    {
     "name": "stderr",
     "output_type": "stream",
     "text": [
      "\r",
      " 89%|████████▊ | 266/300 [00:20<00:00, 36.06it/s, loss=0.000497]"
     ]
    },
    {
     "name": "stderr",
     "output_type": "stream",
     "text": [
      "\r",
      " 89%|████████▊ | 266/300 [00:20<00:00, 36.06it/s, loss=0.000497]"
     ]
    },
    {
     "name": "stderr",
     "output_type": "stream",
     "text": [
      "\r",
      " 89%|████████▊ | 266/300 [00:20<00:00, 36.06it/s, loss=0.000497]"
     ]
    },
    {
     "name": "stderr",
     "output_type": "stream",
     "text": [
      "\r",
      " 90%|█████████ | 270/300 [00:20<00:00, 36.03it/s, loss=0.000497]"
     ]
    },
    {
     "name": "stderr",
     "output_type": "stream",
     "text": [
      "\r",
      " 90%|█████████ | 270/300 [00:20<00:00, 36.03it/s, loss=0.000497]"
     ]
    },
    {
     "name": "stderr",
     "output_type": "stream",
     "text": [
      "\r",
      " 90%|█████████ | 270/300 [00:20<00:00, 36.03it/s, loss=0.000497]"
     ]
    },
    {
     "name": "stderr",
     "output_type": "stream",
     "text": [
      "\r",
      " 90%|█████████ | 270/300 [00:20<00:00, 36.03it/s, loss=0.000497]"
     ]
    },
    {
     "name": "stderr",
     "output_type": "stream",
     "text": [
      "\r",
      " 90%|█████████ | 270/300 [00:20<00:00, 36.03it/s, loss=0.000497]"
     ]
    },
    {
     "name": "stderr",
     "output_type": "stream",
     "text": [
      "\r",
      " 91%|█████████▏| 274/300 [00:20<00:00, 36.15it/s, loss=0.000497]"
     ]
    },
    {
     "name": "stderr",
     "output_type": "stream",
     "text": [
      "\r",
      " 91%|█████████▏| 274/300 [00:20<00:00, 36.15it/s, loss=0.000497]"
     ]
    },
    {
     "name": "stderr",
     "output_type": "stream",
     "text": [
      "\r",
      " 91%|█████████▏| 274/300 [00:20<00:00, 36.15it/s, loss=0.000497]"
     ]
    },
    {
     "name": "stderr",
     "output_type": "stream",
     "text": [
      "\r",
      " 91%|█████████▏| 274/300 [00:20<00:00, 36.15it/s, loss=0.000497]"
     ]
    },
    {
     "name": "stderr",
     "output_type": "stream",
     "text": [
      "\r",
      " 91%|█████████▏| 274/300 [00:20<00:00, 36.15it/s, loss=0.000497]"
     ]
    },
    {
     "name": "stderr",
     "output_type": "stream",
     "text": [
      "\r",
      " 93%|█████████▎| 278/300 [00:20<00:00, 36.41it/s, loss=0.000497]"
     ]
    },
    {
     "name": "stderr",
     "output_type": "stream",
     "text": [
      "\r",
      " 93%|█████████▎| 278/300 [00:20<00:00, 36.41it/s, loss=0.000497]"
     ]
    },
    {
     "name": "stderr",
     "output_type": "stream",
     "text": [
      "\r",
      " 93%|█████████▎| 278/300 [00:20<00:00, 36.41it/s, loss=0.000497]"
     ]
    },
    {
     "name": "stderr",
     "output_type": "stream",
     "text": [
      "\r",
      " 93%|█████████▎| 278/300 [00:20<00:00, 36.41it/s, loss=0.000497]"
     ]
    },
    {
     "name": "stderr",
     "output_type": "stream",
     "text": [
      "\r",
      " 93%|█████████▎| 278/300 [00:20<00:00, 36.41it/s, loss=0.000497]"
     ]
    },
    {
     "name": "stderr",
     "output_type": "stream",
     "text": [
      "\r",
      " 94%|█████████▍| 282/300 [00:20<00:00, 36.50it/s, loss=0.000497]"
     ]
    },
    {
     "name": "stderr",
     "output_type": "stream",
     "text": [
      "\r",
      " 94%|█████████▍| 282/300 [00:20<00:00, 36.50it/s, loss=0.000497]"
     ]
    },
    {
     "name": "stderr",
     "output_type": "stream",
     "text": [
      "\r",
      " 94%|█████████▍| 282/300 [00:20<00:00, 36.50it/s, loss=0.000497]"
     ]
    },
    {
     "name": "stderr",
     "output_type": "stream",
     "text": [
      "\r",
      " 94%|█████████▍| 282/300 [00:20<00:00, 36.50it/s, loss=0.000497]"
     ]
    },
    {
     "name": "stderr",
     "output_type": "stream",
     "text": [
      "\r",
      " 94%|█████████▍| 282/300 [00:20<00:00, 36.50it/s, loss=0.000497]"
     ]
    },
    {
     "name": "stderr",
     "output_type": "stream",
     "text": [
      "\r",
      " 95%|█████████▌| 286/300 [00:20<00:00, 36.36it/s, loss=0.000497]"
     ]
    },
    {
     "name": "stderr",
     "output_type": "stream",
     "text": [
      "\r",
      " 95%|█████████▌| 286/300 [00:20<00:00, 36.36it/s, loss=0.000497]"
     ]
    },
    {
     "name": "stderr",
     "output_type": "stream",
     "text": [
      "\r",
      " 95%|█████████▌| 286/300 [00:20<00:00, 36.36it/s, loss=0.000497]"
     ]
    },
    {
     "name": "stderr",
     "output_type": "stream",
     "text": [
      "\r",
      " 95%|█████████▌| 286/300 [00:20<00:00, 36.36it/s, loss=0.000497]"
     ]
    },
    {
     "name": "stderr",
     "output_type": "stream",
     "text": [
      "\r",
      " 95%|█████████▌| 286/300 [00:20<00:00, 36.36it/s, loss=0.000497]"
     ]
    },
    {
     "name": "stderr",
     "output_type": "stream",
     "text": [
      "\r",
      " 97%|█████████▋| 290/300 [00:20<00:00, 36.18it/s, loss=0.000497]"
     ]
    },
    {
     "name": "stderr",
     "output_type": "stream",
     "text": [
      "\r",
      " 97%|█████████▋| 290/300 [00:20<00:00, 36.18it/s, loss=0.000497]"
     ]
    },
    {
     "name": "stderr",
     "output_type": "stream",
     "text": [
      "\r",
      " 97%|█████████▋| 290/300 [00:20<00:00, 36.18it/s, loss=0.000497]"
     ]
    },
    {
     "name": "stderr",
     "output_type": "stream",
     "text": [
      "\r",
      " 97%|█████████▋| 290/300 [00:20<00:00, 36.18it/s, loss=0.000497]"
     ]
    },
    {
     "name": "stderr",
     "output_type": "stream",
     "text": [
      "\r",
      " 97%|█████████▋| 290/300 [00:20<00:00, 36.18it/s, loss=0.000497]"
     ]
    },
    {
     "name": "stderr",
     "output_type": "stream",
     "text": [
      "\r",
      " 98%|█████████▊| 294/300 [00:20<00:00, 36.05it/s, loss=0.000497]"
     ]
    },
    {
     "name": "stderr",
     "output_type": "stream",
     "text": [
      "\r",
      " 98%|█████████▊| 294/300 [00:20<00:00, 36.05it/s, loss=0.000497]"
     ]
    },
    {
     "name": "stderr",
     "output_type": "stream",
     "text": [
      "\r",
      " 98%|█████████▊| 294/300 [00:20<00:00, 36.05it/s, loss=0.000497]"
     ]
    },
    {
     "name": "stderr",
     "output_type": "stream",
     "text": [
      "\r",
      " 98%|█████████▊| 294/300 [00:20<00:00, 36.05it/s, loss=0.000497]"
     ]
    },
    {
     "name": "stderr",
     "output_type": "stream",
     "text": [
      "\r",
      " 98%|█████████▊| 294/300 [00:21<00:00, 36.05it/s, loss=0.000497]"
     ]
    },
    {
     "name": "stderr",
     "output_type": "stream",
     "text": [
      "\r",
      " 99%|█████████▉| 298/300 [00:21<00:00, 35.65it/s, loss=0.000497]"
     ]
    },
    {
     "name": "stderr",
     "output_type": "stream",
     "text": [
      "\r",
      " 99%|█████████▉| 298/300 [00:21<00:00, 35.65it/s, loss=0.000497]"
     ]
    },
    {
     "name": "stderr",
     "output_type": "stream",
     "text": [
      "\r",
      " 99%|█████████▉| 298/300 [00:21<00:00, 35.65it/s, loss=0.000497]"
     ]
    },
    {
     "name": "stderr",
     "output_type": "stream",
     "text": [
      "\r",
      "100%|██████████| 300/300 [00:21<00:00, 14.23it/s, loss=0.000497]"
     ]
    },
    {
     "name": "stderr",
     "output_type": "stream",
     "text": [
      "\n"
     ]
    }
   ],
   "source": [
    "import tqdm\n",
    "\n",
    "range_ = tqdm.trange(300)\n",
    "for step in range_:\n",
    "    lossvalue, optim_state = train_step(step, optim_state)\n",
    "    range_.set_postfix(loss=f\"{lossvalue:.6f}\")"
   ]
  },
  {
   "cell_type": "code",
   "execution_count": 28,
   "id": "ca045b90-46c1-451b-a5bb-3969e4dbc80c",
   "metadata": {
    "execution": {
     "iopub.execute_input": "2022-06-30T06:16:29.245459Z",
     "iopub.status.busy": "2022-06-30T06:16:29.244896Z",
     "iopub.status.idle": "2022-06-30T06:16:29.250421Z",
     "shell.execute_reply": "2022-06-30T06:16:29.249763Z"
    }
   },
   "outputs": [
    {
     "data": {
      "text/plain": [
       "DeviceArray(10.117068, dtype=float32)"
      ]
     },
     "execution_count": 28,
     "metadata": {},
     "output_type": "execute_result"
    }
   ],
   "source": [
    "delta_length = optim_params(optim_state)\n",
    "delta_length"
   ]
  },
  {
   "cell_type": "code",
   "execution_count": 29,
   "id": "31f258fd-e601-491c-8766-ac80553e9ed2",
   "metadata": {
    "execution": {
     "iopub.execute_input": "2022-06-30T06:16:29.255143Z",
     "iopub.status.busy": "2022-06-30T06:16:29.254641Z",
     "iopub.status.idle": "2022-06-30T06:16:29.387124Z",
     "shell.execute_reply": "2022-06-30T06:16:29.386367Z"
    }
   },
   "outputs": [
    {
     "data": {
      "image/png": "[encoded data removed]",
      "text/plain": [
       "<Figure size 432x288 with 1 Axes>"
      ]
     },
     "metadata": {
      "needs_background": "light"
     },
     "output_type": "display_data"
    }
   ],
   "source": [
    "S = mzi(wl=wl, top={\"length\": 15.0 + delta_length}, btm={\"length\": 15.0})\n",
    "plt.plot(wl * 1e3, abs(S[\"o1\", \"o4\"]) ** 2)\n",
    "plt.xlabel(\"λ [nm]\")\n",
    "plt.ylabel(\"T\")\n",
    "plt.ylim(-0.05, 1.05)\n",
    "plt.plot([1550, 1550], [0, 1])\n",
    "plt.show()"
   ]
  },
  {
   "cell_type": "markdown",
   "id": "5cfb9dc1-f146-4637-abbd-247948fe4142",
   "metadata": {},
   "source": [
    "The minimum of the MZI is perfectly located at 1550nm."
   ]
  },
  {
   "cell_type": "markdown",
   "id": "a5d13cb5-987b-440b-a719-d1ff67bbca5c",
   "metadata": {},
   "source": [
    "## Model fit\n",
    "\n",
    "You can fit a sax model to Sparameter FDTD simulation data."
   ]
  },
  {
   "cell_type": "code",
   "execution_count": 30,
   "id": "4c700aca-be96-4fe1-be90-46d148e0cc9d",
   "metadata": {
    "execution": {
     "iopub.execute_input": "2022-06-30T06:16:29.391494Z",
     "iopub.status.busy": "2022-06-30T06:16:29.391130Z",
     "iopub.status.idle": "2022-06-30T06:16:29.396760Z",
     "shell.execute_reply": "2022-06-30T06:16:29.396055Z"
    }
   },
   "outputs": [],
   "source": [
    "import tqdm\n",
    "import jax\n",
    "import jax.numpy as jnp\n",
    "import jax.example_libraries.optimizers as opt\n",
    "import matplotlib.pyplot as plt\n",
    "\n",
    "import gdsfactory as gf\n",
    "import gdsfactory.simulation.modes as gm\n",
    "import gdsfactory.simulation.sax as gs"
   ]
  },
  {
   "cell_type": "code",
   "execution_count": 31,
   "id": "b4de1790-fb61-466e-b2cb-0d5d3fff330a",
   "metadata": {
    "execution": {
     "iopub.execute_input": "2022-06-30T06:16:29.400537Z",
     "iopub.status.busy": "2022-06-30T06:16:29.400007Z",
     "iopub.status.idle": "2022-06-30T06:16:29.404937Z",
     "shell.execute_reply": "2022-06-30T06:16:29.404284Z"
    }
   },
   "outputs": [
    {
     "data": {
      "text/plain": [
       "PosixPath('/home/runner/work/gdsfactory/gdsfactory/gdslib/sp')"
      ]
     },
     "execution_count": 31,
     "metadata": {},
     "output_type": "execute_result"
    }
   ],
   "source": [
    "gf.config.sparameters_path"
   ]
  },
  {
   "cell_type": "code",
   "execution_count": 32,
   "id": "169a75b6-63a8-4892-8265-06347aa30775",
   "metadata": {
    "execution": {
     "iopub.execute_input": "2022-06-30T06:16:29.409518Z",
     "iopub.status.busy": "2022-06-30T06:16:29.408974Z",
     "iopub.status.idle": "2022-06-30T06:16:29.427441Z",
     "shell.execute_reply": "2022-06-30T06:16:29.425854Z"
    }
   },
   "outputs": [],
   "source": [
    "sd = gs.read.sdict_from_csv(\n",
    "    gf.config.sparameters_path / \"coupler\" / \"coupler_G224n_L20_S220.csv\",\n",
    "    xkey=\"wavelength_nm\",\n",
    "    prefix=\"S\",\n",
    "    xunits=1e-3,\n",
    ")"
   ]
  },
  {
   "cell_type": "code",
   "execution_count": 33,
   "id": "34eaf4a2-edb2-4dd1-9856-f1a1eb9b502d",
   "metadata": {
    "execution": {
     "iopub.execute_input": "2022-06-30T06:16:29.431686Z",
     "iopub.status.busy": "2022-06-30T06:16:29.431184Z",
     "iopub.status.idle": "2022-06-30T06:16:29.435405Z",
     "shell.execute_reply": "2022-06-30T06:16:29.434694Z"
    }
   },
   "outputs": [],
   "source": [
    "coupler_fdtd = gf.partial(\n",
    "    gs.read.sdict_from_csv,\n",
    "    filepath=gf.config.sparameters_path / \"coupler\" / \"coupler_G224n_L20_S220.csv\",\n",
    "    xkey=\"wavelength_nm\",\n",
    "    prefix=\"S\",\n",
    "    xunits=1e-3,\n",
    ")"
   ]
  },
  {
   "cell_type": "code",
   "execution_count": 34,
   "id": "cb664d7e-0b19-4ffb-a904-6b7104abdd0c",
   "metadata": {
    "execution": {
     "iopub.execute_input": "2022-06-30T06:16:29.439478Z",
     "iopub.status.busy": "2022-06-30T06:16:29.438825Z",
     "iopub.status.idle": "2022-06-30T06:16:29.622907Z",
     "shell.execute_reply": "2022-06-30T06:16:29.622150Z"
    }
   },
   "outputs": [
    {
     "data": {
      "text/plain": [
       "<AxesSubplot:title={'center':'o1'}, xlabel='wavelength (nm)', ylabel='|S (dB)|'>"
      ]
     },
     "execution_count": 34,
     "metadata": {},
     "output_type": "execute_result"
    },
    {
     "data": {
      "image/png": "[encoded data removed]",
      "text/plain": [
       "<Figure size 432x288 with 1 Axes>"
      ]
     },
     "metadata": {
      "needs_background": "light"
     },
     "output_type": "display_data"
    }
   ],
   "source": [
    "gs.plot_model(coupler_fdtd)"
   ]
  },
  {
   "cell_type": "markdown",
   "id": "1a1bd051-0525-48a8-83e5-8568f8bce8ce",
   "metadata": {},
   "source": [
    "## Model fit (linear regression)\n",
    "\n",
    "Lets fit the coupler spectrum with a linear regression `sklearn` fit"
   ]
  },
  {
   "cell_type": "code",
   "execution_count": 35,
   "id": "f634095b-d1f2-464a-9931-c8d252670eb8",
   "metadata": {
    "execution": {
     "iopub.execute_input": "2022-06-30T06:16:29.627109Z",
     "iopub.status.busy": "2022-06-30T06:16:29.626261Z",
     "iopub.status.idle": "2022-06-30T06:16:29.835750Z",
     "shell.execute_reply": "2022-06-30T06:16:29.835013Z"
    }
   },
   "outputs": [],
   "source": [
    "import sax\n",
    "import gdsfactory as gf\n",
    "import gdsfactory.simulation.sax as gs\n",
    "import jax\n",
    "import jax.numpy as jnp\n",
    "import matplotlib.pyplot as plt\n",
    "from scipy.constants import c\n",
    "from sklearn.linear_model import LinearRegression"
   ]
  },
  {
   "cell_type": "code",
   "execution_count": 36,
   "id": "e5484361-3df6-4e40-a947-60fa265f71a1",
   "metadata": {
    "execution": {
     "iopub.execute_input": "2022-06-30T06:16:29.840430Z",
     "iopub.status.busy": "2022-06-30T06:16:29.839706Z",
     "iopub.status.idle": "2022-06-30T06:16:29.950023Z",
     "shell.execute_reply": "2022-06-30T06:16:29.949261Z"
    }
   },
   "outputs": [],
   "source": [
    "f = jnp.linspace(c / 1.0e-6, c / 2.0e-6, 500) * 1e-12  # THz\n",
    "wl = c / (f * 1e12) * 1e6  # um\n",
    "\n",
    "filepath = gf.config.sparameters_path / \"coupler\" / \"coupler_G224n_L20_S220.csv\"\n",
    "coupler_fdtd = gf.partial(\n",
    "    gs.read.sdict_from_csv, filepath, xkey=\"wavelength_nm\", prefix=\"S\", xunits=1e-3\n",
    ")\n",
    "sd = coupler_fdtd(wl=wl)\n",
    "\n",
    "k = sd[\"o1\", \"o3\"]\n",
    "t = sd[\"o1\", \"o4\"]\n",
    "s = t + k\n",
    "a = t - k"
   ]
  },
  {
   "cell_type": "markdown",
   "id": "8cce6788-2af1-4c74-b5f0-4fcb45a8d5ea",
   "metadata": {},
   "source": [
    "Lets fit the symmetric (t+k) and antisymmetric (t-k) transmission\n",
    "\n",
    "### Symmetric"
   ]
  },
  {
   "cell_type": "code",
   "execution_count": 37,
   "id": "1adb28b5-b2ea-496a-b5e3-cf93fab11dcd",
   "metadata": {
    "execution": {
     "iopub.execute_input": "2022-06-30T06:16:29.954680Z",
     "iopub.status.busy": "2022-06-30T06:16:29.954226Z",
     "iopub.status.idle": "2022-06-30T06:16:30.380142Z",
     "shell.execute_reply": "2022-06-30T06:16:30.378891Z"
    }
   },
   "outputs": [
    {
     "name": "stderr",
     "output_type": "stream",
     "text": [
      "WARNING:matplotlib.legend:No artists with labels found to put in legend.  Note that artists whose label start with an underscore are ignored when legend() is called with no argument.\n"
     ]
    },
    {
     "data": {
      "image/png": "[encoded data removed]",
      "text/plain": [
       "<Figure size 432x288 with 1 Axes>"
      ]
     },
     "metadata": {
      "needs_background": "light"
     },
     "output_type": "display_data"
    }
   ],
   "source": [
    "plt.plot(wl, jnp.abs(s))\n",
    "plt.grid(True)\n",
    "plt.xlabel(\"Frequency [THz]\")\n",
    "plt.ylabel(\"Transmission\")\n",
    "plt.title(\"symmetric (transmission + coupling)\")\n",
    "plt.legend()\n",
    "plt.show()"
   ]
  },
  {
   "cell_type": "code",
   "execution_count": 38,
   "id": "70dec0b5-87c9-47a7-9450-a896c23dd7c1",
   "metadata": {
    "execution": {
     "iopub.execute_input": "2022-06-30T06:16:30.384771Z",
     "iopub.status.busy": "2022-06-30T06:16:30.384261Z",
     "iopub.status.idle": "2022-06-30T06:16:30.517213Z",
     "shell.execute_reply": "2022-06-30T06:16:30.516497Z"
    }
   },
   "outputs": [
    {
     "name": "stderr",
     "output_type": "stream",
     "text": [
      "WARNING:matplotlib.legend:No artists with labels found to put in legend.  Note that artists whose label start with an underscore are ignored when legend() is called with no argument.\n"
     ]
    },
    {
     "data": {
      "image/png": "[encoded data removed]",
      "text/plain": [
       "<Figure size 432x288 with 1 Axes>"
      ]
     },
     "metadata": {
      "needs_background": "light"
     },
     "output_type": "display_data"
    }
   ],
   "source": [
    "plt.plot(wl, jnp.abs(a))\n",
    "plt.grid(True)\n",
    "plt.xlabel(\"Frequency [THz]\")\n",
    "plt.ylabel(\"Transmission\")\n",
    "plt.title(\"anti-symmetric (transmission - coupling)\")\n",
    "plt.legend()\n",
    "plt.show()"
   ]
  },
  {
   "cell_type": "code",
   "execution_count": 39,
   "id": "f8934dca-7c86-4946-85b8-277d8b3ab6ba",
   "metadata": {
    "execution": {
     "iopub.execute_input": "2022-06-30T06:16:30.521521Z",
     "iopub.status.busy": "2022-06-30T06:16:30.520941Z",
     "iopub.status.idle": "2022-06-30T06:16:30.794814Z",
     "shell.execute_reply": "2022-06-30T06:16:30.794112Z"
    }
   },
   "outputs": [
    {
     "name": "stderr",
     "output_type": "stream",
     "text": [
      "WARNING:matplotlib.legend:No artists with labels found to put in legend.  Note that artists whose label start with an underscore are ignored when legend() is called with no argument.\n"
     ]
    },
    {
     "data": {
      "image/png": "[encoded data removed]",
      "text/plain": [
       "<Figure size 432x288 with 1 Axes>"
      ]
     },
     "metadata": {
      "needs_background": "light"
     },
     "output_type": "display_data"
    }
   ],
   "source": [
    "r = LinearRegression()\n",
    "fX = lambda x, _order=8: x[:, None] ** (\n",
    "    jnp.arange(_order)[None, :]\n",
    ")  # artificially create more 'features' (wl**2, wl**3, wl**4, ...)\n",
    "X = fX(wl)\n",
    "r.fit(X, jnp.abs(s))\n",
    "asm, bsm = r.coef_, r.intercept_\n",
    "fsm = lambda x: fX(x) @ asm + bsm  # fit symmetric module fiir\n",
    "\n",
    "plt.plot(wl, jnp.abs(s))\n",
    "plt.plot(wl, fsm(wl))\n",
    "plt.grid(True)\n",
    "plt.xlabel(\"Frequency [THz]\")\n",
    "plt.ylabel(\"Transmission\")\n",
    "plt.legend()\n",
    "plt.show()"
   ]
  },
  {
   "cell_type": "code",
   "execution_count": 40,
   "id": "966f429b-5e50-4053-b678-00377aa85fb8",
   "metadata": {
    "execution": {
     "iopub.execute_input": "2022-06-30T06:16:30.798665Z",
     "iopub.status.busy": "2022-06-30T06:16:30.798119Z",
     "iopub.status.idle": "2022-06-30T06:16:31.280522Z",
     "shell.execute_reply": "2022-06-30T06:16:31.279760Z"
    }
   },
   "outputs": [
    {
     "name": "stderr",
     "output_type": "stream",
     "text": [
      "WARNING:matplotlib.legend:No artists with labels found to put in legend.  Note that artists whose label start with an underscore are ignored when legend() is called with no argument.\n"
     ]
    },
    {
     "data": {
      "image/png": "[encoded data removed]",
      "text/plain": [
       "<Figure size 432x288 with 1 Axes>"
      ]
     },
     "metadata": {
      "needs_background": "light"
     },
     "output_type": "display_data"
    }
   ],
   "source": [
    "r = LinearRegression()\n",
    "r.fit(X, jnp.unwrap(jnp.angle(s)))\n",
    "asp, bsp = r.coef_, r.intercept_\n",
    "fsp = lambda x: fX(x) @ asp + bsp  # fit symmetric phase\n",
    "\n",
    "plt.plot(wl, jnp.unwrap(jnp.angle(s)))\n",
    "plt.plot(wl, fsp(wl))\n",
    "plt.grid(True)\n",
    "plt.xlabel(\"Frequency [THz]\")\n",
    "plt.ylabel(\"Angle [deg]\")\n",
    "plt.legend()\n",
    "plt.show()"
   ]
  },
  {
   "cell_type": "code",
   "execution_count": 41,
   "id": "62faeb50-e4b7-4f68-92ba-79ce4c74b370",
   "metadata": {
    "execution": {
     "iopub.execute_input": "2022-06-30T06:16:31.284784Z",
     "iopub.status.busy": "2022-06-30T06:16:31.284407Z",
     "iopub.status.idle": "2022-06-30T06:16:31.290489Z",
     "shell.execute_reply": "2022-06-30T06:16:31.289756Z"
    }
   },
   "outputs": [],
   "source": [
    "fs = lambda x: fsm(x) * jnp.exp(1j * fsp(x))"
   ]
  },
  {
   "cell_type": "markdown",
   "id": "415e725f-01a1-4309-937f-3d8f11fa9381",
   "metadata": {},
   "source": [
    "Lets fit the symmetric (t+k) and antisymmetric (t-k) transmission\n",
    "\n",
    "### Anti-Symmetric"
   ]
  },
  {
   "cell_type": "code",
   "execution_count": 42,
   "id": "c34f17c9-3f4e-4e07-a077-ebfd33dab49d",
   "metadata": {
    "execution": {
     "iopub.execute_input": "2022-06-30T06:16:31.294882Z",
     "iopub.status.busy": "2022-06-30T06:16:31.294347Z",
     "iopub.status.idle": "2022-06-30T06:16:31.440958Z",
     "shell.execute_reply": "2022-06-30T06:16:31.439744Z"
    }
   },
   "outputs": [
    {
     "name": "stderr",
     "output_type": "stream",
     "text": [
      "WARNING:matplotlib.legend:No artists with labels found to put in legend.  Note that artists whose label start with an underscore are ignored when legend() is called with no argument.\n"
     ]
    },
    {
     "data": {
      "image/png": "[encoded data removed]",
      "text/plain": [
       "<Figure size 432x288 with 1 Axes>"
      ]
     },
     "metadata": {
      "needs_background": "light"
     },
     "output_type": "display_data"
    }
   ],
   "source": [
    "r = LinearRegression()\n",
    "r.fit(X, jnp.abs(a))\n",
    "aam, bam = r.coef_, r.intercept_\n",
    "fam = lambda x: fX(x) @ aam + bam\n",
    "\n",
    "plt.plot(wl, jnp.abs(a))\n",
    "plt.plot(wl, fam(wl))\n",
    "plt.grid(True)\n",
    "plt.xlabel(\"Frequency [THz]\")\n",
    "plt.ylabel(\"Transmission\")\n",
    "plt.legend()\n",
    "plt.show()"
   ]
  },
  {
   "cell_type": "code",
   "execution_count": 43,
   "id": "d09113f6-558b-4529-9bff-a68ceda85204",
   "metadata": {
    "execution": {
     "iopub.execute_input": "2022-06-30T06:16:31.445103Z",
     "iopub.status.busy": "2022-06-30T06:16:31.444540Z",
     "iopub.status.idle": "2022-06-30T06:16:31.580641Z",
     "shell.execute_reply": "2022-06-30T06:16:31.579897Z"
    }
   },
   "outputs": [
    {
     "name": "stderr",
     "output_type": "stream",
     "text": [
      "WARNING:matplotlib.legend:No artists with labels found to put in legend.  Note that artists whose label start with an underscore are ignored when legend() is called with no argument.\n"
     ]
    },
    {
     "data": {
      "image/png": "[encoded data removed]",
      "text/plain": [
       "<Figure size 432x288 with 1 Axes>"
      ]
     },
     "metadata": {
      "needs_background": "light"
     },
     "output_type": "display_data"
    }
   ],
   "source": [
    "r = LinearRegression()\n",
    "r.fit(X, jnp.unwrap(jnp.angle(a)))\n",
    "aap, bap = r.coef_, r.intercept_\n",
    "fap = lambda x: fX(x) @ aap + bap\n",
    "\n",
    "plt.plot(wl, jnp.unwrap(jnp.angle(a)))\n",
    "plt.plot(wl, fap(wl))\n",
    "plt.grid(True)\n",
    "plt.xlabel(\"Frequency [THz]\")\n",
    "plt.ylabel(\"Angle [deg]\")\n",
    "plt.legend()\n",
    "plt.show()"
   ]
  },
  {
   "cell_type": "code",
   "execution_count": 44,
   "id": "5ef257ed-0dd8-4754-81e8-3226e39e335d",
   "metadata": {
    "execution": {
     "iopub.execute_input": "2022-06-30T06:16:31.585929Z",
     "iopub.status.busy": "2022-06-30T06:16:31.585403Z",
     "iopub.status.idle": "2022-06-30T06:16:31.590749Z",
     "shell.execute_reply": "2022-06-30T06:16:31.590091Z"
    }
   },
   "outputs": [],
   "source": [
    "fa = lambda x: fam(x) * jnp.exp(1j * fap(x))"
   ]
  },
  {
   "cell_type": "markdown",
   "id": "b050be26-aec0-4e1c-b9f7-0ff55857ed7a",
   "metadata": {},
   "source": [
    "### Total"
   ]
  },
  {
   "cell_type": "code",
   "execution_count": 45,
   "id": "23a6debb-d8b1-4883-a4c8-1a3edaf21509",
   "metadata": {
    "execution": {
     "iopub.execute_input": "2022-06-30T06:16:31.595063Z",
     "iopub.status.busy": "2022-06-30T06:16:31.594542Z",
     "iopub.status.idle": "2022-06-30T06:16:31.863115Z",
     "shell.execute_reply": "2022-06-30T06:16:31.862345Z"
    }
   },
   "outputs": [
    {
     "data": {
      "text/plain": [
       "Text(0, 0.5, 'Transmission')"
      ]
     },
     "execution_count": 45,
     "metadata": {},
     "output_type": "execute_result"
    },
    {
     "data": {
      "image/png": "[encoded data removed]",
      "text/plain": [
       "<Figure size 432x288 with 1 Axes>"
      ]
     },
     "metadata": {
      "needs_background": "light"
     },
     "output_type": "display_data"
    }
   ],
   "source": [
    "t_ = 0.5 * (fs(wl) + fa(wl))\n",
    "\n",
    "plt.plot(wl, jnp.abs(t))\n",
    "plt.plot(wl, jnp.abs(t_))\n",
    "plt.xlabel(\"Frequency [THz]\")\n",
    "plt.ylabel(\"Transmission\")"
   ]
  },
  {
   "cell_type": "code",
   "execution_count": 46,
   "id": "fcde546f-ba9f-44e6-8c11-a012c90326f8",
   "metadata": {
    "execution": {
     "iopub.execute_input": "2022-06-30T06:16:31.867656Z",
     "iopub.status.busy": "2022-06-30T06:16:31.867309Z",
     "iopub.status.idle": "2022-06-30T06:16:32.021440Z",
     "shell.execute_reply": "2022-06-30T06:16:32.020658Z"
    }
   },
   "outputs": [
    {
     "data": {
      "text/plain": [
       "Text(0, 0.5, 'Coupling')"
      ]
     },
     "execution_count": 46,
     "metadata": {},
     "output_type": "execute_result"
    },
    {
     "data": {
      "image/png": "[encoded data removed]",
      "text/plain": [
       "<Figure size 432x288 with 1 Axes>"
      ]
     },
     "metadata": {
      "needs_background": "light"
     },
     "output_type": "display_data"
    }
   ],
   "source": [
    "k_ = 0.5 * (fs(wl) - fa(wl))\n",
    "\n",
    "plt.plot(wl, jnp.abs(k))\n",
    "plt.plot(wl, jnp.abs(k_))\n",
    "plt.xlabel(\"Frequency [THz]\")\n",
    "plt.ylabel(\"Coupling\")"
   ]
  },
  {
   "cell_type": "code",
   "execution_count": 47,
   "id": "3a31d6a7-909e-46b7-b593-33cce3986bf4",
   "metadata": {
    "execution": {
     "iopub.execute_input": "2022-06-30T06:16:32.025827Z",
     "iopub.status.busy": "2022-06-30T06:16:32.025446Z",
     "iopub.status.idle": "2022-06-30T06:16:32.032381Z",
     "shell.execute_reply": "2022-06-30T06:16:32.031689Z"
    }
   },
   "outputs": [],
   "source": [
    "@jax.jit\n",
    "def coupler(wl=1.5):\n",
    "    wl = jnp.asarray(wl)\n",
    "    wl_shape = wl.shape\n",
    "    wl = wl.ravel()\n",
    "    t = (0.5 * (fs(wl) + fa(wl))).reshape(*wl_shape)\n",
    "    k = (0.5 * (fs(wl) - fa(wl))).reshape(*wl_shape)\n",
    "    sdict = {\n",
    "        (\"o1\", \"o4\"): t,\n",
    "        (\"o1\", \"o3\"): k,\n",
    "        (\"o2\", \"o3\"): k,\n",
    "        (\"o2\", \"o4\"): t,\n",
    "    }\n",
    "    return sax.reciprocal(sdict)"
   ]
  },
  {
   "cell_type": "code",
   "execution_count": 48,
   "id": "1c27fdcf-9287-4e7d-b75a-86806ebc048e",
   "metadata": {
    "execution": {
     "iopub.execute_input": "2022-06-30T06:16:32.037101Z",
     "iopub.status.busy": "2022-06-30T06:16:32.036751Z",
     "iopub.status.idle": "2022-06-30T06:16:32.691585Z",
     "shell.execute_reply": "2022-06-30T06:16:32.690899Z"
    }
   },
   "outputs": [
    {
     "data": {
      "image/png": "[encoded data removed]",
      "text/plain": [
       "<Figure size 864x216 with 2 Axes>"
      ]
     },
     "metadata": {
      "needs_background": "light"
     },
     "output_type": "display_data"
    }
   ],
   "source": [
    "f = jnp.linspace(c / 1.0e-6, c / 2.0e-6, 500) * 1e-12  # THz\n",
    "wl = c / (f * 1e12) * 1e6  # um\n",
    "\n",
    "filepath = gf.config.sparameters_path / \"coupler\" / \"coupler_G224n_L20_S220.csv\"\n",
    "coupler_fdtd = gf.partial(\n",
    "    gs.read.sdict_from_csv, filepath, xkey=\"wavelength_nm\", prefix=\"S\", xunits=1e-3\n",
    ")\n",
    "sd = coupler_fdtd(wl=wl)\n",
    "sd_ = coupler(wl=wl)\n",
    "\n",
    "T = jnp.abs(sd[\"o1\", \"o4\"]) ** 2\n",
    "K = jnp.abs(sd[\"o1\", \"o3\"]) ** 2\n",
    "T_ = jnp.abs(sd_[\"o1\", \"o4\"]) ** 2\n",
    "K_ = jnp.abs(sd_[\"o1\", \"o3\"]) ** 2\n",
    "dP = jnp.unwrap(jnp.angle(sd[\"o1\", \"o3\"]) - jnp.angle(sd[\"o1\", \"o4\"]))\n",
    "dP_ = jnp.unwrap(jnp.angle(sd_[\"o1\", \"o3\"]) - jnp.angle(sd_[\"o1\", \"o4\"]))\n",
    "\n",
    "plt.figure(figsize=(12, 3))\n",
    "plt.plot(wl, T, label=\"T (fdtd)\", c=\"C0\", ls=\":\", lw=\"6\")\n",
    "plt.plot(wl, T_, label=\"T (model)\", c=\"C0\")\n",
    "\n",
    "plt.plot(wl, K, label=\"K (fdtd)\", c=\"C1\", ls=\":\", lw=\"6\")\n",
    "plt.plot(wl, K_, label=\"K (model)\", c=\"C1\")\n",
    "\n",
    "plt.ylim(-0.05, 1.05)\n",
    "plt.grid(True)\n",
    "\n",
    "plt.twinx()\n",
    "plt.plot(wl, dP, label=\"ΔΦ (fdtd)\", color=\"C2\", ls=\":\", lw=\"6\")\n",
    "plt.plot(wl, dP_, label=\"ΔΦ (model)\", color=\"C2\")\n",
    "\n",
    "plt.xlabel(\"Frequency [THz]\")\n",
    "plt.ylabel(\"Transmission\")\n",
    "plt.figlegend(bbox_to_anchor=(1.08, 0.9))\n",
    "plt.savefig(\"fdtd_vs_model.png\", bbox_inches=\"tight\")\n",
    "plt.show()"
   ]
  },
  {
   "cell_type": "markdown",
   "id": "6fc2a468-3275-4a26-a0c8-c99a10e90df2",
   "metadata": {},
   "source": [
    "## SAX gdsfactory Compatibility\n",
    "> From Layout to Circuit Model\n",
    "\n",
    "If you define your SAX S parameter models for your components, you can directly simulate your circuits from gdsfactory"
   ]
  },
  {
   "cell_type": "code",
   "execution_count": 49,
   "id": "dfa5715c-dd06-4cae-a391-2230080a4283",
   "metadata": {
    "execution": {
     "iopub.execute_input": "2022-06-30T06:16:32.695980Z",
     "iopub.status.busy": "2022-06-30T06:16:32.695422Z",
     "iopub.status.idle": "2022-06-30T06:16:32.700708Z",
     "shell.execute_reply": "2022-06-30T06:16:32.700035Z"
    }
   },
   "outputs": [],
   "source": [
    "import matplotlib.pyplot as plt\n",
    "import numpy as np\n",
    "import jax.numpy as jnp\n",
    "from omegaconf import OmegaConf\n",
    "import sax\n",
    "from pprint import pprint\n",
    "\n",
    "import gdsfactory as gf\n",
    "from gdsfactory.get_netlist import get_netlist as _get_netlist"
   ]
  },
  {
   "cell_type": "code",
   "execution_count": 50,
   "id": "80da2a80-cfbe-442a-a201-7263fda8c6df",
   "metadata": {
    "execution": {
     "iopub.execute_input": "2022-06-30T06:16:32.704552Z",
     "iopub.status.busy": "2022-06-30T06:16:32.704030Z",
     "iopub.status.idle": "2022-06-30T06:16:33.099042Z",
     "shell.execute_reply": "2022-06-30T06:16:33.098382Z"
    }
   },
   "outputs": [
    {
     "data": {
      "image/png": "[encoded data removed]",
      "text/plain": [
       "<Figure size 432x288 with 1 Axes>"
      ]
     },
     "metadata": {
      "needs_background": "light"
     },
     "output_type": "display_data"
    },
    {
     "data": {
      "text/html": [
       "mzi_delta_length10: uid 6, ports ['o1', 'o2'], aliases [], 0 polygons, 20 references"
      ],
      "text/plain": [
       "mzi_delta_length10: uid 6, ports ['o1', 'o2'], aliases [], 0 polygons, 20 references"
      ]
     },
     "execution_count": 50,
     "metadata": {},
     "output_type": "execute_result"
    }
   ],
   "source": [
    "mzi = gf.components.mzi(delta_length=10)\n",
    "mzi"
   ]
  },
  {
   "cell_type": "code",
   "execution_count": 51,
   "id": "64287264-61d0-4d77-96cc-8401a140f3a0",
   "metadata": {
    "execution": {
     "iopub.execute_input": "2022-06-30T06:16:33.103397Z",
     "iopub.status.busy": "2022-06-30T06:16:33.102867Z",
     "iopub.status.idle": "2022-06-30T06:16:33.152632Z",
     "shell.execute_reply": "2022-06-30T06:16:33.151668Z"
    }
   },
   "outputs": [],
   "source": [
    "netlist = mzi.get_netlist_dict()\n",
    "pprint(netlist[\"connections\"])"
   ]
  },
  {
   "cell_type": "markdown",
   "id": "2aa882fe-6b2e-499e-8370-e33e5a14f486",
   "metadata": {},
   "source": [
    "The netlist has three different components:\n",
    "\n",
    "1. straight\n",
    "2. mmi1x2\n",
    "3. bend_euler\n",
    "\n",
    "You need models for each subcomponents to simulate the Component."
   ]
  },
  {
   "cell_type": "code",
   "execution_count": 52,
   "id": "4f497b61-d519-48cc-8a22-c6f51ede482f",
   "metadata": {
    "execution": {
     "iopub.execute_input": "2022-06-30T06:16:33.157452Z",
     "iopub.status.busy": "2022-06-30T06:16:33.156892Z",
     "iopub.status.idle": "2022-06-30T06:16:33.163649Z",
     "shell.execute_reply": "2022-06-30T06:16:33.162911Z"
    }
   },
   "outputs": [],
   "source": [
    "def straight(wl=1.5, length=10.0, neff=2.4) -> sax.SDict:\n",
    "    wl0 = 1.5  # center wavelength for which the waveguide model is defined\n",
    "    return sax.reciprocal({(\"o1\", \"o2\"): jnp.exp(2j * jnp.pi * neff * length / wl)})\n",
    "\n",
    "\n",
    "def mmi1x2():\n",
    "    \"\"\"Assumes a perfect 1x2 splitter\"\"\"\n",
    "    return sax.reciprocal(\n",
    "        {\n",
    "            (\"o1\", \"o2\"): 0.5**0.5,\n",
    "            (\"o1\", \"o3\"): 0.5**0.5,\n",
    "        }\n",
    "    )\n",
    "\n",
    "\n",
    "def bend_euler(wl=1.5, length=20.0):\n",
    "    \"\"\" \"Let's assume a reduced transmission for the euler bend compared to a straight\"\"\"\n",
    "    return {k: 0.99 * v for k, v in straight(wl=wl, length=length).items()}"
   ]
  },
  {
   "cell_type": "code",
   "execution_count": 53,
   "id": "c05bf3d4-e3b9-483f-a6ac-002dec46bb90",
   "metadata": {
    "execution": {
     "iopub.execute_input": "2022-06-30T06:16:33.168015Z",
     "iopub.status.busy": "2022-06-30T06:16:33.167475Z",
     "iopub.status.idle": "2022-06-30T06:16:33.196559Z",
     "shell.execute_reply": "2022-06-30T06:16:33.195719Z"
    }
   },
   "outputs": [],
   "source": [
    "circuit = sax.circuit_from_netlist(\n",
    "    netlist=netlist,\n",
    "    models={\n",
    "        \"bend_euler\": bend_euler,\n",
    "        \"mmi1x2\": mmi1x2,\n",
    "        \"straight\": straight,\n",
    "    },\n",
    ")"
   ]
  },
  {
   "cell_type": "code",
   "execution_count": 54,
   "id": "3267aaac-1af2-4cae-8b87-9abb7338068a",
   "metadata": {
    "execution": {
     "iopub.execute_input": "2022-06-30T06:16:33.201830Z",
     "iopub.status.busy": "2022-06-30T06:16:33.201292Z",
     "iopub.status.idle": "2022-06-30T06:16:35.784864Z",
     "shell.execute_reply": "2022-06-30T06:16:35.784096Z"
    }
   },
   "outputs": [
    {
     "data": {
      "image/png": "[encoded data removed]",
      "text/plain": [
       "<Figure size 1008x288 with 1 Axes>"
      ]
     },
     "metadata": {
      "needs_background": "light"
     },
     "output_type": "display_data"
    }
   ],
   "source": [
    "wl = np.linspace(1.5, 1.6)\n",
    "S = circuit(wl=wl)\n",
    "\n",
    "plt.figure(figsize=(14, 4))\n",
    "plt.title(\"MZI\")\n",
    "plt.plot(1e3 * wl, jnp.abs(S[\"o1\", \"o2\"]) ** 2)\n",
    "plt.xlabel(\"λ [nm]\")\n",
    "plt.ylabel(\"T\")\n",
    "plt.grid(True)\n",
    "plt.show()"
   ]
  },
  {
   "cell_type": "code",
   "execution_count": 55,
   "id": "980c2aa4-edca-4663-8777-193cbd6f1ece",
   "metadata": {
    "execution": {
     "iopub.execute_input": "2022-06-30T06:16:35.788888Z",
     "iopub.status.busy": "2022-06-30T06:16:35.788540Z",
     "iopub.status.idle": "2022-06-30T06:16:36.162505Z",
     "shell.execute_reply": "2022-06-30T06:16:36.161860Z"
    }
   },
   "outputs": [
    {
     "data": {
      "image/png": "[encoded data removed]",
      "text/plain": [
       "<Figure size 432x288 with 1 Axes>"
      ]
     },
     "metadata": {
      "needs_background": "light"
     },
     "output_type": "display_data"
    },
    {
     "data": {
      "text/html": [
       "mzi_delta_length20: uid 20, ports ['o1', 'o2'], aliases [], 0 polygons, 20 references"
      ],
      "text/plain": [
       "mzi_delta_length20: uid 20, ports ['o1', 'o2'], aliases [], 0 polygons, 20 references"
      ]
     },
     "execution_count": 55,
     "metadata": {},
     "output_type": "execute_result"
    }
   ],
   "source": [
    "mzi = gf.components.mzi(delta_length=20)  # Double the length, reduces FSR by 1/2\n",
    "mzi"
   ]
  },
  {
   "cell_type": "code",
   "execution_count": 56,
   "id": "e0661af0-0131-41fd-a197-9bcc9d04996a",
   "metadata": {
    "execution": {
     "iopub.execute_input": "2022-06-30T06:16:36.166164Z",
     "iopub.status.busy": "2022-06-30T06:16:36.165562Z",
     "iopub.status.idle": "2022-06-30T06:16:38.734504Z",
     "shell.execute_reply": "2022-06-30T06:16:38.733750Z"
    }
   },
   "outputs": [
    {
     "data": {
      "image/png": "[encoded data removed]",
      "text/plain": [
       "<Figure size 1008x288 with 1 Axes>"
      ]
     },
     "metadata": {
      "needs_background": "light"
     },
     "output_type": "display_data"
    }
   ],
   "source": [
    "circuit = sax.circuit_from_netlist(\n",
    "    netlist=mzi.get_netlist_dict(),\n",
    "    models={\n",
    "        \"bend_euler\": bend_euler,\n",
    "        \"mmi1x2\": mmi1x2,\n",
    "        \"straight\": straight,\n",
    "    },\n",
    ")\n",
    "\n",
    "wl = np.linspace(1.5, 1.6, 256)\n",
    "S = circuit(wl=wl)\n",
    "\n",
    "plt.figure(figsize=(14, 4))\n",
    "plt.title(\"MZI\")\n",
    "plt.plot(1e3 * wl, jnp.abs(S[\"o1\", \"o2\"]) ** 2)\n",
    "plt.xlabel(\"λ [nm]\")\n",
    "plt.ylabel(\"T\")\n",
    "plt.grid(True)\n",
    "plt.show()"
   ]
  },
  {
   "cell_type": "code",
   "execution_count": null,
   "id": "6651c231",
   "metadata": {},
   "outputs": [],
   "source": []
  }
 ],
 "metadata": {
  "kernelspec": {
   "display_name": "Python 3 (ipykernel)",
   "language": "python",
   "name": "python3"
  },
  "language_info": {
   "codemirror_mode": {
    "name": "ipython",
    "version": 3
   },
   "file_extension": ".py",
   "mimetype": "text/x-python",
   "name": "python",
   "nbconvert_exporter": "python",
   "pygments_lexer": "ipython3",
   "version": "3.9.13"
  },
  "widgets": {
   "application/vnd.jupyter.widget-state+json": {
    "state": {
     "01c6648ff5374b049ff8acfd2ec04aac": {
      "model_module": "@jupyter-widgets/controls",
      "model_module_version": "1.5.0",
      "model_name": "ProgressStyleModel",
      "state": {
       "_model_module": "@jupyter-widgets/controls",
       "_model_module_version": "1.5.0",
       "_model_name": "ProgressStyleModel",
       "_view_count": null,
       "_view_module": "@jupyter-widgets/base",
       "_view_module_version": "1.2.0",
       "_view_name": "StyleView",
       "bar_color": null,
       "description_width": ""
      }
     },
     "2cb31e5b114e47258627c2161e32acd4": {
      "model_module": "@jupyter-widgets/controls",
      "model_module_version": "1.5.0",
      "model_name": "HTMLModel",
      "state": {
       "_dom_classes": [],
       "_model_module": "@jupyter-widgets/controls",
       "_model_module_version": "1.5.0",
       "_model_name": "HTMLModel",
       "_view_count": null,
       "_view_module": "@jupyter-widgets/controls",
       "_view_module_version": "1.5.0",
       "_view_name": "HTMLView",
       "description": "",
       "description_tooltip": null,
       "layout": "IPY_MODEL_b161adb176ce417c9f4919146346c7e1",
       "placeholder": "​",
       "style": "IPY_MODEL_fe32a32085a14aa78f9d3880f80fc8e3",
       "value": " 12/12 [00:43&lt;00:00,  3.87s/it]"
      }
     },
     "3efebb553b744185acfb5e83f3515157": {
      "model_module": "@jupyter-widgets/controls",
      "model_module_version": "1.5.0",
      "model_name": "HTMLModel",
      "state": {
       "_dom_classes": [],
       "_model_module": "@jupyter-widgets/controls",
       "_model_module_version": "1.5.0",
       "_model_name": "HTMLModel",
       "_view_count": null,
       "_view_module": "@jupyter-widgets/controls",
       "_view_module_version": "1.5.0",
       "_view_name": "HTMLView",
       "description": "",
       "description_tooltip": null,
       "layout": "IPY_MODEL_e75623aeac2c45f8bc0e7f5c88ecafe9",
       "placeholder": "​",
       "style": "IPY_MODEL_40784be781424832a3cdc37f2e034fb6",
       "value": "100%"
      }
     },
     "40784be781424832a3cdc37f2e034fb6": {
      "model_module": "@jupyter-widgets/controls",
      "model_module_version": "1.5.0",
      "model_name": "DescriptionStyleModel",
      "state": {
       "_model_module": "@jupyter-widgets/controls",
       "_model_module_version": "1.5.0",
       "_model_name": "DescriptionStyleModel",
       "_view_count": null,
       "_view_module": "@jupyter-widgets/base",
       "_view_module_version": "1.2.0",
       "_view_name": "StyleView",
       "description_width": ""
      }
     },
     "877ed6680b424d26854f4b80eb4add6a": {
      "model_module": "@jupyter-widgets/base",
      "model_module_version": "1.2.0",
      "model_name": "LayoutModel",
      "state": {
       "_model_module": "@jupyter-widgets/base",
       "_model_module_version": "1.2.0",
       "_model_name": "LayoutModel",
       "_view_count": null,
       "_view_module": "@jupyter-widgets/base",
       "_view_module_version": "1.2.0",
       "_view_name": "LayoutView",
       "align_content": null,
       "align_items": null,
       "align_self": null,
       "border": null,
       "bottom": null,
       "display": null,
       "flex": null,
       "flex_flow": null,
       "grid_area": null,
       "grid_auto_columns": null,
       "grid_auto_flow": null,
       "grid_auto_rows": null,
       "grid_column": null,
       "grid_gap": null,
       "grid_row": null,
       "grid_template_areas": null,
       "grid_template_columns": null,
       "grid_template_rows": null,
       "height": null,
       "justify_content": null,
       "justify_items": null,
       "left": null,
       "margin": null,
       "max_height": null,
       "max_width": null,
       "min_height": null,
       "min_width": null,
       "object_fit": null,
       "object_position": null,
       "order": null,
       "overflow": null,
       "overflow_x": null,
       "overflow_y": null,
       "padding": null,
       "right": null,
       "top": null,
       "visibility": null,
       "width": null
      }
     },
     "a0b277f3635f4aa9af331b318dc9851a": {
      "model_module": "@jupyter-widgets/controls",
      "model_module_version": "1.5.0",
      "model_name": "HBoxModel",
      "state": {
       "_dom_classes": [],
       "_model_module": "@jupyter-widgets/controls",
       "_model_module_version": "1.5.0",
       "_model_name": "HBoxModel",
       "_view_count": null,
       "_view_module": "@jupyter-widgets/controls",
       "_view_module_version": "1.5.0",
       "_view_name": "HBoxView",
       "box_style": "",
       "children": [
        "IPY_MODEL_3efebb553b744185acfb5e83f3515157",
        "IPY_MODEL_ac7cc6b1890941c4b79d4017c8956033",
        "IPY_MODEL_2cb31e5b114e47258627c2161e32acd4"
       ],
       "layout": "IPY_MODEL_c45d9d43306840178fb9af9223ce7d71"
      }
     },
     "ac7cc6b1890941c4b79d4017c8956033": {
      "model_module": "@jupyter-widgets/controls",
      "model_module_version": "1.5.0",
      "model_name": "FloatProgressModel",
      "state": {
       "_dom_classes": [],
       "_model_module": "@jupyter-widgets/controls",
       "_model_module_version": "1.5.0",
       "_model_name": "FloatProgressModel",
       "_view_count": null,
       "_view_module": "@jupyter-widgets/controls",
       "_view_module_version": "1.5.0",
       "_view_name": "ProgressView",
       "bar_style": "success",
       "description": "",
       "description_tooltip": null,
       "layout": "IPY_MODEL_877ed6680b424d26854f4b80eb4add6a",
       "max": 12.0,
       "min": 0.0,
       "orientation": "horizontal",
       "style": "IPY_MODEL_01c6648ff5374b049ff8acfd2ec04aac",
       "value": 12.0
      }
     },
     "b161adb176ce417c9f4919146346c7e1": {
      "model_module": "@jupyter-widgets/base",
      "model_module_version": "1.2.0",
      "model_name": "LayoutModel",
      "state": {
       "_model_module": "@jupyter-widgets/base",
       "_model_module_version": "1.2.0",
       "_model_name": "LayoutModel",
       "_view_count": null,
       "_view_module": "@jupyter-widgets/base",
       "_view_module_version": "1.2.0",
       "_view_name": "LayoutView",
       "align_content": null,
       "align_items": null,
       "align_self": null,
       "border": null,
       "bottom": null,
       "display": null,
       "flex": null,
       "flex_flow": null,
       "grid_area": null,
       "grid_auto_columns": null,
       "grid_auto_flow": null,
       "grid_auto_rows": null,
       "grid_column": null,
       "grid_gap": null,
       "grid_row": null,
       "grid_template_areas": null,
       "grid_template_columns": null,
       "grid_template_rows": null,
       "height": null,
       "justify_content": null,
       "justify_items": null,
       "left": null,
       "margin": null,
       "max_height": null,
       "max_width": null,
       "min_height": null,
       "min_width": null,
       "object_fit": null,
       "object_position": null,
       "order": null,
       "overflow": null,
       "overflow_x": null,
       "overflow_y": null,
       "padding": null,
       "right": null,
       "top": null,
       "visibility": null,
       "width": null
      }
     },
     "c45d9d43306840178fb9af9223ce7d71": {
      "model_module": "@jupyter-widgets/base",
      "model_module_version": "1.2.0",
      "model_name": "LayoutModel",
      "state": {
       "_model_module": "@jupyter-widgets/base",
       "_model_module_version": "1.2.0",
       "_model_name": "LayoutModel",
       "_view_count": null,
       "_view_module": "@jupyter-widgets/base",
       "_view_module_version": "1.2.0",
       "_view_name": "LayoutView",
       "align_content": null,
       "align_items": null,
       "align_self": null,
       "border": null,
       "bottom": null,
       "display": null,
       "flex": null,
       "flex_flow": null,
       "grid_area": null,
       "grid_auto_columns": null,
       "grid_auto_flow": null,
       "grid_auto_rows": null,
       "grid_column": null,
       "grid_gap": null,
       "grid_row": null,
       "grid_template_areas": null,
       "grid_template_columns": null,
       "grid_template_rows": null,
       "height": null,
       "justify_content": null,
       "justify_items": null,
       "left": null,
       "margin": null,
       "max_height": null,
       "max_width": null,
       "min_height": null,
       "min_width": null,
       "object_fit": null,
       "object_position": null,
       "order": null,
       "overflow": null,
       "overflow_x": null,
       "overflow_y": null,
       "padding": null,
       "right": null,
       "top": null,
       "visibility": null,
       "width": null
      }
     },
     "e75623aeac2c45f8bc0e7f5c88ecafe9": {
      "model_module": "@jupyter-widgets/base",
      "model_module_version": "1.2.0",
      "model_name": "LayoutModel",
      "state": {
       "_model_module": "@jupyter-widgets/base",
       "_model_module_version": "1.2.0",
       "_model_name": "LayoutModel",
       "_view_count": null,
       "_view_module": "@jupyter-widgets/base",
       "_view_module_version": "1.2.0",
       "_view_name": "LayoutView",
       "align_content": null,
       "align_items": null,
       "align_self": null,
       "border": null,
       "bottom": null,
       "display": null,
       "flex": null,
       "flex_flow": null,
       "grid_area": null,
       "grid_auto_columns": null,
       "grid_auto_flow": null,
       "grid_auto_rows": null,
       "grid_column": null,
       "grid_gap": null,
       "grid_row": null,
       "grid_template_areas": null,
       "grid_template_columns": null,
       "grid_template_rows": null,
       "height": null,
       "justify_content": null,
       "justify_items": null,
       "left": null,
       "margin": null,
       "max_height": null,
       "max_width": null,
       "min_height": null,
       "min_width": null,
       "object_fit": null,
       "object_position": null,
       "order": null,
       "overflow": null,
       "overflow_x": null,
       "overflow_y": null,
       "padding": null,
       "right": null,
       "top": null,
       "visibility": null,
       "width": null
      }
     },
     "fe32a32085a14aa78f9d3880f80fc8e3": {
      "model_module": "@jupyter-widgets/controls",
      "model_module_version": "1.5.0",
      "model_name": "DescriptionStyleModel",
      "state": {
       "_model_module": "@jupyter-widgets/controls",
       "_model_module_version": "1.5.0",
       "_model_name": "DescriptionStyleModel",
       "_view_count": null,
       "_view_module": "@jupyter-widgets/base",
       "_view_module_version": "1.2.0",
       "_view_name": "StyleView",
       "description_width": ""
      }
     }
    },
    "version_major": 2,
    "version_minor": 0
   }
  }
 },
 "nbformat": 4,
 "nbformat_minor": 5
}
