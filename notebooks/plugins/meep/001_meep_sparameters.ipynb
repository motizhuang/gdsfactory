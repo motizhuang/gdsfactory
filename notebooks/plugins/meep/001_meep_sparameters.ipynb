{
 "cells": [
  {
   "cell_type": "markdown",
   "metadata": {},
   "source": [
    "# FDTD Meep\n",
    "\n",
    "[Meep](https://meep.readthedocs.io/en/latest/) is a free, open source Finite Difference Time Domain (FDTD) simulator\n",
    "\n",
    "You to install meep and MPB with:\n",
    "\n",
    "mamba (faster conda)\n",
    "\n",
    "```\n",
    "mamba install pymeep=*=mpi_mpich_* -y\n",
    "```\n",
    "\n",
    "conda (slower)\n",
    "\n",
    "```\n",
    "conda install -c conda-forge pymeep=*=mpi_mpich_* -y\n",
    "```\n",
    "\n",
    "To update you can use\n",
    "\n",
    "```\n",
    "mamba update pymeep=*=mpi_mpich_* -y\n",
    "```\n",
    "\n",
    "Works only on Mac, Linux or windows [WSL](https://docs.microsoft.com/en-us/windows/wsl/)\n",
    "\n",
    "\n",
    "\n",
    "gdsfactory `gmeep` plugin computes the transmission spectrum for Photonic planar components.\n",
    "\n",
    "One of the advantages of using `gmeep` is that you only need to define your component once using gdsfactory, and automatically can simulate it in meep without having to define the geometry again.\n",
    "\n",
    "For extracting Sparameters, `gmeep` automatically swaps the source between ports to compute the full Sparameters matrix.\n",
    "\n",
    "- add monitors on each component port\n",
    "- extend ports to go over the PML\n",
    "- run simulation and compute Sparameter coefficients with proper ratios for each Sparameter. Monitors record Fourier Transform fields. Sparameter is a relationship of those parameters at different frequencies.\n",
    "\n",
    "The resolution is in pixels/um, you should run with at least `resolution=30` for 1/30 um/pixel (33 nm/ pixel)\n",
    "\n",
    "Notice that most examples run with `resolution=20` so they run fast.\n",
    "\n",
    "Here are some examples on how to extract Sparameters in Meep in some planar devices.\n",
    "\n",
    "\n",
    "```bash\n",
    "\n",
    "         top view\n",
    "              ________________________________\n",
    "             |                               |\n",
    "             | xmargin_left                  | port_extension\n",
    "             |<--------->       port_margin ||<-->\n",
    "          o2_|___________          _________||_o3\n",
    "             |           \\        /          |\n",
    "             |            \\      /           |\n",
    "             |             ======            |\n",
    "             |            /      \\           |\n",
    "          o1_|___________/        \\__________|_o4\n",
    "             |   |                 <-------->|\n",
    "             |   |ymargin_bot   xmargin_right|\n",
    "             |   |                           |\n",
    "             |___|___________________________|\n",
    "\n",
    "        side view\n",
    "              ________________________________\n",
    "             |                     |         |\n",
    "             |                     |         |\n",
    "             |                   zmargin_top |\n",
    "             |xmargin_left         |         |\n",
    "             |<---> _____         _|___      |\n",
    "             |     |     |       |     |     |\n",
    "             |     |     |       |     |     |\n",
    "             |     |_____|       |_____|     |\n",
    "             |       |                       |\n",
    "             |       |                       |\n",
    "             |       |zmargin_bot            |\n",
    "             |       |                       |\n",
    "             |_______|_______________________|\n",
    "\n",
    "\n",
    "\n",
    "```\n",
    "\n",
    "## Single core\n",
    "\n",
    "Running on a single CPU core can be slow as the a single core needs to update all the simulation grid points sequentially."
   ]
  },
  {
   "cell_type": "code",
   "execution_count": 1,
   "metadata": {
    "execution": {
     "iopub.execute_input": "2022-06-30T06:12:28.380261Z",
     "iopub.status.busy": "2022-06-30T06:12:28.379851Z",
     "iopub.status.idle": "2022-06-30T06:12:30.606404Z",
     "shell.execute_reply": "2022-06-30T06:12:30.605633Z"
    }
   },
   "outputs": [
    {
     "name": "stderr",
     "output_type": "stream",
     "text": [
      "2022-06-30 06:12:29.334 | INFO     | gdsfactory.config:<module>:52 - Load '/home/runner/work/gdsfactory/gdsfactory/gdsfactory' 5.12.4\n"
     ]
    },
    {
     "name": "stderr",
     "output_type": "stream",
     "text": [
      "2022-06-30 06:12:30.602 | INFO     | gdsfactory.simulation.gmeep:<module>:28 - Meep '1.23.0' installed at ['/usr/share/miniconda/envs/anaconda-client-env/lib/python3.9/site-packages/meep']\n"
     ]
    },
    {
     "name": "stdout",
     "output_type": "stream",
     "text": [
      "Using MPI version 4.0, 1 processes\n"
     ]
    }
   ],
   "source": [
    "import matplotlib.pyplot as plt\n",
    "import numpy as np\n",
    "import gdsfactory as gf\n",
    "import gdsfactory.simulation.gmeep as gm\n",
    "\n",
    "gf.config.set_plot_options(show_subports=False, show_ports=False)"
   ]
  },
  {
   "cell_type": "code",
   "execution_count": 2,
   "metadata": {
    "execution": {
     "iopub.execute_input": "2022-06-30T06:12:30.610626Z",
     "iopub.status.busy": "2022-06-30T06:12:30.610089Z",
     "iopub.status.idle": "2022-06-30T06:12:30.760638Z",
     "shell.execute_reply": "2022-06-30T06:12:30.759741Z"
    }
   },
   "outputs": [
    {
     "data": {
      "image/png": "[encoded data removed]",
      "text/plain": [
       "<Figure size 432x288 with 1 Axes>"
      ]
     },
     "metadata": {
      "needs_background": "light"
     },
     "output_type": "display_data"
    },
    {
     "data": {
      "text/html": [
       "straight_length2: uid 0, ports ['o1', 'o2'], aliases [], 4 polygons, 0 references"
      ],
      "text/plain": [
       "straight_length2: uid 0, ports ['o1', 'o2'], aliases [], 4 polygons, 0 references"
      ]
     },
     "execution_count": 2,
     "metadata": {},
     "output_type": "execute_result"
    }
   ],
   "source": [
    "c = gf.components.straight(length=2)\n",
    "c"
   ]
  },
  {
   "cell_type": "markdown",
   "metadata": {},
   "source": [
    "`run=False` only plots the simulations for you to review that is set up **correctly**"
   ]
  },
  {
   "cell_type": "code",
   "execution_count": 3,
   "metadata": {
    "execution": {
     "iopub.execute_input": "2022-06-30T06:12:30.764758Z",
     "iopub.status.busy": "2022-06-30T06:12:30.764290Z",
     "iopub.status.idle": "2022-06-30T06:12:30.904254Z",
     "shell.execute_reply": "2022-06-30T06:12:30.903497Z"
    }
   },
   "outputs": [
    {
     "name": "stderr",
     "output_type": "stream",
     "text": [
      "Warning: grid volume is not an integer number of pixels; cell size will be rounded to nearest pixel.\n"
     ]
    },
    {
     "name": "stderr",
     "output_type": "stream",
     "text": [
      "/usr/share/miniconda/envs/anaconda-client-env/lib/python3.9/site-packages/meep/__init__.py:4472: ComplexWarning: Casting complex values to real discards the imaginary part\n",
      "  return _meep._get_epsilon_grid(gobj_list, mlist, _default_material, _ensure_periodicity, gv, cell_size, cell_center, nx, xtics, ny, ytics, nz, ztics, grid_vals, frequency)\n"
     ]
    },
    {
     "data": {
      "image/png": "[encoded data removed]",
      "text/plain": [
       "<Figure size 432x288 with 1 Axes>"
      ]
     },
     "metadata": {
      "needs_background": "light"
     },
     "output_type": "display_data"
    }
   ],
   "source": [
    "df = gm.write_sparameters_meep(c, run=False, ymargin_top=3, ymargin_bot=3)"
   ]
  },
  {
   "cell_type": "code",
   "execution_count": 4,
   "metadata": {
    "execution": {
     "iopub.execute_input": "2022-06-30T06:12:30.908993Z",
     "iopub.status.busy": "2022-06-30T06:12:30.908449Z",
     "iopub.status.idle": "2022-06-30T06:12:30.914019Z",
     "shell.execute_reply": "2022-06-30T06:12:30.913366Z"
    }
   },
   "outputs": [
    {
     "name": "stdout",
     "output_type": "stream",
     "text": [
      "Help on cython_function_or_method in module gdsfactory.simulation.gmeep.write_sparameters_meep:\n",
      "\n",
      "write_sparameters_meep(component: Union[str, Callable[..., gdsfactory.component.Component], gdsfactory.component.Component, Dict[str, Any]], port_symmetries: Optional[Dict[str, Dict[str, List[str]]]] = None, resolution: int = 30, wavelength_start: float = 1.5, wavelength_stop: float = 1.6, wavelength_points: int = 50, dirpath: Union[str, pathlib.Path, NoneType] = None, layer_stack: Optional[gdsfactory.tech.LayerStack] = None, port_margin: float = 2, port_monitor_offset: float = -0.1, port_source_offset: float = -0.1, filepath: Optional[pathlib.Path] = None, overwrite: bool = False, animate: bool = False, lazy_parallelism: bool = False, run: bool = True, dispersive: bool = False, xmargin: float = 0, ymargin: float = 3, xmargin_left: float = 0, xmargin_right: float = 0, ymargin_top: float = 0, ymargin_bot: float = 0, **settings) -> pandas.core.frame.DataFrame\n",
      "    Compute Sparameters and writes them to a CSV filepath.\n",
      "    Simulates each time using a different input port (by default, all of them)\n",
      "    unless you specify port_symmetries:\n",
      "    \n",
      "    port_symmetries = {\"o1\":\n",
      "            {\n",
      "                \"s11\": [\"s22\",\"s33\",\"s44\"],\n",
      "                \"s21\": [\"s21\",\"s34\",\"s43\"],\n",
      "                \"s31\": [\"s13\",\"s24\",\"s42\"],\n",
      "                \"s41\": [\"s14\",\"s23\",\"s32\"],\n",
      "            }\n",
      "        }\n",
      "    - Only simulations using the outer key port names will be run\n",
      "    - The associated value is another dict whose keys are the S-parameters computed\n",
      "        when this source is active\n",
      "    - The values of this inner Dict are lists of s-parameters whose values are copied\n",
      "    \n",
      "    This allows you doing less simulations\n",
      "    \n",
      "    TODO: automate this for common component types\n",
      "    (geometrical symmetries, reciprocal materials, etc.)\n",
      "    \n",
      "    TODO: enable other port naming conventions, such as (in0, in1, out0, out1)\n",
      "    \n",
      "    \n",
      "    .. code::\n",
      "    \n",
      "         top view\n",
      "              ________________________________\n",
      "             |                               |\n",
      "             | xmargin_left                  | port_extension\n",
      "             |<--------->       port_margin ||<-->\n",
      "          o2_|___________          _________||_o3\n",
      "             |           \\        /          |\n",
      "             |            \\      /           |\n",
      "             |             ======            |\n",
      "             |            /      \\           |\n",
      "          o1_|___________/        \\__________|_o4\n",
      "             |   |                 <-------->|\n",
      "             |   |ymargin_bot   xmargin_right|\n",
      "             |   |                           |\n",
      "             |___|___________________________|\n",
      "    \n",
      "        side view\n",
      "              ________________________________\n",
      "             |                     |         |\n",
      "             |                     |         |\n",
      "             |                   zmargin_top |\n",
      "             |xmargin_left         |         |\n",
      "             |<---> _____         _|___      |\n",
      "             |     |     |       |     |     |\n",
      "             |     |     |       |     |     |\n",
      "             |     |_____|       |_____|     |\n",
      "             |       |                       |\n",
      "             |       |                       |\n",
      "             |       |zmargin_bot            |\n",
      "             |       |                       |\n",
      "             |_______|_______________________|\n",
      "    \n",
      "    \n",
      "    \n",
      "    Args:\n",
      "        component: to simulate.\n",
      "        resolution: in pixels/um (30: for coarse, 100: for fine).\n",
      "        port_symmetries: Dict to specify port symmetries, to save number of simulations.\n",
      "        dirpath: directory to store Sparameters.\n",
      "        layer_stack: contains layer to thickness, zmin and material.\n",
      "            Defaults to active pdk.layer_stack.\n",
      "        port_margin: margin on each side of the port.\n",
      "        port_monitor_offset: offset between Component and monitor port in um.\n",
      "        port_source_offset: offset between Component and source port in um.\n",
      "        filepath: to store pandas Dataframe with Sparameters in CSV format.\n",
      "            Defaults to dirpath/component_.csv.\n",
      "        overwrite: overwrites stored Sparameter CSV results.\n",
      "        animate: saves a MP4 images of the simulation for inspection, and also\n",
      "            outputs during computation. The name of the file is the source index.\n",
      "        lazy_parallelism: toggles the flag \"meep.divide_parallel_processes\" to\n",
      "            perform the simulations with different sources in parallel.\n",
      "        run: runs simulation, if False, only plots simulation.\n",
      "        dispersive: use dispersive models for materials (requires higher resolution).\n",
      "        xmargin: left and right distance from component to PML.\n",
      "        xmargin_left: west distance from component to PML.\n",
      "        xmargin_right: east distance from component to PML.\n",
      "        ymargin: top and bottom distance from component to PML.\n",
      "        ymargin_top: north distance from component to PML.\n",
      "        ymargin_bot: south distance from component to PML.\n",
      "    \n",
      "    keyword Args:\n",
      "        extend_ports_length: to extend ports beyond the PML (um).\n",
      "        zmargin_top: thickness for cladding above core (um).\n",
      "        zmargin_bot: thickness for cladding below core (um).\n",
      "        tpml: PML thickness (um).\n",
      "        clad_material: material for cladding.\n",
      "        is_3d: if True runs in 3D (much slower).\n",
      "        wavelength_start: wavelength min (um).\n",
      "        wavelength_stop: wavelength max (um).\n",
      "        wavelength_points: wavelength steps.\n",
      "        dfcen: delta frequency.\n",
      "        port_source_name: input port name.\n",
      "        port_field_monitor_name:\n",
      "        port_margin: margin on each side of the port (um).\n",
      "        distance_source_to_monitors: in (um).\n",
      "        port_source_offset: offset between source Component port and source MEEP port.\n",
      "        port_monitor_offset: offset between monitor Component port and monitor MEEP port.\n",
      "        material_name_to_meep: dispersive materials have a wavelength\n",
      "            dependent index. Maps layer_stack names with meep material database names.\n",
      "    \n",
      "    Returns:\n",
      "        sparameters in a pandas Dataframe (wavelengths, s11a, s12m, ...)\n",
      "            where `a` is the angle in radians and `m` the module\n",
      "\n"
     ]
    }
   ],
   "source": [
    "help(gm.write_sparameters_meep)"
   ]
  },
  {
   "cell_type": "markdown",
   "metadata": {},
   "source": [
    "As you've noticed we added `ymargin_top` and `ymargin_bot` to ensure we have enough distance to the PML\n",
    "\n",
    "You can also do this directly with another version of the function that adds `ymargin_top` and `ymargin_bot`"
   ]
  },
  {
   "cell_type": "code",
   "execution_count": 5,
   "metadata": {
    "execution": {
     "iopub.execute_input": "2022-06-30T06:12:30.917586Z",
     "iopub.status.busy": "2022-06-30T06:12:30.917050Z",
     "iopub.status.idle": "2022-06-30T06:12:31.044353Z",
     "shell.execute_reply": "2022-06-30T06:12:31.043577Z"
    }
   },
   "outputs": [
    {
     "name": "stderr",
     "output_type": "stream",
     "text": [
      "Warning: grid volume is not an integer number of pixels; cell size will be rounded to nearest pixel.\n"
     ]
    },
    {
     "data": {
      "image/png": "[encoded data removed]",
      "text/plain": [
       "<Figure size 432x288 with 1 Axes>"
      ]
     },
     "metadata": {
      "needs_background": "light"
     },
     "output_type": "display_data"
    }
   ],
   "source": [
    "c = gf.components.straight(length=2)\n",
    "df = gm.write_sparameters_meep(c, run=False)"
   ]
  },
  {
   "cell_type": "markdown",
   "metadata": {},
   "source": [
    "Because components with `left-right` ports are very common `write_sparameters_meep` `y_margin = 3um `"
   ]
  },
  {
   "cell_type": "code",
   "execution_count": 6,
   "metadata": {
    "execution": {
     "iopub.execute_input": "2022-06-30T06:12:31.048275Z",
     "iopub.status.busy": "2022-06-30T06:12:31.047922Z",
     "iopub.status.idle": "2022-06-30T06:12:31.176674Z",
     "shell.execute_reply": "2022-06-30T06:12:31.175911Z"
    }
   },
   "outputs": [
    {
     "data": {
      "image/png": "[encoded data removed]",
      "text/plain": [
       "<Figure size 432x288 with 1 Axes>"
      ]
     },
     "metadata": {
      "needs_background": "light"
     },
     "output_type": "display_data"
    },
    {
     "data": {
      "text/html": [
       "taper_length2p0_width21: uid 10, ports ['o1', 'o2'], aliases [], 3 polygons, 0 references"
      ],
      "text/plain": [
       "taper_length2p0_width21: uid 10, ports ['o1', 'o2'], aliases [], 3 polygons, 0 references"
      ]
     },
     "execution_count": 6,
     "metadata": {},
     "output_type": "execute_result"
    }
   ],
   "source": [
    "c = gf.components.taper(length=2.0, width1=0.5, width2=1)\n",
    "c"
   ]
  },
  {
   "cell_type": "code",
   "execution_count": 7,
   "metadata": {
    "execution": {
     "iopub.execute_input": "2022-06-30T06:12:31.180608Z",
     "iopub.status.busy": "2022-06-30T06:12:31.179966Z",
     "iopub.status.idle": "2022-06-30T06:12:31.315328Z",
     "shell.execute_reply": "2022-06-30T06:12:31.314582Z"
    }
   },
   "outputs": [
    {
     "name": "stderr",
     "output_type": "stream",
     "text": [
      "Warning: grid volume is not an integer number of pixels; cell size will be rounded to nearest pixel.\n"
     ]
    },
    {
     "data": {
      "image/png": "[encoded data removed]",
      "text/plain": [
       "<Figure size 432x288 with 1 Axes>"
      ]
     },
     "metadata": {
      "needs_background": "light"
     },
     "output_type": "display_data"
    }
   ],
   "source": [
    "df = gm.write_sparameters_meep(c, run=False)"
   ]
  },
  {
   "cell_type": "code",
   "execution_count": 8,
   "metadata": {
    "execution": {
     "iopub.execute_input": "2022-06-30T06:12:31.321616Z",
     "iopub.status.busy": "2022-06-30T06:12:31.319301Z",
     "iopub.status.idle": "2022-06-30T06:12:31.333602Z",
     "shell.execute_reply": "2022-06-30T06:12:31.332908Z"
    }
   },
   "outputs": [
    {
     "name": "stderr",
     "output_type": "stream",
     "text": [
      "2022-06-30 06:12:31.325 | INFO     | gdsfactory.simulation.gmeep.write_sparameters_meep:write_sparameters_meep:345 - Simulation loaded from PosixPath('/home/runner/work/gdsfactory/gdsfactory/gdslib/sp/taper_length2p0_width21_ae267354.csv')\n"
     ]
    }
   ],
   "source": [
    "df = gm.write_sparameters_meep(c, resolution=20)"
   ]
  },
  {
   "cell_type": "code",
   "execution_count": 9,
   "metadata": {
    "execution": {
     "iopub.execute_input": "2022-06-30T06:12:31.338334Z",
     "iopub.status.busy": "2022-06-30T06:12:31.337624Z",
     "iopub.status.idle": "2022-06-30T06:12:31.476737Z",
     "shell.execute_reply": "2022-06-30T06:12:31.475818Z"
    }
   },
   "outputs": [
    {
     "data": {
      "image/png": "[encoded data removed]",
      "text/plain": [
       "<Figure size 432x288 with 1 Axes>"
      ]
     },
     "metadata": {
      "needs_background": "light"
     },
     "output_type": "display_data"
    }
   ],
   "source": [
    "gf.simulation.plot.plot_sparameters(df)"
   ]
  },
  {
   "cell_type": "code",
   "execution_count": 10,
   "metadata": {
    "execution": {
     "iopub.execute_input": "2022-06-30T06:12:31.481826Z",
     "iopub.status.busy": "2022-06-30T06:12:31.481231Z",
     "iopub.status.idle": "2022-06-30T06:12:31.602439Z",
     "shell.execute_reply": "2022-06-30T06:12:31.601550Z"
    }
   },
   "outputs": [
    {
     "data": {
      "image/png": "[encoded data removed]",
      "text/plain": [
       "<Figure size 432x288 with 1 Axes>"
      ]
     },
     "metadata": {
      "needs_background": "light"
     },
     "output_type": "display_data"
    }
   ],
   "source": [
    "gf.simulation.plot.plot_sparameters(df, keys=(\"s21m\",), logscale=False)"
   ]
  },
  {
   "cell_type": "code",
   "execution_count": 11,
   "metadata": {
    "execution": {
     "iopub.execute_input": "2022-06-30T06:12:31.607695Z",
     "iopub.status.busy": "2022-06-30T06:12:31.607137Z",
     "iopub.status.idle": "2022-06-30T06:12:31.725545Z",
     "shell.execute_reply": "2022-06-30T06:12:31.724680Z"
    }
   },
   "outputs": [
    {
     "data": {
      "image/png": "[encoded data removed]",
      "text/plain": [
       "<Figure size 432x288 with 1 Axes>"
      ]
     },
     "metadata": {
      "needs_background": "light"
     },
     "output_type": "display_data"
    }
   ],
   "source": [
    "gf.simulation.plot.plot_sparameters(df, keys=(\"s21m\",))"
   ]
  },
  {
   "cell_type": "markdown",
   "metadata": {},
   "source": [
    "For a small taper S21 (Transmission) is around 0dB (100% transmission)"
   ]
  },
  {
   "cell_type": "markdown",
   "metadata": {},
   "source": [
    "## Port symmetries\n",
    "\n",
    "You can save some simulations in reciprocal devices.\n",
    "If the device looks the same going from in -> out as out -> in, we only need to run one simulation"
   ]
  },
  {
   "cell_type": "code",
   "execution_count": 12,
   "metadata": {
    "execution": {
     "iopub.execute_input": "2022-06-30T06:12:31.731154Z",
     "iopub.status.busy": "2022-06-30T06:12:31.730639Z",
     "iopub.status.idle": "2022-06-30T06:12:31.873970Z",
     "shell.execute_reply": "2022-06-30T06:12:31.873110Z"
    }
   },
   "outputs": [
    {
     "data": {
      "image/png": "[encoded data removed]",
      "text/plain": [
       "<Figure size 432x288 with 1 Axes>"
      ]
     },
     "metadata": {
      "needs_background": "light"
     },
     "output_type": "display_data"
    },
    {
     "data": {
      "text/html": [
       "bend_euler_radius3: uid 16, ports ['o1', 'o2'], aliases [], 4 polygons, 0 references"
      ],
      "text/plain": [
       "bend_euler_radius3: uid 16, ports ['o1', 'o2'], aliases [], 4 polygons, 0 references"
      ]
     },
     "execution_count": 12,
     "metadata": {},
     "output_type": "execute_result"
    }
   ],
   "source": [
    "c = gf.components.bend_euler(radius=3)\n",
    "c"
   ]
  },
  {
   "cell_type": "code",
   "execution_count": 13,
   "metadata": {
    "execution": {
     "iopub.execute_input": "2022-06-30T06:12:31.878337Z",
     "iopub.status.busy": "2022-06-30T06:12:31.877734Z",
     "iopub.status.idle": "2022-06-30T06:12:33.115496Z",
     "shell.execute_reply": "2022-06-30T06:12:33.114701Z"
    }
   },
   "outputs": [
    {
     "name": "stderr",
     "output_type": "stream",
     "text": [
      "Warning: grid volume is not an integer number of pixels; cell size will be rounded to nearest pixel.\n"
     ]
    },
    {
     "name": "stderr",
     "output_type": "stream",
     "text": [
      "/usr/share/miniconda/envs/anaconda-client-env/lib/python3.9/site-packages/meep/__init__.py:4472: ComplexWarning: Casting complex values to real discards the imaginary part\n",
      "  return _meep._get_epsilon_grid(gobj_list, mlist, _default_material, _ensure_periodicity, gv, cell_size, cell_center, nx, xtics, ny, ytics, nz, ztics, grid_vals, frequency)\n"
     ]
    },
    {
     "data": {
      "image/png": "[encoded data removed]",
      "text/plain": [
       "<Figure size 432x288 with 1 Axes>"
      ]
     },
     "metadata": {
      "needs_background": "light"
     },
     "output_type": "display_data"
    }
   ],
   "source": [
    "df = gm.write_sparameters_meep_1x1_bend90(c, run=False)"
   ]
  },
  {
   "cell_type": "code",
   "execution_count": 14,
   "metadata": {
    "execution": {
     "iopub.execute_input": "2022-06-30T06:12:33.119807Z",
     "iopub.status.busy": "2022-06-30T06:12:33.119266Z",
     "iopub.status.idle": "2022-06-30T06:12:33.129513Z",
     "shell.execute_reply": "2022-06-30T06:12:33.128688Z"
    }
   },
   "outputs": [
    {
     "name": "stderr",
     "output_type": "stream",
     "text": [
      "2022-06-30 06:12:33.123 | INFO     | gdsfactory.simulation.gmeep.write_sparameters_meep:write_sparameters_meep:345 - Simulation loaded from PosixPath('/home/runner/work/gdsfactory/gdsfactory/gdslib/sp/bend_euler_radius3_4c26976e.csv')\n"
     ]
    }
   ],
   "source": [
    "df = gm.write_sparameters_meep_1x1_bend90(c, run=True)"
   ]
  },
  {
   "cell_type": "code",
   "execution_count": 15,
   "metadata": {
    "execution": {
     "iopub.execute_input": "2022-06-30T06:12:33.133495Z",
     "iopub.status.busy": "2022-06-30T06:12:33.133038Z",
     "iopub.status.idle": "2022-06-30T06:12:33.268439Z",
     "shell.execute_reply": "2022-06-30T06:12:33.267575Z"
    }
   },
   "outputs": [
    {
     "data": {
      "image/png": "[encoded data removed]",
      "text/plain": [
       "<Figure size 432x288 with 1 Axes>"
      ]
     },
     "metadata": {
      "needs_background": "light"
     },
     "output_type": "display_data"
    }
   ],
   "source": [
    "gf.simulation.plot.plot_sparameters(df)"
   ]
  },
  {
   "cell_type": "code",
   "execution_count": 16,
   "metadata": {
    "execution": {
     "iopub.execute_input": "2022-06-30T06:12:33.272817Z",
     "iopub.status.busy": "2022-06-30T06:12:33.272210Z",
     "iopub.status.idle": "2022-06-30T06:12:33.389542Z",
     "shell.execute_reply": "2022-06-30T06:12:33.388704Z"
    }
   },
   "outputs": [
    {
     "data": {
      "image/png": "[encoded data removed]",
      "text/plain": [
       "<Figure size 432x288 with 1 Axes>"
      ]
     },
     "metadata": {
      "needs_background": "light"
     },
     "output_type": "display_data"
    }
   ],
   "source": [
    "gf.simulation.plot.plot_sparameters(df, keys=(\"s21m\",), logscale=False)"
   ]
  },
  {
   "cell_type": "code",
   "execution_count": 17,
   "metadata": {
    "execution": {
     "iopub.execute_input": "2022-06-30T06:12:33.393731Z",
     "iopub.status.busy": "2022-06-30T06:12:33.393159Z",
     "iopub.status.idle": "2022-06-30T06:12:33.506457Z",
     "shell.execute_reply": "2022-06-30T06:12:33.505645Z"
    }
   },
   "outputs": [
    {
     "data": {
      "image/png": "[encoded data removed]",
      "text/plain": [
       "<Figure size 432x288 with 1 Axes>"
      ]
     },
     "metadata": {
      "needs_background": "light"
     },
     "output_type": "display_data"
    }
   ],
   "source": [
    "gf.simulation.plot.plot_sparameters(df, keys=(\"s11m\",))"
   ]
  },
  {
   "cell_type": "code",
   "execution_count": 18,
   "metadata": {
    "execution": {
     "iopub.execute_input": "2022-06-30T06:12:33.509533Z",
     "iopub.status.busy": "2022-06-30T06:12:33.509097Z",
     "iopub.status.idle": "2022-06-30T06:12:33.639746Z",
     "shell.execute_reply": "2022-06-30T06:12:33.639065Z"
    }
   },
   "outputs": [
    {
     "data": {
      "image/png": "[encoded data removed]",
      "text/plain": [
       "<Figure size 432x288 with 1 Axes>"
      ]
     },
     "metadata": {
      "needs_background": "light"
     },
     "output_type": "display_data"
    },
    {
     "data": {
      "text/html": [
       "crossing: uid 23, ports ['o1', 'o3', 'o4', 'o2'], aliases [], 5 polygons, 0 references"
      ],
      "text/plain": [
       "crossing: uid 23, ports ['o1', 'o3', 'o4', 'o2'], aliases [], 5 polygons, 0 references"
      ]
     },
     "execution_count": 18,
     "metadata": {},
     "output_type": "execute_result"
    }
   ],
   "source": [
    "c = gf.components.crossing()\n",
    "c"
   ]
  },
  {
   "cell_type": "markdown",
   "metadata": {},
   "source": [
    "Here are the port symmetries for a crossing\n",
    "\n",
    "```python\n",
    "port_symmetries = {\n",
    "    \"o1\": {\n",
    "        \"s11\": [\"s22\", \"s33\", \"s44\"],\n",
    "        \"s21\": [\"s12\", \"s34\", \"s43\"],\n",
    "        \"s31\": [\"s13\", \"s24\", \"s42\"],\n",
    "        \"s41\": [\"s14\", \"s23\", \"s32\"],\n",
    "    }\n",
    "}\n",
    "```"
   ]
  },
  {
   "cell_type": "code",
   "execution_count": 19,
   "metadata": {
    "execution": {
     "iopub.execute_input": "2022-06-30T06:12:33.643545Z",
     "iopub.status.busy": "2022-06-30T06:12:33.643011Z",
     "iopub.status.idle": "2022-06-30T06:12:34.256302Z",
     "shell.execute_reply": "2022-06-30T06:12:34.255562Z"
    }
   },
   "outputs": [
    {
     "name": "stderr",
     "output_type": "stream",
     "text": [
      "Warning: grid volume is not an integer number of pixels; cell size will be rounded to nearest pixel.\n"
     ]
    },
    {
     "name": "stderr",
     "output_type": "stream",
     "text": [
      "/usr/share/miniconda/envs/anaconda-client-env/lib/python3.9/site-packages/meep/__init__.py:4472: ComplexWarning: Casting complex values to real discards the imaginary part\n",
      "  return _meep._get_epsilon_grid(gobj_list, mlist, _default_material, _ensure_periodicity, gv, cell_size, cell_center, nx, xtics, ny, ytics, nz, ztics, grid_vals, frequency)\n"
     ]
    },
    {
     "data": {
      "image/png": "[encoded data removed]",
      "text/plain": [
       "<Figure size 432x288 with 1 Axes>"
      ]
     },
     "metadata": {
      "needs_background": "light"
     },
     "output_type": "display_data"
    }
   ],
   "source": [
    "df = gm.write_sparameters_meep(\n",
    "    c,\n",
    "    resolution=20,\n",
    "    ymargin=0,\n",
    "    port_symmetries=gm.port_symmetries.port_symmetries_crossing,\n",
    "    run=False,\n",
    ")"
   ]
  },
  {
   "cell_type": "code",
   "execution_count": 20,
   "metadata": {
    "execution": {
     "iopub.execute_input": "2022-06-30T06:12:34.261896Z",
     "iopub.status.busy": "2022-06-30T06:12:34.260454Z",
     "iopub.status.idle": "2022-06-30T06:12:34.274518Z",
     "shell.execute_reply": "2022-06-30T06:12:34.273653Z"
    }
   },
   "outputs": [
    {
     "name": "stderr",
     "output_type": "stream",
     "text": [
      "2022-06-30 06:12:34.266 | INFO     | gdsfactory.simulation.gmeep.write_sparameters_meep:write_sparameters_meep:345 - Simulation loaded from PosixPath('/home/runner/work/gdsfactory/gdsfactory/gdslib/sp/crossing_073b4930.csv')\n"
     ]
    }
   ],
   "source": [
    "df = gm.write_sparameters_meep(\n",
    "    c,\n",
    "    resolution=20,\n",
    "    ymargin=0,\n",
    "    port_symmetries=gm.port_symmetries.port_symmetries_crossing,\n",
    "    run=True,\n",
    ")"
   ]
  },
  {
   "cell_type": "code",
   "execution_count": 21,
   "metadata": {
    "execution": {
     "iopub.execute_input": "2022-06-30T06:12:34.279395Z",
     "iopub.status.busy": "2022-06-30T06:12:34.278839Z",
     "iopub.status.idle": "2022-06-30T06:12:34.506930Z",
     "shell.execute_reply": "2022-06-30T06:12:34.506058Z"
    }
   },
   "outputs": [
    {
     "data": {
      "image/png": "[encoded data removed]",
      "text/plain": [
       "<Figure size 432x288 with 1 Axes>"
      ]
     },
     "metadata": {
      "needs_background": "light"
     },
     "output_type": "display_data"
    }
   ],
   "source": [
    "gm.plot.plot_sparameters(df)"
   ]
  },
  {
   "cell_type": "code",
   "execution_count": 22,
   "metadata": {
    "execution": {
     "iopub.execute_input": "2022-06-30T06:12:34.511283Z",
     "iopub.status.busy": "2022-06-30T06:12:34.510754Z",
     "iopub.status.idle": "2022-06-30T06:12:34.823559Z",
     "shell.execute_reply": "2022-06-30T06:12:34.822704Z"
    }
   },
   "outputs": [
    {
     "data": {
      "image/png": "[encoded data removed]",
      "text/plain": [
       "<Figure size 432x288 with 1 Axes>"
      ]
     },
     "metadata": {
      "needs_background": "light"
     },
     "output_type": "display_data"
    }
   ],
   "source": [
    "gm.plot.plot_sparameters(df, keys=(\"s31m\",))"
   ]
  },
  {
   "cell_type": "markdown",
   "metadata": {},
   "source": [
    "As you can see this crossing looks beautiful but is quite **lossy** (9dB @ 15550nm)"
   ]
  },
  {
   "cell_type": "markdown",
   "metadata": {},
   "source": [
    "## Multicore (MPI)\n",
    "\n",
    "You can divide each simulation into multiple cores thanks to [MPI (message passing interface)](https://en.wikipedia.org/wiki/Message_Passing_Interface)\n",
    "\n",
    "Lets try to reproduce the coupler results from the [Meep docs](https://meep.readthedocs.io/en/latest/Python_Tutorials/GDSII_Import/)\n",
    "\n",
    "According to the simulations in the doc to get a 3dB (50%/50%) splitter you need 150nm over 8um"
   ]
  },
  {
   "cell_type": "code",
   "execution_count": 23,
   "metadata": {
    "execution": {
     "iopub.execute_input": "2022-06-30T06:12:34.829622Z",
     "iopub.status.busy": "2022-06-30T06:12:34.829054Z",
     "iopub.status.idle": "2022-06-30T06:12:34.835305Z",
     "shell.execute_reply": "2022-06-30T06:12:34.834506Z"
    }
   },
   "outputs": [],
   "source": [
    "import matplotlib.pyplot as plt\n",
    "import numpy as np\n",
    "import pandas as pd\n",
    "import time\n",
    "\n",
    "import gdsfactory as gf\n",
    "import gdsfactory.simulation as sim\n",
    "import gdsfactory.simulation.gmeep as gm"
   ]
  },
  {
   "cell_type": "code",
   "execution_count": 24,
   "metadata": {
    "execution": {
     "iopub.execute_input": "2022-06-30T06:12:34.839832Z",
     "iopub.status.busy": "2022-06-30T06:12:34.839301Z",
     "iopub.status.idle": "2022-06-30T06:12:34.846169Z",
     "shell.execute_reply": "2022-06-30T06:12:34.845247Z"
    }
   },
   "outputs": [
    {
     "name": "stdout",
     "output_type": "stream",
     "text": [
      "Help on function coupler in module gdsfactory.components.coupler:\n",
      "\n",
      "coupler(gap: float = 0.236, length: float = 20.0, coupler_symmetric: Union[str, Callable[..., gdsfactory.component.Component], gdsfactory.component.Component, Dict[str, Any]] = <function coupler_symmetric at 0x7fb57140e820>, coupler_straight: Union[str, Callable[..., gdsfactory.component.Component], gdsfactory.component.Component, Dict[str, Any]] = <function coupler_straight at 0x7fb57140e5e0>, dy: float = 5.0, dx: float = 10.0, cross_section: Union[str, Callable[..., gdsfactory.cross_section.CrossSection], gdsfactory.cross_section.CrossSection, Dict[str, Any]] = 'strip', **kwargs) -> gdsfactory.component.Component\n",
      "    Symmetric coupler.\n",
      "    \n",
      "    Args:\n",
      "        gap: between straights in um.\n",
      "        length: of coupling region in um.\n",
      "        coupler_symmetric.\n",
      "        coupler_straight.\n",
      "        dy: port to port vertical spacing in um.\n",
      "        dx: length of bend in x direction in um.\n",
      "        cross_section: spec (CrossSection, string or dict).\n",
      "        kwargs: cross_section settings.\n",
      "    \n",
      "    .. code::\n",
      "    \n",
      "               dx                                 dx\n",
      "            |------|                           |------|\n",
      "         o2 ________                           ______o3\n",
      "                    \\                         /           |\n",
      "                     \\        length         /            |\n",
      "                      ======================= gap         | dy\n",
      "                     /                       \\            |\n",
      "            ________/                         \\_______    |\n",
      "         o1                                          o4\n",
      "    \n",
      "                        coupler_straight  coupler_symmetric\n",
      "\n"
     ]
    }
   ],
   "source": [
    "help(gf.components.coupler)"
   ]
  },
  {
   "cell_type": "code",
   "execution_count": 25,
   "metadata": {
    "execution": {
     "iopub.execute_input": "2022-06-30T06:12:34.849917Z",
     "iopub.status.busy": "2022-06-30T06:12:34.849333Z",
     "iopub.status.idle": "2022-06-30T06:12:35.008404Z",
     "shell.execute_reply": "2022-06-30T06:12:35.007122Z"
    }
   },
   "outputs": [
    {
     "data": {
      "image/png": "[encoded data removed]",
      "text/plain": [
       "<Figure size 432x288 with 1 Axes>"
      ]
     },
     "metadata": {
      "needs_background": "light"
     },
     "output_type": "display_data"
    },
    {
     "data": {
      "text/html": [
       "coupler_gap0p13_length8: uid 29, ports ['o1', 'o2', 'o3', 'o4'], aliases [], 21 polygons, 0 references"
      ],
      "text/plain": [
       "coupler_gap0p13_length8: uid 29, ports ['o1', 'o2', 'o3', 'o4'], aliases [], 21 polygons, 0 references"
      ]
     },
     "execution_count": 25,
     "metadata": {},
     "output_type": "execute_result"
    }
   ],
   "source": [
    "c = gf.components.coupler(length=8, gap=0.13)\n",
    "c"
   ]
  },
  {
   "cell_type": "code",
   "execution_count": 26,
   "metadata": {
    "execution": {
     "iopub.execute_input": "2022-06-30T06:12:35.012623Z",
     "iopub.status.busy": "2022-06-30T06:12:35.012052Z",
     "iopub.status.idle": "2022-06-30T06:12:38.313280Z",
     "shell.execute_reply": "2022-06-30T06:12:38.312399Z"
    }
   },
   "outputs": [
    {
     "name": "stderr",
     "output_type": "stream",
     "text": [
      "Warning: grid volume is not an integer number of pixels; cell size will be rounded to nearest pixel.\n"
     ]
    },
    {
     "name": "stderr",
     "output_type": "stream",
     "text": [
      "/usr/share/miniconda/envs/anaconda-client-env/lib/python3.9/site-packages/meep/__init__.py:4472: ComplexWarning: Casting complex values to real discards the imaginary part\n",
      "  return _meep._get_epsilon_grid(gobj_list, mlist, _default_material, _ensure_periodicity, gv, cell_size, cell_center, nx, xtics, ny, ytics, nz, ztics, grid_vals, frequency)\n"
     ]
    },
    {
     "data": {
      "image/png": "[encoded data removed]",
      "text/plain": [
       "<Figure size 432x288 with 1 Axes>"
      ]
     },
     "metadata": {
      "needs_background": "light"
     },
     "output_type": "display_data"
    }
   ],
   "source": [
    "gm.write_sparameters_meep(component=c, run=False)"
   ]
  },
  {
   "cell_type": "code",
   "execution_count": 27,
   "metadata": {
    "execution": {
     "iopub.execute_input": "2022-06-30T06:12:38.318405Z",
     "iopub.status.busy": "2022-06-30T06:12:38.317609Z",
     "iopub.status.idle": "2022-06-30T06:12:38.325078Z",
     "shell.execute_reply": "2022-06-30T06:12:38.324253Z"
    }
   },
   "outputs": [
    {
     "name": "stderr",
     "output_type": "stream",
     "text": [
      "2022-06-30 06:12:38.320 | INFO     | gdsfactory.simulation.gmeep.write_sparameters_meep_mpi:write_sparameters_meep_mpi:140 - Simulation PosixPath('/home/runner/work/gdsfactory/gdsfactory/gdslib/sp/coupler_gap0p13_length8_dd873517.csv') already exists\n"
     ]
    }
   ],
   "source": [
    "filepath = gm.write_sparameters_meep_mpi(\n",
    "    component=c,\n",
    "    cores=4,\n",
    "    resolution=30,\n",
    ")"
   ]
  },
  {
   "cell_type": "code",
   "execution_count": 28,
   "metadata": {
    "execution": {
     "iopub.execute_input": "2022-06-30T06:12:38.328972Z",
     "iopub.status.busy": "2022-06-30T06:12:38.328431Z",
     "iopub.status.idle": "2022-06-30T06:12:38.336404Z",
     "shell.execute_reply": "2022-06-30T06:12:38.335594Z"
    }
   },
   "outputs": [],
   "source": [
    "df = pd.read_csv(filepath)"
   ]
  },
  {
   "cell_type": "code",
   "execution_count": 29,
   "metadata": {
    "execution": {
     "iopub.execute_input": "2022-06-30T06:12:38.340865Z",
     "iopub.status.busy": "2022-06-30T06:12:38.340408Z",
     "iopub.status.idle": "2022-06-30T06:12:38.563416Z",
     "shell.execute_reply": "2022-06-30T06:12:38.562456Z"
    }
   },
   "outputs": [
    {
     "data": {
      "image/png": "[encoded data removed]",
      "text/plain": [
       "<Figure size 432x288 with 1 Axes>"
      ]
     },
     "metadata": {
      "needs_background": "light"
     },
     "output_type": "display_data"
    }
   ],
   "source": [
    "gf.simulation.plot.plot_sparameters(df)"
   ]
  },
  {
   "cell_type": "code",
   "execution_count": 30,
   "metadata": {
    "execution": {
     "iopub.execute_input": "2022-06-30T06:12:38.568225Z",
     "iopub.status.busy": "2022-06-30T06:12:38.567662Z",
     "iopub.status.idle": "2022-06-30T06:12:38.685341Z",
     "shell.execute_reply": "2022-06-30T06:12:38.684624Z"
    }
   },
   "outputs": [
    {
     "data": {
      "image/png": "[encoded data removed]",
      "text/plain": [
       "<Figure size 432x288 with 1 Axes>"
      ]
     },
     "metadata": {
      "needs_background": "light"
     },
     "output_type": "display_data"
    }
   ],
   "source": [
    "gf.simulation.plot.plot_sparameters(df, keys=[\"s13m\", \"s14m\"])"
   ]
  },
  {
   "cell_type": "markdown",
   "metadata": {},
   "source": [
    "## Batch\n",
    "\n",
    "You can also run a batch of multicore simulations"
   ]
  },
  {
   "cell_type": "code",
   "execution_count": 31,
   "metadata": {
    "execution": {
     "iopub.execute_input": "2022-06-30T06:12:38.689570Z",
     "iopub.status.busy": "2022-06-30T06:12:38.689016Z",
     "iopub.status.idle": "2022-06-30T06:12:38.695441Z",
     "shell.execute_reply": "2022-06-30T06:12:38.694665Z"
    }
   },
   "outputs": [],
   "source": [
    "import matplotlib.pyplot as plt\n",
    "import numpy as np\n",
    "import pandas as pd\n",
    "import gdsfactory as gf\n",
    "\n",
    "import gdsfactory.simulation as sim\n",
    "import gdsfactory.simulation.gmeep as gm"
   ]
  },
  {
   "cell_type": "code",
   "execution_count": 32,
   "metadata": {
    "execution": {
     "iopub.execute_input": "2022-06-30T06:12:38.699315Z",
     "iopub.status.busy": "2022-06-30T06:12:38.698783Z",
     "iopub.status.idle": "2022-06-30T06:12:38.708241Z",
     "shell.execute_reply": "2022-06-30T06:12:38.707264Z"
    }
   },
   "outputs": [],
   "source": [
    "c = gf.components.straight(length=3.1)"
   ]
  },
  {
   "cell_type": "code",
   "execution_count": 33,
   "metadata": {
    "execution": {
     "iopub.execute_input": "2022-06-30T06:12:38.712316Z",
     "iopub.status.busy": "2022-06-30T06:12:38.711752Z",
     "iopub.status.idle": "2022-06-30T06:12:38.849347Z",
     "shell.execute_reply": "2022-06-30T06:12:38.848463Z"
    }
   },
   "outputs": [
    {
     "name": "stderr",
     "output_type": "stream",
     "text": [
      "Warning: grid volume is not an integer number of pixels; cell size will be rounded to nearest pixel.\n"
     ]
    },
    {
     "name": "stderr",
     "output_type": "stream",
     "text": [
      "/usr/share/miniconda/envs/anaconda-client-env/lib/python3.9/site-packages/meep/__init__.py:4472: ComplexWarning: Casting complex values to real discards the imaginary part\n",
      "  return _meep._get_epsilon_grid(gobj_list, mlist, _default_material, _ensure_periodicity, gv, cell_size, cell_center, nx, xtics, ny, ytics, nz, ztics, grid_vals, frequency)\n"
     ]
    },
    {
     "data": {
      "image/png": "[encoded data removed]",
      "text/plain": [
       "<Figure size 432x288 with 1 Axes>"
      ]
     },
     "metadata": {
      "needs_background": "light"
     },
     "output_type": "display_data"
    }
   ],
   "source": [
    "gm.write_sparameters_meep(c, ymargin=3, run=False)"
   ]
  },
  {
   "cell_type": "code",
   "execution_count": 34,
   "metadata": {
    "execution": {
     "iopub.execute_input": "2022-06-30T06:12:38.854173Z",
     "iopub.status.busy": "2022-06-30T06:12:38.853832Z",
     "iopub.status.idle": "2022-06-30T06:12:38.901490Z",
     "shell.execute_reply": "2022-06-30T06:12:38.900918Z"
    }
   },
   "outputs": [
    {
     "name": "stderr",
     "output_type": "stream",
     "text": [
      "2022-06-30 06:12:38.859 | INFO     | gdsfactory.simulation.gmeep.write_sparameters_meep_batch:write_sparameters_meep_batch:139 - Simulation PosixPath('/home/runner/work/gdsfactory/gdsfactory/gdslib/sp/straight_length3p1_5332dc15.csv') not found. Adding it to the queue\n"
     ]
    },
    {
     "name": "stderr",
     "output_type": "stream",
     "text": [
      "2022-06-30 06:12:38.861 | INFO     | gdsfactory.simulation.gmeep.write_sparameters_meep_batch:write_sparameters_meep_batch:147 - Running 1 simulations\n"
     ]
    },
    {
     "name": "stderr",
     "output_type": "stream",
     "text": [
      "2022-06-30 06:12:38.863 | INFO     | gdsfactory.simulation.gmeep.write_sparameters_meep_batch:write_sparameters_meep_batch:148 - total_cores = 8 with cores_per_run = 4\n"
     ]
    },
    {
     "name": "stderr",
     "output_type": "stream",
     "text": [
      "2022-06-30 06:12:38.865 | INFO     | gdsfactory.simulation.gmeep.write_sparameters_meep_batch:write_sparameters_meep_batch:149 - Running 1 batches with up to 2 jobs each.\n"
     ]
    },
    {
     "data": {
      "application/vnd.jupyter.widget-view+json": {
       "model_id": "867d3617549149dda8b85f383f0cafe1",
       "version_major": 2,
       "version_minor": 0
      },
      "text/plain": [
       "  0%|          | 0/1 [00:00<?, ?it/s]"
      ]
     },
     "metadata": {},
     "output_type": "display_data"
    },
    {
     "name": "stderr",
     "output_type": "stream",
     "text": [
      "2022-06-30 06:12:38.894 | INFO     | gdsfactory.simulation.gmeep.write_sparameters_meep_batch:write_sparameters_meep_batch:160 - Task 0 of batch 0 is job 0\n"
     ]
    },
    {
     "name": "stderr",
     "output_type": "stream",
     "text": [
      "2022-06-30 06:12:38.896 | INFO     | gdsfactory.simulation.gmeep.write_sparameters_meep_mpi:write_sparameters_meep_mpi:140 - Simulation PosixPath('/home/runner/work/gdsfactory/gdsfactory/gdslib/sp/straight_length3p1_a2a4b59a.csv') already exists\n"
     ]
    },
    {
     "name": "stdout",
     "output_type": "stream",
     "text": [
      "{'component': straight_length3p1: uid 42, ports ['o1', 'o2'], aliases [], 4 polygons, 0 references,\n",
      " 'ymargin': 3}\n"
     ]
    }
   ],
   "source": [
    "c1_dict = {\"component\": c, \"ymargin\": 3}\n",
    "jobs = [\n",
    "    c1_dict,\n",
    "]\n",
    "\n",
    "filepaths = gm.write_sparameters_meep_batch_1x1(\n",
    "    jobs=jobs,\n",
    "    cores_per_run=4,\n",
    "    total_cores=8,\n",
    "    lazy_parallelism=True,\n",
    ")"
   ]
  },
  {
   "cell_type": "code",
   "execution_count": 35,
   "metadata": {
    "execution": {
     "iopub.execute_input": "2022-06-30T06:12:38.906323Z",
     "iopub.status.busy": "2022-06-30T06:12:38.905759Z",
     "iopub.status.idle": "2022-06-30T06:12:39.044680Z",
     "shell.execute_reply": "2022-06-30T06:12:39.043812Z"
    }
   },
   "outputs": [
    {
     "data": {
      "image/png": "[encoded data removed]",
      "text/plain": [
       "<Figure size 432x288 with 1 Axes>"
      ]
     },
     "metadata": {
      "needs_background": "light"
     },
     "output_type": "display_data"
    }
   ],
   "source": [
    "df = pd.read_csv(filepaths[0])\n",
    "gf.simulation.plot.plot_sparameters(df)"
   ]
  },
  {
   "cell_type": "code",
   "execution_count": 36,
   "metadata": {
    "execution": {
     "iopub.execute_input": "2022-06-30T06:12:39.049038Z",
     "iopub.status.busy": "2022-06-30T06:12:39.048456Z",
     "iopub.status.idle": "2022-06-30T06:12:39.204472Z",
     "shell.execute_reply": "2022-06-30T06:12:39.203541Z"
    }
   },
   "outputs": [
    {
     "data": {
      "image/png": "[encoded data removed]",
      "text/plain": [
       "<Figure size 432x288 with 1 Axes>"
      ]
     },
     "metadata": {
      "needs_background": "light"
     },
     "output_type": "display_data"
    },
    {
     "data": {
      "text/html": [
       "coupler_ring: uid 47, ports ['o2', 'o1', 'o3', 'o4'], aliases [], 0 polygons, 3 references"
      ],
      "text/plain": [
       "coupler_ring: uid 47, ports ['o2', 'o1', 'o3', 'o4'], aliases [], 0 polygons, 3 references"
      ]
     },
     "execution_count": 36,
     "metadata": {},
     "output_type": "execute_result"
    }
   ],
   "source": [
    "c = gf.components.coupler_ring()\n",
    "c"
   ]
  },
  {
   "cell_type": "code",
   "execution_count": 37,
   "metadata": {
    "execution": {
     "iopub.execute_input": "2022-06-30T06:12:39.208665Z",
     "iopub.status.busy": "2022-06-30T06:12:39.208158Z",
     "iopub.status.idle": "2022-06-30T06:12:45.087639Z",
     "shell.execute_reply": "2022-06-30T06:12:45.086737Z"
    }
   },
   "outputs": [
    {
     "name": "stderr",
     "output_type": "stream",
     "text": [
      "Warning: grid volume is not an integer number of pixels; cell size will be rounded to nearest pixel.\n"
     ]
    },
    {
     "name": "stderr",
     "output_type": "stream",
     "text": [
      "/usr/share/miniconda/envs/anaconda-client-env/lib/python3.9/site-packages/meep/__init__.py:4472: ComplexWarning: Casting complex values to real discards the imaginary part\n",
      "  return _meep._get_epsilon_grid(gobj_list, mlist, _default_material, _ensure_periodicity, gv, cell_size, cell_center, nx, xtics, ny, ytics, nz, ztics, grid_vals, frequency)\n"
     ]
    },
    {
     "data": {
      "image/png": "[encoded data removed]",
      "text/plain": [
       "<Figure size 432x288 with 1 Axes>"
      ]
     },
     "metadata": {
      "needs_background": "light"
     },
     "output_type": "display_data"
    }
   ],
   "source": [
    "p = 2.5\n",
    "gm.write_sparameters_meep(c, ymargin=0, ymargin_bot=p, xmargin=p, run=False)"
   ]
  },
  {
   "cell_type": "code",
   "execution_count": 38,
   "metadata": {
    "execution": {
     "iopub.execute_input": "2022-06-30T06:12:45.091866Z",
     "iopub.status.busy": "2022-06-30T06:12:45.091262Z",
     "iopub.status.idle": "2022-06-30T06:12:45.127562Z",
     "shell.execute_reply": "2022-06-30T06:12:45.126973Z"
    }
   },
   "outputs": [
    {
     "name": "stderr",
     "output_type": "stream",
     "text": [
      "2022-06-30 06:12:45.094 | INFO     | gdsfactory.simulation.gmeep.write_sparameters_meep_batch:write_sparameters_meep_batch:139 - Simulation PosixPath('/home/runner/work/gdsfactory/gdsfactory/gdslib/sp/coupler_ring_714aa5b6.csv') not found. Adding it to the queue\n"
     ]
    },
    {
     "name": "stderr",
     "output_type": "stream",
     "text": [
      "2022-06-30 06:12:45.096 | INFO     | gdsfactory.simulation.gmeep.write_sparameters_meep_batch:write_sparameters_meep_batch:147 - Running 1 simulations\n"
     ]
    },
    {
     "name": "stderr",
     "output_type": "stream",
     "text": [
      "2022-06-30 06:12:45.097 | INFO     | gdsfactory.simulation.gmeep.write_sparameters_meep_batch:write_sparameters_meep_batch:148 - total_cores = 8 with cores_per_run = 4\n"
     ]
    },
    {
     "name": "stderr",
     "output_type": "stream",
     "text": [
      "2022-06-30 06:12:45.098 | INFO     | gdsfactory.simulation.gmeep.write_sparameters_meep_batch:write_sparameters_meep_batch:149 - Running 1 batches with up to 2 jobs each.\n"
     ]
    },
    {
     "data": {
      "application/vnd.jupyter.widget-view+json": {
       "model_id": "25137af6a2d14222884df35c99b3571f",
       "version_major": 2,
       "version_minor": 0
      },
      "text/plain": [
       "  0%|          | 0/1 [00:00<?, ?it/s]"
      ]
     },
     "metadata": {},
     "output_type": "display_data"
    },
    {
     "name": "stderr",
     "output_type": "stream",
     "text": [
      "2022-06-30 06:12:45.119 | INFO     | gdsfactory.simulation.gmeep.write_sparameters_meep_batch:write_sparameters_meep_batch:160 - Task 0 of batch 0 is job 0\n"
     ]
    },
    {
     "name": "stderr",
     "output_type": "stream",
     "text": [
      "2022-06-30 06:12:45.122 | INFO     | gdsfactory.simulation.gmeep.write_sparameters_meep_mpi:write_sparameters_meep_mpi:140 - Simulation PosixPath('/home/runner/work/gdsfactory/gdsfactory/gdslib/sp/coupler_ring_eea93f16.csv') already exists\n"
     ]
    },
    {
     "name": "stdout",
     "output_type": "stream",
     "text": [
      "{'component': coupler_ring: uid 47, ports ['o2', 'o1', 'o3', 'o4'], aliases [], 0 polygons, 3 references,\n",
      " 'xmargin': 2.5,\n",
      " 'ymargin': 0,\n",
      " 'ymargin_bot': 2.5}\n"
     ]
    }
   ],
   "source": [
    "c1_dict = dict(\n",
    "    component=c,\n",
    "    ymargin=0,\n",
    "    ymargin_bot=p,\n",
    "    xmargin=p,\n",
    ")\n",
    "jobs = [c1_dict]\n",
    "\n",
    "filepaths = gm.write_sparameters_meep_batch(\n",
    "    jobs=jobs,\n",
    "    cores_per_run=4,\n",
    "    total_cores=8,\n",
    "    delete_temp_files=False,\n",
    "    lazy_parallelism=True,\n",
    ")"
   ]
  },
  {
   "cell_type": "code",
   "execution_count": 39,
   "metadata": {
    "execution": {
     "iopub.execute_input": "2022-06-30T06:12:45.131570Z",
     "iopub.status.busy": "2022-06-30T06:12:45.131235Z",
     "iopub.status.idle": "2022-06-30T06:12:45.138404Z",
     "shell.execute_reply": "2022-06-30T06:12:45.137566Z"
    }
   },
   "outputs": [],
   "source": [
    "df = pd.read_csv(filepaths[0])"
   ]
  },
  {
   "cell_type": "code",
   "execution_count": 40,
   "metadata": {
    "execution": {
     "iopub.execute_input": "2022-06-30T06:12:45.142544Z",
     "iopub.status.busy": "2022-06-30T06:12:45.142191Z",
     "iopub.status.idle": "2022-06-30T06:12:45.355122Z",
     "shell.execute_reply": "2022-06-30T06:12:45.354435Z"
    }
   },
   "outputs": [
    {
     "data": {
      "image/png": "[encoded data removed]",
      "text/plain": [
       "<Figure size 432x288 with 1 Axes>"
      ]
     },
     "metadata": {
      "needs_background": "light"
     },
     "output_type": "display_data"
    }
   ],
   "source": [
    "gm.plot.plot_sparameters(df)"
   ]
  },
  {
   "cell_type": "code",
   "execution_count": 41,
   "metadata": {
    "execution": {
     "iopub.execute_input": "2022-06-30T06:12:45.359350Z",
     "iopub.status.busy": "2022-06-30T06:12:45.358780Z",
     "iopub.status.idle": "2022-06-30T06:12:45.486241Z",
     "shell.execute_reply": "2022-06-30T06:12:45.485326Z"
    }
   },
   "outputs": [
    {
     "data": {
      "image/png": "[encoded data removed]",
      "text/plain": [
       "<Figure size 432x288 with 1 Axes>"
      ]
     },
     "metadata": {
      "needs_background": "light"
     },
     "output_type": "display_data"
    }
   ],
   "source": [
    "gm.plot.plot_sparameters(df, keys=[\"s31m\", \"s41m\"])"
   ]
  },
  {
   "cell_type": "code",
   "execution_count": 42,
   "metadata": {
    "execution": {
     "iopub.execute_input": "2022-06-30T06:12:45.490693Z",
     "iopub.status.busy": "2022-06-30T06:12:45.490176Z",
     "iopub.status.idle": "2022-06-30T06:12:45.605540Z",
     "shell.execute_reply": "2022-06-30T06:12:45.604669Z"
    }
   },
   "outputs": [
    {
     "data": {
      "image/png": "[encoded data removed]",
      "text/plain": [
       "<Figure size 432x288 with 1 Axes>"
      ]
     },
     "metadata": {
      "needs_background": "light"
     },
     "output_type": "display_data"
    }
   ],
   "source": [
    "gm.plot.plot_sparameters(df, keys=[\"s31m\"])"
   ]
  },
  {
   "cell_type": "code",
   "execution_count": 43,
   "metadata": {
    "execution": {
     "iopub.execute_input": "2022-06-30T06:12:45.610917Z",
     "iopub.status.busy": "2022-06-30T06:12:45.610579Z",
     "iopub.status.idle": "2022-06-30T06:12:45.729883Z",
     "shell.execute_reply": "2022-06-30T06:12:45.729166Z"
    }
   },
   "outputs": [
    {
     "data": {
      "image/png": "[encoded data removed]",
      "text/plain": [
       "<Figure size 432x288 with 1 Axes>"
      ]
     },
     "metadata": {
      "needs_background": "light"
     },
     "output_type": "display_data"
    }
   ],
   "source": [
    "gm.plot.plot_sparameters(df, keys=[\"s41m\"])"
   ]
  }
 ],
 "metadata": {
  "kernelspec": {
   "display_name": "Python 3 (ipykernel)",
   "language": "python",
   "name": "python3"
  },
  "language_info": {
   "codemirror_mode": {
    "name": "ipython",
    "version": 3
   },
   "file_extension": ".py",
   "mimetype": "text/x-python",
   "name": "python",
   "nbconvert_exporter": "python",
   "pygments_lexer": "ipython3",
   "version": "3.9.13"
  },
  "widgets": {
   "application/vnd.jupyter.widget-state+json": {
    "state": {
     "156e47368e94479f9f713a5c34100742": {
      "model_module": "@jupyter-widgets/base",
      "model_module_version": "1.2.0",
      "model_name": "LayoutModel",
      "state": {
       "_model_module": "@jupyter-widgets/base",
       "_model_module_version": "1.2.0",
       "_model_name": "LayoutModel",
       "_view_count": null,
       "_view_module": "@jupyter-widgets/base",
       "_view_module_version": "1.2.0",
       "_view_name": "LayoutView",
       "align_content": null,
       "align_items": null,
       "align_self": null,
       "border": null,
       "bottom": null,
       "display": null,
       "flex": null,
       "flex_flow": null,
       "grid_area": null,
       "grid_auto_columns": null,
       "grid_auto_flow": null,
       "grid_auto_rows": null,
       "grid_column": null,
       "grid_gap": null,
       "grid_row": null,
       "grid_template_areas": null,
       "grid_template_columns": null,
       "grid_template_rows": null,
       "height": null,
       "justify_content": null,
       "justify_items": null,
       "left": null,
       "margin": null,
       "max_height": null,
       "max_width": null,
       "min_height": null,
       "min_width": null,
       "object_fit": null,
       "object_position": null,
       "order": null,
       "overflow": null,
       "overflow_x": null,
       "overflow_y": null,
       "padding": null,
       "right": null,
       "top": null,
       "visibility": null,
       "width": null
      }
     },
     "1dcfa5916fba43868ea712dc06e9cf71": {
      "model_module": "@jupyter-widgets/controls",
      "model_module_version": "1.5.0",
      "model_name": "ProgressStyleModel",
      "state": {
       "_model_module": "@jupyter-widgets/controls",
       "_model_module_version": "1.5.0",
       "_model_name": "ProgressStyleModel",
       "_view_count": null,
       "_view_module": "@jupyter-widgets/base",
       "_view_module_version": "1.2.0",
       "_view_name": "StyleView",
       "bar_color": null,
       "description_width": ""
      }
     },
     "21a06d803a954be4a0742a638433c1de": {
      "model_module": "@jupyter-widgets/controls",
      "model_module_version": "1.5.0",
      "model_name": "DescriptionStyleModel",
      "state": {
       "_model_module": "@jupyter-widgets/controls",
       "_model_module_version": "1.5.0",
       "_model_name": "DescriptionStyleModel",
       "_view_count": null,
       "_view_module": "@jupyter-widgets/base",
       "_view_module_version": "1.2.0",
       "_view_name": "StyleView",
       "description_width": ""
      }
     },
     "25137af6a2d14222884df35c99b3571f": {
      "model_module": "@jupyter-widgets/controls",
      "model_module_version": "1.5.0",
      "model_name": "HBoxModel",
      "state": {
       "_dom_classes": [],
       "_model_module": "@jupyter-widgets/controls",
       "_model_module_version": "1.5.0",
       "_model_name": "HBoxModel",
       "_view_count": null,
       "_view_module": "@jupyter-widgets/controls",
       "_view_module_version": "1.5.0",
       "_view_name": "HBoxView",
       "box_style": "",
       "children": [
        "IPY_MODEL_87bc3bbcfed6473a8ca94588c9abbf91",
        "IPY_MODEL_9de2394ee39e4aa1871950e5034c4fd3",
        "IPY_MODEL_8f02d473e41742898381fcd5f639a0ef"
       ],
       "layout": "IPY_MODEL_adfc705fc1dd448c946aedf030995981"
      }
     },
     "30de131fbc154ba7ad37dec3814bf55e": {
      "model_module": "@jupyter-widgets/controls",
      "model_module_version": "1.5.0",
      "model_name": "HTMLModel",
      "state": {
       "_dom_classes": [],
       "_model_module": "@jupyter-widgets/controls",
       "_model_module_version": "1.5.0",
       "_model_name": "HTMLModel",
       "_view_count": null,
       "_view_module": "@jupyter-widgets/controls",
       "_view_module_version": "1.5.0",
       "_view_name": "HTMLView",
       "description": "",
       "description_tooltip": null,
       "layout": "IPY_MODEL_9e96089f5c62480881c5678937d2ceaf",
       "placeholder": "​",
       "style": "IPY_MODEL_e9845a3b8a964389a483766f81aebc36",
       "value": "100%"
      }
     },
     "3d8d647c99894bfd930ac22089075278": {
      "model_module": "@jupyter-widgets/base",
      "model_module_version": "1.2.0",
      "model_name": "LayoutModel",
      "state": {
       "_model_module": "@jupyter-widgets/base",
       "_model_module_version": "1.2.0",
       "_model_name": "LayoutModel",
       "_view_count": null,
       "_view_module": "@jupyter-widgets/base",
       "_view_module_version": "1.2.0",
       "_view_name": "LayoutView",
       "align_content": null,
       "align_items": null,
       "align_self": null,
       "border": null,
       "bottom": null,
       "display": null,
       "flex": null,
       "flex_flow": null,
       "grid_area": null,
       "grid_auto_columns": null,
       "grid_auto_flow": null,
       "grid_auto_rows": null,
       "grid_column": null,
       "grid_gap": null,
       "grid_row": null,
       "grid_template_areas": null,
       "grid_template_columns": null,
       "grid_template_rows": null,
       "height": null,
       "justify_content": null,
       "justify_items": null,
       "left": null,
       "margin": null,
       "max_height": null,
       "max_width": null,
       "min_height": null,
       "min_width": null,
       "object_fit": null,
       "object_position": null,
       "order": null,
       "overflow": null,
       "overflow_x": null,
       "overflow_y": null,
       "padding": null,
       "right": null,
       "top": null,
       "visibility": null,
       "width": null
      }
     },
     "58ba3dadee474cdcb485643d23e505e9": {
      "model_module": "@jupyter-widgets/base",
      "model_module_version": "1.2.0",
      "model_name": "LayoutModel",
      "state": {
       "_model_module": "@jupyter-widgets/base",
       "_model_module_version": "1.2.0",
       "_model_name": "LayoutModel",
       "_view_count": null,
       "_view_module": "@jupyter-widgets/base",
       "_view_module_version": "1.2.0",
       "_view_name": "LayoutView",
       "align_content": null,
       "align_items": null,
       "align_self": null,
       "border": null,
       "bottom": null,
       "display": null,
       "flex": null,
       "flex_flow": null,
       "grid_area": null,
       "grid_auto_columns": null,
       "grid_auto_flow": null,
       "grid_auto_rows": null,
       "grid_column": null,
       "grid_gap": null,
       "grid_row": null,
       "grid_template_areas": null,
       "grid_template_columns": null,
       "grid_template_rows": null,
       "height": null,
       "justify_content": null,
       "justify_items": null,
       "left": null,
       "margin": null,
       "max_height": null,
       "max_width": null,
       "min_height": null,
       "min_width": null,
       "object_fit": null,
       "object_position": null,
       "order": null,
       "overflow": null,
       "overflow_x": null,
       "overflow_y": null,
       "padding": null,
       "right": null,
       "top": null,
       "visibility": null,
       "width": null
      }
     },
     "707bdff5583d450e98526a80ecdf4742": {
      "model_module": "@jupyter-widgets/controls",
      "model_module_version": "1.5.0",
      "model_name": "DescriptionStyleModel",
      "state": {
       "_model_module": "@jupyter-widgets/controls",
       "_model_module_version": "1.5.0",
       "_model_name": "DescriptionStyleModel",
       "_view_count": null,
       "_view_module": "@jupyter-widgets/base",
       "_view_module_version": "1.2.0",
       "_view_name": "StyleView",
       "description_width": ""
      }
     },
     "8480f79edab84c18b7d2daadafd8ea27": {
      "model_module": "@jupyter-widgets/controls",
      "model_module_version": "1.5.0",
      "model_name": "FloatProgressModel",
      "state": {
       "_dom_classes": [],
       "_model_module": "@jupyter-widgets/controls",
       "_model_module_version": "1.5.0",
       "_model_name": "FloatProgressModel",
       "_view_count": null,
       "_view_module": "@jupyter-widgets/controls",
       "_view_module_version": "1.5.0",
       "_view_name": "ProgressView",
       "bar_style": "success",
       "description": "",
       "description_tooltip": null,
       "layout": "IPY_MODEL_d3c8757ee1664f0cb12d3e2bdbd65811",
       "max": 1.0,
       "min": 0.0,
       "orientation": "horizontal",
       "style": "IPY_MODEL_1dcfa5916fba43868ea712dc06e9cf71",
       "value": 1.0
      }
     },
     "867d3617549149dda8b85f383f0cafe1": {
      "model_module": "@jupyter-widgets/controls",
      "model_module_version": "1.5.0",
      "model_name": "HBoxModel",
      "state": {
       "_dom_classes": [],
       "_model_module": "@jupyter-widgets/controls",
       "_model_module_version": "1.5.0",
       "_model_name": "HBoxModel",
       "_view_count": null,
       "_view_module": "@jupyter-widgets/controls",
       "_view_module_version": "1.5.0",
       "_view_name": "HBoxView",
       "box_style": "",
       "children": [
        "IPY_MODEL_30de131fbc154ba7ad37dec3814bf55e",
        "IPY_MODEL_8480f79edab84c18b7d2daadafd8ea27",
        "IPY_MODEL_93b8100109ec4526af546639b2a45771"
       ],
       "layout": "IPY_MODEL_a3bc0ff1c28d4b21b29a9a8c17b48693"
      }
     },
     "87bc3bbcfed6473a8ca94588c9abbf91": {
      "model_module": "@jupyter-widgets/controls",
      "model_module_version": "1.5.0",
      "model_name": "HTMLModel",
      "state": {
       "_dom_classes": [],
       "_model_module": "@jupyter-widgets/controls",
       "_model_module_version": "1.5.0",
       "_model_name": "HTMLModel",
       "_view_count": null,
       "_view_module": "@jupyter-widgets/controls",
       "_view_module_version": "1.5.0",
       "_view_name": "HTMLView",
       "description": "",
       "description_tooltip": null,
       "layout": "IPY_MODEL_3d8d647c99894bfd930ac22089075278",
       "placeholder": "​",
       "style": "IPY_MODEL_91e72b8018574494982601fef39fd0b0",
       "value": "100%"
      }
     },
     "8f02d473e41742898381fcd5f639a0ef": {
      "model_module": "@jupyter-widgets/controls",
      "model_module_version": "1.5.0",
      "model_name": "HTMLModel",
      "state": {
       "_dom_classes": [],
       "_model_module": "@jupyter-widgets/controls",
       "_model_module_version": "1.5.0",
       "_model_name": "HTMLModel",
       "_view_count": null,
       "_view_module": "@jupyter-widgets/controls",
       "_view_module_version": "1.5.0",
       "_view_name": "HTMLView",
       "description": "",
       "description_tooltip": null,
       "layout": "IPY_MODEL_f6df7d7e7cad412facd7e11b89ceb673",
       "placeholder": "​",
       "style": "IPY_MODEL_707bdff5583d450e98526a80ecdf4742",
       "value": " 1/1 [00:00&lt;00:00, 41.29it/s]"
      }
     },
     "91e72b8018574494982601fef39fd0b0": {
      "model_module": "@jupyter-widgets/controls",
      "model_module_version": "1.5.0",
      "model_name": "DescriptionStyleModel",
      "state": {
       "_model_module": "@jupyter-widgets/controls",
       "_model_module_version": "1.5.0",
       "_model_name": "DescriptionStyleModel",
       "_view_count": null,
       "_view_module": "@jupyter-widgets/base",
       "_view_module_version": "1.2.0",
       "_view_name": "StyleView",
       "description_width": ""
      }
     },
     "93b8100109ec4526af546639b2a45771": {
      "model_module": "@jupyter-widgets/controls",
      "model_module_version": "1.5.0",
      "model_name": "HTMLModel",
      "state": {
       "_dom_classes": [],
       "_model_module": "@jupyter-widgets/controls",
       "_model_module_version": "1.5.0",
       "_model_name": "HTMLModel",
       "_view_count": null,
       "_view_module": "@jupyter-widgets/controls",
       "_view_module_version": "1.5.0",
       "_view_name": "HTMLView",
       "description": "",
       "description_tooltip": null,
       "layout": "IPY_MODEL_58ba3dadee474cdcb485643d23e505e9",
       "placeholder": "​",
       "style": "IPY_MODEL_21a06d803a954be4a0742a638433c1de",
       "value": " 1/1 [00:00&lt;00:00, 37.05it/s]"
      }
     },
     "9de2394ee39e4aa1871950e5034c4fd3": {
      "model_module": "@jupyter-widgets/controls",
      "model_module_version": "1.5.0",
      "model_name": "FloatProgressModel",
      "state": {
       "_dom_classes": [],
       "_model_module": "@jupyter-widgets/controls",
       "_model_module_version": "1.5.0",
       "_model_name": "FloatProgressModel",
       "_view_count": null,
       "_view_module": "@jupyter-widgets/controls",
       "_view_module_version": "1.5.0",
       "_view_name": "ProgressView",
       "bar_style": "success",
       "description": "",
       "description_tooltip": null,
       "layout": "IPY_MODEL_156e47368e94479f9f713a5c34100742",
       "max": 1.0,
       "min": 0.0,
       "orientation": "horizontal",
       "style": "IPY_MODEL_edb334c5b164423da7e1fc29e5e3dd3a",
       "value": 1.0
      }
     },
     "9e96089f5c62480881c5678937d2ceaf": {
      "model_module": "@jupyter-widgets/base",
      "model_module_version": "1.2.0",
      "model_name": "LayoutModel",
      "state": {
       "_model_module": "@jupyter-widgets/base",
       "_model_module_version": "1.2.0",
       "_model_name": "LayoutModel",
       "_view_count": null,
       "_view_module": "@jupyter-widgets/base",
       "_view_module_version": "1.2.0",
       "_view_name": "LayoutView",
       "align_content": null,
       "align_items": null,
       "align_self": null,
       "border": null,
       "bottom": null,
       "display": null,
       "flex": null,
       "flex_flow": null,
       "grid_area": null,
       "grid_auto_columns": null,
       "grid_auto_flow": null,
       "grid_auto_rows": null,
       "grid_column": null,
       "grid_gap": null,
       "grid_row": null,
       "grid_template_areas": null,
       "grid_template_columns": null,
       "grid_template_rows": null,
       "height": null,
       "justify_content": null,
       "justify_items": null,
       "left": null,
       "margin": null,
       "max_height": null,
       "max_width": null,
       "min_height": null,
       "min_width": null,
       "object_fit": null,
       "object_position": null,
       "order": null,
       "overflow": null,
       "overflow_x": null,
       "overflow_y": null,
       "padding": null,
       "right": null,
       "top": null,
       "visibility": null,
       "width": null
      }
     },
     "a3bc0ff1c28d4b21b29a9a8c17b48693": {
      "model_module": "@jupyter-widgets/base",
      "model_module_version": "1.2.0",
      "model_name": "LayoutModel",
      "state": {
       "_model_module": "@jupyter-widgets/base",
       "_model_module_version": "1.2.0",
       "_model_name": "LayoutModel",
       "_view_count": null,
       "_view_module": "@jupyter-widgets/base",
       "_view_module_version": "1.2.0",
       "_view_name": "LayoutView",
       "align_content": null,
       "align_items": null,
       "align_self": null,
       "border": null,
       "bottom": null,
       "display": null,
       "flex": null,
       "flex_flow": null,
       "grid_area": null,
       "grid_auto_columns": null,
       "grid_auto_flow": null,
       "grid_auto_rows": null,
       "grid_column": null,
       "grid_gap": null,
       "grid_row": null,
       "grid_template_areas": null,
       "grid_template_columns": null,
       "grid_template_rows": null,
       "height": null,
       "justify_content": null,
       "justify_items": null,
       "left": null,
       "margin": null,
       "max_height": null,
       "max_width": null,
       "min_height": null,
       "min_width": null,
       "object_fit": null,
       "object_position": null,
       "order": null,
       "overflow": null,
       "overflow_x": null,
       "overflow_y": null,
       "padding": null,
       "right": null,
       "top": null,
       "visibility": null,
       "width": null
      }
     },
     "adfc705fc1dd448c946aedf030995981": {
      "model_module": "@jupyter-widgets/base",
      "model_module_version": "1.2.0",
      "model_name": "LayoutModel",
      "state": {
       "_model_module": "@jupyter-widgets/base",
       "_model_module_version": "1.2.0",
       "_model_name": "LayoutModel",
       "_view_count": null,
       "_view_module": "@jupyter-widgets/base",
       "_view_module_version": "1.2.0",
       "_view_name": "LayoutView",
       "align_content": null,
       "align_items": null,
       "align_self": null,
       "border": null,
       "bottom": null,
       "display": null,
       "flex": null,
       "flex_flow": null,
       "grid_area": null,
       "grid_auto_columns": null,
       "grid_auto_flow": null,
       "grid_auto_rows": null,
       "grid_column": null,
       "grid_gap": null,
       "grid_row": null,
       "grid_template_areas": null,
       "grid_template_columns": null,
       "grid_template_rows": null,
       "height": null,
       "justify_content": null,
       "justify_items": null,
       "left": null,
       "margin": null,
       "max_height": null,
       "max_width": null,
       "min_height": null,
       "min_width": null,
       "object_fit": null,
       "object_position": null,
       "order": null,
       "overflow": null,
       "overflow_x": null,
       "overflow_y": null,
       "padding": null,
       "right": null,
       "top": null,
       "visibility": null,
       "width": null
      }
     },
     "d3c8757ee1664f0cb12d3e2bdbd65811": {
      "model_module": "@jupyter-widgets/base",
      "model_module_version": "1.2.0",
      "model_name": "LayoutModel",
      "state": {
       "_model_module": "@jupyter-widgets/base",
       "_model_module_version": "1.2.0",
       "_model_name": "LayoutModel",
       "_view_count": null,
       "_view_module": "@jupyter-widgets/base",
       "_view_module_version": "1.2.0",
       "_view_name": "LayoutView",
       "align_content": null,
       "align_items": null,
       "align_self": null,
       "border": null,
       "bottom": null,
       "display": null,
       "flex": null,
       "flex_flow": null,
       "grid_area": null,
       "grid_auto_columns": null,
       "grid_auto_flow": null,
       "grid_auto_rows": null,
       "grid_column": null,
       "grid_gap": null,
       "grid_row": null,
       "grid_template_areas": null,
       "grid_template_columns": null,
       "grid_template_rows": null,
       "height": null,
       "justify_content": null,
       "justify_items": null,
       "left": null,
       "margin": null,
       "max_height": null,
       "max_width": null,
       "min_height": null,
       "min_width": null,
       "object_fit": null,
       "object_position": null,
       "order": null,
       "overflow": null,
       "overflow_x": null,
       "overflow_y": null,
       "padding": null,
       "right": null,
       "top": null,
       "visibility": null,
       "width": null
      }
     },
     "e9845a3b8a964389a483766f81aebc36": {
      "model_module": "@jupyter-widgets/controls",
      "model_module_version": "1.5.0",
      "model_name": "DescriptionStyleModel",
      "state": {
       "_model_module": "@jupyter-widgets/controls",
       "_model_module_version": "1.5.0",
       "_model_name": "DescriptionStyleModel",
       "_view_count": null,
       "_view_module": "@jupyter-widgets/base",
       "_view_module_version": "1.2.0",
       "_view_name": "StyleView",
       "description_width": ""
      }
     },
     "edb334c5b164423da7e1fc29e5e3dd3a": {
      "model_module": "@jupyter-widgets/controls",
      "model_module_version": "1.5.0",
      "model_name": "ProgressStyleModel",
      "state": {
       "_model_module": "@jupyter-widgets/controls",
       "_model_module_version": "1.5.0",
       "_model_name": "ProgressStyleModel",
       "_view_count": null,
       "_view_module": "@jupyter-widgets/base",
       "_view_module_version": "1.2.0",
       "_view_name": "StyleView",
       "bar_color": null,
       "description_width": ""
      }
     },
     "f6df7d7e7cad412facd7e11b89ceb673": {
      "model_module": "@jupyter-widgets/base",
      "model_module_version": "1.2.0",
      "model_name": "LayoutModel",
      "state": {
       "_model_module": "@jupyter-widgets/base",
       "_model_module_version": "1.2.0",
       "_model_name": "LayoutModel",
       "_view_count": null,
       "_view_module": "@jupyter-widgets/base",
       "_view_module_version": "1.2.0",
       "_view_name": "LayoutView",
       "align_content": null,
       "align_items": null,
       "align_self": null,
       "border": null,
       "bottom": null,
       "display": null,
       "flex": null,
       "flex_flow": null,
       "grid_area": null,
       "grid_auto_columns": null,
       "grid_auto_flow": null,
       "grid_auto_rows": null,
       "grid_column": null,
       "grid_gap": null,
       "grid_row": null,
       "grid_template_areas": null,
       "grid_template_columns": null,
       "grid_template_rows": null,
       "height": null,
       "justify_content": null,
       "justify_items": null,
       "left": null,
       "margin": null,
       "max_height": null,
       "max_width": null,
       "min_height": null,
       "min_width": null,
       "object_fit": null,
       "object_position": null,
       "order": null,
       "overflow": null,
       "overflow_x": null,
       "overflow_y": null,
       "padding": null,
       "right": null,
       "top": null,
       "visibility": null,
       "width": null
      }
     }
    },
    "version_major": 2,
    "version_minor": 0
   }
  }
 },
 "nbformat": 4,
 "nbformat_minor": 4
}
